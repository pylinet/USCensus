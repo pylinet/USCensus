{
 "cells": [
  {
   "cell_type": "code",
   "execution_count": 2,
   "id": "funded-calibration",
   "metadata": {},
   "outputs": [
    {
     "ename": "ModuleNotFoundError",
     "evalue": "No module named 'Config'",
     "output_type": "error",
     "traceback": [
      "\u001b[1;31m---------------------------------------------------------------------------\u001b[0m",
      "\u001b[1;31mModuleNotFoundError\u001b[0m                       Traceback (most recent call last)",
      "\u001b[1;32m<ipython-input-2-789fdee43bed>\u001b[0m in \u001b[0;36m<module>\u001b[1;34m\u001b[0m\n\u001b[0;32m      5\u001b[0m \u001b[1;32mimport\u001b[0m \u001b[0mrequests\u001b[0m\u001b[1;33m\u001b[0m\u001b[1;33m\u001b[0m\u001b[0m\n\u001b[0;32m      6\u001b[0m \u001b[1;33m\u001b[0m\u001b[0m\n\u001b[1;32m----> 7\u001b[1;33m \u001b[1;32mfrom\u001b[0m \u001b[0mConfig\u001b[0m \u001b[1;32mimport\u001b[0m \u001b[0mconfig\u001b[0m \u001b[1;32mas\u001b[0m \u001b[0mc\u001b[0m\u001b[1;33m\u001b[0m\u001b[1;33m\u001b[0m\u001b[0m\n\u001b[0m",
      "\u001b[1;31mModuleNotFoundError\u001b[0m: No module named 'Config'"
     ]
    }
   ],
   "source": [
    "# import packages\n",
    "\n",
    "from us import states\n",
    "import pandas as pd\n",
    "import requests\n",
    "\n",
    "from Config import config as c"
   ]
  },
  {
   "cell_type": "code",
   "execution_count": null,
   "id": "exclusive-eligibility",
   "metadata": {},
   "outputs": [],
   "source": [
    "# convert response to dataframe\n",
    "# read about this later\n",
    "\n",
    "def json_to_dataframe(response):\n",
    "    return pd.DataFrame(response.json()[1:], columns=response.json()[0])"
   ]
  },
  {
   "cell_type": "code",
   "execution_count": null,
   "id": "immediate-witch",
   "metadata": {},
   "outputs": [],
   "source": [
    "def schoolDistrictInput(variables,strings):\n",
    "    URL = \"https://api.census.gov/data/2019/acs/acs5?get=NAME,{0}&for=school%20district%20(unified):{1}&in=state:36&key={2}\".format(variables,strings,config.MY_API_KEY)\n",
    "    return requests.request(\"GET\", URL)"
   ]
  },
  {
   "cell_type": "code",
   "execution_count": null,
   "id": "standard-television",
   "metadata": {},
   "outputs": [],
   "source": [
    "# create data frame of responses\n",
    "def dataFrame(responses):\n",
    "    return json_to_dataframe(responses)"
   ]
  },
  {
   "cell_type": "code",
   "execution_count": null,
   "id": "racial-effects",
   "metadata": {},
   "outputs": [],
   "source": [
    "# read CSV with selected school districts - this is user defined!\n",
    "\n",
    "NYCounties = pd.read_csv(r\"Data\\USCensusNYSchDist.txt\", names=['School District Name'])"
   ]
  },
  {
   "cell_type": "code",
   "execution_count": null,
   "id": "numeric-phrase",
   "metadata": {},
   "outputs": [],
   "source": [
    "# read Census data set which lists GEOIDs per each school district in state\n",
    "\n",
    "URL = (\"https://www2.census.gov/geo/docs/reference/codes/files/st36_ny_schdist.txt\")\n",
    "data = pd.read_csv(URL,names=['State', 'ID','GEOID','School District Name', 'Class'])"
   ]
  },
  {
   "cell_type": "code",
   "execution_count": null,
   "id": "endangered-junior",
   "metadata": {},
   "outputs": [],
   "source": [
    "# why did merge work instead of join?\n",
    "\n",
    "joined = NYCounties.merge(data, on=['School District Name'], how='inner')\n",
    "joined"
   ]
  },
  {
   "cell_type": "code",
   "execution_count": null,
   "id": "different-papua",
   "metadata": {},
   "outputs": [],
   "source": [
    "# get all GEO IDs\n",
    "\n",
    "GEOIDonly = joined['GEOID'].tolist()\n",
    "GEOIDonly"
   ]
  },
  {
   "cell_type": "code",
   "execution_count": null,
   "id": "wired-huntington",
   "metadata": {},
   "outputs": [],
   "source": [
    "# get all GEO IDs\n",
    "\n",
    "GEOIDonly = joined['GEOID'].tolist()\n",
    "separator = ', '\n",
    "GEOIDonlystring = map(str, GEOIDonly)\n",
    "x = separator.join(GEOIDonlystring)\n",
    "print(x)"
   ]
  },
  {
   "cell_type": "code",
   "execution_count": null,
   "id": "virtual-herald",
   "metadata": {},
   "outputs": [],
   "source": [
    "# census variables\n",
    "\n",
    "cenVar = 'B01001_001E'"
   ]
  },
  {
   "cell_type": "code",
   "execution_count": null,
   "id": "sized-ethics",
   "metadata": {},
   "outputs": [],
   "source": [
    "testResponse3 = schoolDistrictInput(cenVar, x)\n",
    "dataFrame(testResponse3)"
   ]
  },
  {
   "cell_type": "code",
   "execution_count": null,
   "id": "pharmaceutical-effects",
   "metadata": {},
   "outputs": [],
   "source": [
    "# Responses are usually a list of list in the form of a string\n",
    "# Each sub list is a row of data, with the first being the header names.\n",
    "# Each item is double quoted. We need to fix this when we move into pandas.\n",
    "\n",
    "print(testResponse3.text)"
   ]
  },
  {
   "cell_type": "code",
   "execution_count": null,
   "id": "boolean-salad",
   "metadata": {},
   "outputs": [],
   "source": [
    "# JSON method response is a list of lists\n",
    "\n",
    "print(testResponse3.json())"
   ]
  },
  {
   "cell_type": "code",
   "execution_count": null,
   "id": "transparent-thickness",
   "metadata": {},
   "outputs": [],
   "source": [
    "column_names = ['name', 'population', 'state', 'school GEOID']"
   ]
  },
  {
   "cell_type": "code",
   "execution_count": null,
   "id": "specific-agreement",
   "metadata": {},
   "outputs": [],
   "source": [
    "# construct data frame\n",
    "# new column names get passed, json list of lists get passed through data param\n",
    "# use slicing to skip row 0, which is the header\n",
    "\n",
    "df = pd.DataFrame(columns=column_names, data=testResponse3.json()[1:])\n",
    "\n",
    "# changes data type to integer from string\n",
    "df[\"population\"] = df[\"population\"].astype(int)\n",
    "\n",
    "df"
   ]
  },
  {
   "cell_type": "code",
   "execution_count": null,
   "id": "reported-shadow",
   "metadata": {},
   "outputs": [],
   "source": [
    "# Census Table Reference https://data.census.gov/cedsci/table?q=population&tid=ACSDP5Y2019.DP05&hidePreview=true\n",
    "\n",
    "testURL = \"https://api.census.gov/data/2019/acs/acs5/profile?get=group(DP05)&for=school%20district%20(unified):29850&in=state:36&key={0}\".format(config.MY_API_KEY)\n",
    "test = requests.request(\"GET\", testURL)\n",
    "print(test.text)\n",
    "y = dataFrame(test)\n"
   ]
  },
  {
   "cell_type": "code",
   "execution_count": null,
   "id": "deluxe-publisher",
   "metadata": {},
   "outputs": [],
   "source": [
    "y"
   ]
  },
  {
   "cell_type": "code",
   "execution_count": null,
   "id": "exclusive-roommate",
   "metadata": {},
   "outputs": [],
   "source": [
    "# Census Table Reference https://data.census.gov/cedsci/table?q=population&tid=ACSDP5Y2019.DP05&hidePreview=true\n",
    "\n",
    "testURL2 = \"https://api.census.gov/data/2019/acs/acs5/profile?get=NAME,DP05_0001E&for=state:36&key={0}\".format(config.MY_API_KEY)\n",
    "test2 = requests.request(\"GET\", testURL2)\n",
    "print(test2.text)\n"
   ]
  },
  {
   "cell_type": "code",
   "execution_count": null,
   "id": "together-issue",
   "metadata": {},
   "outputs": [],
   "source": [
    "testURL3 = \"https://api.census.gov/data/2019/acs/acs5/profile/variables\"\n",
    "test3 = requests.request(\"GET\", testURL3)\n",
    "print(test3.text)"
   ]
  },
  {
   "cell_type": "code",
   "execution_count": null,
   "id": "gross-structure",
   "metadata": {},
   "outputs": [],
   "source": [
    "x = json_to_dataframe(test3)\n",
    "x"
   ]
  }
 ],
 "metadata": {
  "kernelspec": {
   "display_name": "Python 3",
   "language": "python",
   "name": "python3"
  },
  "language_info": {
   "codemirror_mode": {
    "name": "ipython",
    "version": 3
   },
   "file_extension": ".py",
   "mimetype": "text/x-python",
   "name": "python",
   "nbconvert_exporter": "python",
   "pygments_lexer": "ipython3",
   "version": "3.9.1"
  }
 },
 "nbformat": 4,
 "nbformat_minor": 5
}
