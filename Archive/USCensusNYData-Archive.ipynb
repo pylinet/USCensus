{
 "cells": [
  {
   "cell_type": "markdown",
   "id": "inner-landing",
   "metadata": {},
   "source": [
    "# Census API - New York"
   ]
  },
  {
   "cell_type": "code",
   "execution_count": 1,
   "id": "precious-latino",
   "metadata": {},
   "outputs": [],
   "source": [
    "# import packages\n",
    "\n",
    "from us import states\n",
    "import pandas as pd\n",
    "import requests\n",
    "\n",
    "# import doc with API key\n",
    "\n",
    "import config\n"
   ]
  },
  {
   "cell_type": "markdown",
   "id": "damaged-bloom",
   "metadata": {},
   "source": [
    "#### Census API Link References"
   ]
  },
  {
   "cell_type": "code",
   "execution_count": 2,
   "id": "technological-cache",
   "metadata": {},
   "outputs": [],
   "source": [
    "# \"https://api.census.gov/data/2019/acs/acs5/profile?get=NAME,DP05_0001E&for=state:36&key={0}\".format(config.MY_API_KEY)\n",
    "# \"https://api.census.gov/data/2019/acs/acs5/profile?get=group(DP05)&for=school%20district%20(unified):29850&in=state:36&key={0}\".format(config.MY_API_KEY)\n"
   ]
  },
  {
   "cell_type": "markdown",
   "id": "current-thomson",
   "metadata": {},
   "source": [
    "## Get Table Names from Census API"
   ]
  },
  {
   "cell_type": "code",
   "execution_count": 3,
   "id": "cooperative-induction",
   "metadata": {},
   "outputs": [],
   "source": [
    "# URL from Census API that lists all variables from American Community Survey as a JSON\n",
    "# these are Census Data Profile tables - the most detailed tables available from the ACS\n",
    "\n",
    "variableURL = \"https://api.census.gov/data/2019/acs/acs5/variables\""
   ]
  },
  {
   "cell_type": "code",
   "execution_count": 4,
   "id": "afraid-dragon",
   "metadata": {},
   "outputs": [],
   "source": [
    "# request method which will return data from URL\n",
    "\n",
    "censusVarNames = requests.request(\"GET\", variableURL)"
   ]
  },
  {
   "cell_type": "code",
   "execution_count": 5,
   "id": "based-minutes",
   "metadata": {},
   "outputs": [
    {
     "name": "stdout",
     "output_type": "stream",
     "text": [
      "['B19001B_014E', 'Estimate!!Total:!!$100,000 to $124,999', 'HOUSEHOLD INCOME IN THE PAST 12 MONTHS (IN 2019 INFLATION-ADJUSTED DOLLARS) (BLACK OR AFRICAN AMERICAN ALONE HOUSEHOLDER)']\n"
     ]
    }
   ],
   "source": [
    "# check to see if request method was successful by printing 6th object from JSON\n",
    "\n",
    "print(censusVarNames.json()[5])"
   ]
  },
  {
   "cell_type": "code",
   "execution_count": 7,
   "id": "posted-possible",
   "metadata": {},
   "outputs": [
    {
     "data": {
      "text/html": [
       "<div>\n",
       "<style scoped>\n",
       "    .dataframe tbody tr th:only-of-type {\n",
       "        vertical-align: middle;\n",
       "    }\n",
       "\n",
       "    .dataframe tbody tr th {\n",
       "        vertical-align: top;\n",
       "    }\n",
       "\n",
       "    .dataframe thead th {\n",
       "        text-align: right;\n",
       "    }\n",
       "</style>\n",
       "<table border=\"1\" class=\"dataframe\">\n",
       "  <thead>\n",
       "    <tr style=\"text-align: right;\">\n",
       "      <th></th>\n",
       "      <th>name</th>\n",
       "      <th>label</th>\n",
       "      <th>concept</th>\n",
       "    </tr>\n",
       "  </thead>\n",
       "  <tbody>\n",
       "    <tr>\n",
       "      <th>0</th>\n",
       "      <td>AIANHH</td>\n",
       "      <td>Geography</td>\n",
       "      <td>None</td>\n",
       "    </tr>\n",
       "    <tr>\n",
       "      <th>1</th>\n",
       "      <td>AIHHTL</td>\n",
       "      <td>Geography</td>\n",
       "      <td>None</td>\n",
       "    </tr>\n",
       "    <tr>\n",
       "      <th>2</th>\n",
       "      <td>AIRES</td>\n",
       "      <td>Geography</td>\n",
       "      <td>None</td>\n",
       "    </tr>\n",
       "    <tr>\n",
       "      <th>3</th>\n",
       "      <td>ANRC</td>\n",
       "      <td>Geography</td>\n",
       "      <td>None</td>\n",
       "    </tr>\n",
       "    <tr>\n",
       "      <th>4</th>\n",
       "      <td>B01001A_001E</td>\n",
       "      <td>Estimate!!Total:</td>\n",
       "      <td>SEX BY AGE (WHITE ALONE)</td>\n",
       "    </tr>\n",
       "    <tr>\n",
       "      <th>...</th>\n",
       "      <td>...</td>\n",
       "      <td>...</td>\n",
       "      <td>...</td>\n",
       "    </tr>\n",
       "    <tr>\n",
       "      <th>27075</th>\n",
       "      <td>UA</td>\n",
       "      <td>Geography</td>\n",
       "      <td>None</td>\n",
       "    </tr>\n",
       "    <tr>\n",
       "      <th>27076</th>\n",
       "      <td>ZCTA</td>\n",
       "      <td>Geography</td>\n",
       "      <td>None</td>\n",
       "    </tr>\n",
       "    <tr>\n",
       "      <th>27077</th>\n",
       "      <td>for</td>\n",
       "      <td>Census API FIPS 'for' clause</td>\n",
       "      <td>Census API Geography Specification</td>\n",
       "    </tr>\n",
       "    <tr>\n",
       "      <th>27078</th>\n",
       "      <td>in</td>\n",
       "      <td>Census API FIPS 'in' clause</td>\n",
       "      <td>Census API Geography Specification</td>\n",
       "    </tr>\n",
       "    <tr>\n",
       "      <th>27079</th>\n",
       "      <td>ucgid</td>\n",
       "      <td>Uniform Census Geography Identifier clause</td>\n",
       "      <td>Census API Geography Specification</td>\n",
       "    </tr>\n",
       "  </tbody>\n",
       "</table>\n",
       "<p>27080 rows × 3 columns</p>\n",
       "</div>"
      ],
      "text/plain": [
       "               name                                       label  \\\n",
       "0            AIANHH                                   Geography   \n",
       "1            AIHHTL                                   Geography   \n",
       "2             AIRES                                   Geography   \n",
       "3              ANRC                                   Geography   \n",
       "4      B01001A_001E                            Estimate!!Total:   \n",
       "...             ...                                         ...   \n",
       "27075            UA                                   Geography   \n",
       "27076          ZCTA                                   Geography   \n",
       "27077           for                Census API FIPS 'for' clause   \n",
       "27078            in                 Census API FIPS 'in' clause   \n",
       "27079         ucgid  Uniform Census Geography Identifier clause   \n",
       "\n",
       "                                  concept  \n",
       "0                                    None  \n",
       "1                                    None  \n",
       "2                                    None  \n",
       "3                                    None  \n",
       "4                SEX BY AGE (WHITE ALONE)  \n",
       "...                                   ...  \n",
       "27075                                None  \n",
       "27076                                None  \n",
       "27077  Census API Geography Specification  \n",
       "27078  Census API Geography Specification  \n",
       "27079  Census API Geography Specification  \n",
       "\n",
       "[27080 rows x 3 columns]"
      ]
     },
     "execution_count": 7,
     "metadata": {},
     "output_type": "execute_result"
    }
   ],
   "source": [
    "# JSON data can be displayed in a pandas dataframe\n",
    "# JSON data from Census API has headers included\n",
    "\n",
    "censusData = pd.DataFrame(columns=censusVarNames.json()[0], data=censusVarNames.json()[1:])\n",
    "censusData = (censusData.sort_values(by=['name'], axis=0))\n",
    "\n",
    "# you must reset the index so that the first item is 0 rather than the random numbers the dataframe assigns to each object\n",
    "censusData.reset_index(drop = True, inplace = True)\n",
    "censusData\n"
   ]
  },
  {
   "cell_type": "code",
   "execution_count": 8,
   "id": "chubby-supervisor",
   "metadata": {},
   "outputs": [],
   "source": [
    "# filter table by name\n",
    "\n",
    "def filterByTableName(string):\n",
    "    x = censusData[censusData['name'].str.contains(string)]\n",
    "    return x\n",
    "\n",
    "# filterByTableName('B1')\n"
   ]
  },
  {
   "cell_type": "code",
   "execution_count": 9,
   "id": "raised-stability",
   "metadata": {},
   "outputs": [],
   "source": [
    "# filter table by label\n",
    "\n",
    "def filterByLabel(string):\n",
    "    x = censusData[censusData['label'].str.contains(string)]\n",
    "    return x\n",
    "\n",
    "# filterByLabel('Median income')"
   ]
  },
  {
   "cell_type": "code",
   "execution_count": 83,
   "id": "welsh-nancy",
   "metadata": {},
   "outputs": [],
   "source": [
    "# fitler table by list of table codes\n",
    "\n",
    "def filterByTableName(tableList):\n",
    "    df = censusData[censusData['name'].isin(tableList)]\n",
    "    df.reset_index(drop = True, inplace = True)\n",
    "    return df"
   ]
  },
  {
   "cell_type": "markdown",
   "id": "behind-opening",
   "metadata": {},
   "source": [
    "## Import CSV\n",
    "\n",
    "#### If a user is interested in looking at only select parts of the entire US Census set, save a separate text file with your list. \n",
    "#### You can pick and choose which school districts after compiling all the data, but it helps to filter out the data earlier on to minimize the size of your data frame"
   ]
  },
  {
   "cell_type": "code",
   "execution_count": 10,
   "id": "legitimate-dispute",
   "metadata": {},
   "outputs": [],
   "source": [
    "# Returns the dataframe of school districts\n",
    "\n",
    "def schoolDistrictCSV(CSVFile):\n",
    "    schoolDistrict = pd.read_csv(CSVFile, names=['School District Name'])\n",
    "    return schoolDistrict"
   ]
  },
  {
   "cell_type": "markdown",
   "id": "matched-cricket",
   "metadata": {},
   "source": [
    "#### GEOIDs are going to be critical to using the Census API.\n",
    "\n",
    "Create a new Dataframe, which combines all rows based on their \"School District Name.\"\n",
    "This will allow that first layer of filtering to happen -> you get the GEOIDs for all of the school districts you are interested in looking at.\n",
    "\n",
    "Need to further investigate and understand Pandas concat, merge, join. Not sure why merge worked - so need to dig into that.\n"
   ]
  },
  {
   "cell_type": "code",
   "execution_count": 11,
   "id": "fatty-novel",
   "metadata": {},
   "outputs": [],
   "source": [
    "# Read Census data set which lists GEOIDs per each school district in state\n",
    "# For list of other states and other GEOID data sets, see URL https://www2.census.gov/geo/docs/reference/codes/files/\n",
    "\n",
    "def schoolDistrictGEOID(URL):\n",
    "    df = pd.read_csv(URL,names=['State', 'ID','GEOID','School District Name', 'Class'])\n",
    "    return df"
   ]
  },
  {
   "cell_type": "code",
   "execution_count": 12,
   "id": "sustainable-vietnamese",
   "metadata": {},
   "outputs": [],
   "source": [
    "# Function that merges user CSV data frame with the GEOID data frame into a df\n",
    "\n",
    "def mergedSchoolDist(df1, df2):\n",
    "    CountiesGEOID = df1.merge(df2, on=['School District Name'],how='inner')\n",
    "    return CountiesGEOID"
   ]
  },
  {
   "cell_type": "code",
   "execution_count": 56,
   "id": "sound-swing",
   "metadata": {},
   "outputs": [],
   "source": [
    "# Get all GEOIDs in a single list\n",
    "# Make all GEOIDs into a string only\n",
    "# Need to be a single strin in order to run Census API call\n",
    "\n",
    "def GEOIDonly(dataFrame):\n",
    "    x = dataFrame['GEOID'].tolist()\n",
    "    separator = ', '\n",
    "    GEOIDsinglestring = separator.join(map(str, x))\n",
    "    return GEOIDsinglestring"
   ]
  },
  {
   "cell_type": "code",
   "execution_count": 32,
   "id": "mysterious-breach",
   "metadata": {},
   "outputs": [],
   "source": [
    "#Function to turn list of strings into a single string\n",
    "\n",
    "def GEOIDonlyx(dataFrame):\n",
    "    z = dataFrame['GEOID'].tolist()\n",
    "    separator = ', '\n",
    "    print(z)"
   ]
  },
  {
   "cell_type": "code",
   "execution_count": 16,
   "id": "adaptive-runner",
   "metadata": {},
   "outputs": [],
   "source": [
    "# Test with Nassau County School Districts\n",
    "\n",
    "selectedNYCounties = schoolDistrictCSV((r'Data\\USCensusNYSchDist.csv'))"
   ]
  },
  {
   "cell_type": "code",
   "execution_count": 17,
   "id": "numeric-phrase",
   "metadata": {},
   "outputs": [],
   "source": [
    "# Test with Nassau County School Districts\n",
    "\n",
    "NYURL = (\"https://www2.census.gov/geo/docs/reference/codes/files/st36_ny_schdist.txt\")\n",
    "NY = schoolDistrictGEOID(NYURL)"
   ]
  },
  {
   "cell_type": "code",
   "execution_count": 57,
   "id": "endangered-junior",
   "metadata": {},
   "outputs": [],
   "source": [
    "# Test merging user input school district CSV with census GEOID list\n",
    "\n",
    "NYCountiesGEOID = mergedSchoolDist(NY, selectedNYCounties)"
   ]
  },
  {
   "cell_type": "code",
   "execution_count": 58,
   "id": "scientific-bubble",
   "metadata": {},
   "outputs": [
    {
     "name": "stdout",
     "output_type": "stream",
     "text": [
      "<class 'str'>\n"
     ]
    }
   ],
   "source": [
    "# Test grab GEOIDs only\n",
    "\n",
    "NYGEOID = (GEOIDonly(NYCountiesGEOID))\n",
    "\n",
    "print(type(NYGEOID))"
   ]
  },
  {
   "cell_type": "code",
   "execution_count": 84,
   "id": "animated-adams",
   "metadata": {},
   "outputs": [
    {
     "data": {
      "text/html": [
       "<div>\n",
       "<style scoped>\n",
       "    .dataframe tbody tr th:only-of-type {\n",
       "        vertical-align: middle;\n",
       "    }\n",
       "\n",
       "    .dataframe tbody tr th {\n",
       "        vertical-align: top;\n",
       "    }\n",
       "\n",
       "    .dataframe thead th {\n",
       "        text-align: right;\n",
       "    }\n",
       "</style>\n",
       "<table border=\"1\" class=\"dataframe\">\n",
       "  <thead>\n",
       "    <tr style=\"text-align: right;\">\n",
       "      <th></th>\n",
       "      <th>name</th>\n",
       "      <th>label</th>\n",
       "      <th>concept</th>\n",
       "    </tr>\n",
       "  </thead>\n",
       "  <tbody>\n",
       "    <tr>\n",
       "      <th>0</th>\n",
       "      <td>B01001_002E</td>\n",
       "      <td>Estimate!!Total:!!Male:</td>\n",
       "      <td>SEX BY AGE</td>\n",
       "    </tr>\n",
       "  </tbody>\n",
       "</table>\n",
       "</div>"
      ],
      "text/plain": [
       "          name                    label     concept\n",
       "0  B01001_002E  Estimate!!Total:!!Male:  SEX BY AGE"
      ]
     },
     "execution_count": 84,
     "metadata": {},
     "output_type": "execute_result"
    }
   ],
   "source": [
    "# Test filter by list of known table names\n",
    "\n",
    "xxx = ['B01001_002E']\n",
    "\n",
    "filterByTableName(xxx)"
   ]
  },
  {
   "cell_type": "markdown",
   "id": "successful-juvenile",
   "metadata": {},
   "source": [
    "## Refactoring into Formulas\n",
    "\n",
    "#### Breakdown into small discrete formulas"
   ]
  },
  {
   "cell_type": "code",
   "execution_count": 44,
   "id": "advance-collection",
   "metadata": {},
   "outputs": [],
   "source": [
    "def jsontodf(response):\n",
    "    return pd.DataFrame(response.json()[1:], columns=response.json()[0])"
   ]
  },
  {
   "cell_type": "code",
   "execution_count": 45,
   "id": "liable-bubble",
   "metadata": {},
   "outputs": [],
   "source": [
    "def dataProfSchDist(censusVariables,schoolDistricts):\n",
    "    # first URL is for the detailed table. second URL is for the data profiles.\n",
    "    # URL = \"https://api.census.gov/data/2019/acs/acs5?get=NAME,{0}&for=school%20district%20(unified):{1}&in=state:36&key={2}\".format(censusVariables,schoolDistricts,config.MY_API_KEY)\n",
    "\n",
    "    URL = \"https://api.census.gov/data/2019/acs/acs5/profile?get=NAME,{0}&for=school%20district%20(unified):{1}&in=state:36&key={2}\".format(censusVariables,schoolDistricts,config.MY_API_KEY)\n",
    "    return requests.request(\"GET\", URL)"
   ]
  },
  {
   "cell_type": "code",
   "execution_count": 46,
   "id": "eligible-stephen",
   "metadata": {},
   "outputs": [],
   "source": [
    "def deTabSchDist(censusVariables,schoolDistricts):\n",
    "    # first URL is for the detailed table. second URL is for the data profiles.\n",
    "    # URL = \"https://api.census.gov/data/2019/acs/acs5?get=NAME,{0}&for=school%20district%20(unified):{1}&in=state:36&key={2}\".format(censusVariables,schoolDistricts,config.MY_API_KEY)\n",
    "\n",
    "    URL = \"https://api.census.gov/data/2019/acs/acs5/?get=NAME,{0}&for=school%20district%20(unified):{1}&in=state:36&key={2}\".format(censusVariables,schoolDistricts,config.MY_API_KEY)\n",
    "    return requests.request(\"GET\", URL)"
   ]
  },
  {
   "cell_type": "markdown",
   "id": "exceptional-compilation",
   "metadata": {},
   "source": [
    "#### Mega Formula"
   ]
  },
  {
   "cell_type": "code",
   "execution_count": 47,
   "id": "great-lying",
   "metadata": {},
   "outputs": [],
   "source": [
    "def dataProfile(cenVar, schDisID):\n",
    "    x = dataProfSchDist(cenVar,schDisID)\n",
    "    return jsontodf(x)\n",
    "\n",
    "def detailedTable(cenVar, schDisID):\n",
    "    x = deTabSchDist(cenVar,schDisID)\n",
    "    return jsontodf(x)"
   ]
  },
  {
   "cell_type": "markdown",
   "id": "advised-creation",
   "metadata": {},
   "source": [
    "#### Test"
   ]
  },
  {
   "cell_type": "code",
   "execution_count": 60,
   "id": "adolescent-satin",
   "metadata": {},
   "outputs": [
    {
     "data": {
      "text/html": [
       "<div>\n",
       "<style scoped>\n",
       "    .dataframe tbody tr th:only-of-type {\n",
       "        vertical-align: middle;\n",
       "    }\n",
       "\n",
       "    .dataframe tbody tr th {\n",
       "        vertical-align: top;\n",
       "    }\n",
       "\n",
       "    .dataframe thead th {\n",
       "        text-align: right;\n",
       "    }\n",
       "</style>\n",
       "<table border=\"1\" class=\"dataframe\">\n",
       "  <thead>\n",
       "    <tr style=\"text-align: right;\">\n",
       "      <th></th>\n",
       "      <th>NAME</th>\n",
       "      <th>DP05_0002E</th>\n",
       "      <th>DP05_0003E</th>\n",
       "      <th>state</th>\n",
       "      <th>school district (unified)</th>\n",
       "    </tr>\n",
       "  </thead>\n",
       "  <tbody>\n",
       "    <tr>\n",
       "      <th>0</th>\n",
       "      <td>Roslyn Union Free School District, New York</td>\n",
       "      <td>8837</td>\n",
       "      <td>9761</td>\n",
       "      <td>36</td>\n",
       "      <td>25050</td>\n",
       "    </tr>\n",
       "    <tr>\n",
       "      <th>1</th>\n",
       "      <td>East Williston Union Free School District, New...</td>\n",
       "      <td>4217</td>\n",
       "      <td>4669</td>\n",
       "      <td>36</td>\n",
       "      <td>10050</td>\n",
       "    </tr>\n",
       "    <tr>\n",
       "      <th>2</th>\n",
       "      <td>North Shore Central School District, New York</td>\n",
       "      <td>8408</td>\n",
       "      <td>8240</td>\n",
       "      <td>36</td>\n",
       "      <td>26370</td>\n",
       "    </tr>\n",
       "    <tr>\n",
       "      <th>3</th>\n",
       "      <td>Garden City Union Free School District, New York</td>\n",
       "      <td>10806</td>\n",
       "      <td>11693</td>\n",
       "      <td>36</td>\n",
       "      <td>11760</td>\n",
       "    </tr>\n",
       "    <tr>\n",
       "      <th>4</th>\n",
       "      <td>Wantagh Union Free School District, New York</td>\n",
       "      <td>8279</td>\n",
       "      <td>8460</td>\n",
       "      <td>36</td>\n",
       "      <td>29850</td>\n",
       "    </tr>\n",
       "    <tr>\n",
       "      <th>5</th>\n",
       "      <td>Manhasset Union Free School District, New York</td>\n",
       "      <td>8015</td>\n",
       "      <td>8832</td>\n",
       "      <td>36</td>\n",
       "      <td>18270</td>\n",
       "    </tr>\n",
       "    <tr>\n",
       "      <th>6</th>\n",
       "      <td>Port Washington Union Free School District, Ne...</td>\n",
       "      <td>15199</td>\n",
       "      <td>15829</td>\n",
       "      <td>36</td>\n",
       "      <td>23580</td>\n",
       "    </tr>\n",
       "    <tr>\n",
       "      <th>7</th>\n",
       "      <td>Rockville Centre Union Free School District, N...</td>\n",
       "      <td>10490</td>\n",
       "      <td>11579</td>\n",
       "      <td>36</td>\n",
       "      <td>24780</td>\n",
       "    </tr>\n",
       "    <tr>\n",
       "      <th>8</th>\n",
       "      <td>Hewlett-Woodmere Union Free School District, N...</td>\n",
       "      <td>9486</td>\n",
       "      <td>10591</td>\n",
       "      <td>36</td>\n",
       "      <td>31710</td>\n",
       "    </tr>\n",
       "    <tr>\n",
       "      <th>9</th>\n",
       "      <td>Levittown Union Free School District, New York</td>\n",
       "      <td>22308</td>\n",
       "      <td>23358</td>\n",
       "      <td>36</td>\n",
       "      <td>17160</td>\n",
       "    </tr>\n",
       "    <tr>\n",
       "      <th>10</th>\n",
       "      <td>Locust Valley Central School District, New York</td>\n",
       "      <td>7718</td>\n",
       "      <td>8127</td>\n",
       "      <td>36</td>\n",
       "      <td>17700</td>\n",
       "    </tr>\n",
       "    <tr>\n",
       "      <th>11</th>\n",
       "      <td>Lynbrook Union Free School District, New York</td>\n",
       "      <td>8169</td>\n",
       "      <td>9086</td>\n",
       "      <td>36</td>\n",
       "      <td>17910</td>\n",
       "    </tr>\n",
       "    <tr>\n",
       "      <th>12</th>\n",
       "      <td>Plainview-Old Bethpage Central School District...</td>\n",
       "      <td>13928</td>\n",
       "      <td>14621</td>\n",
       "      <td>36</td>\n",
       "      <td>23220</td>\n",
       "    </tr>\n",
       "    <tr>\n",
       "      <th>13</th>\n",
       "      <td>Herricks Union Free School District, New York</td>\n",
       "      <td>11551</td>\n",
       "      <td>12652</td>\n",
       "      <td>36</td>\n",
       "      <td>14280</td>\n",
       "    </tr>\n",
       "    <tr>\n",
       "      <th>14</th>\n",
       "      <td>Syosset Central School District, New York</td>\n",
       "      <td>17250</td>\n",
       "      <td>17476</td>\n",
       "      <td>36</td>\n",
       "      <td>28560</td>\n",
       "    </tr>\n",
       "    <tr>\n",
       "      <th>15</th>\n",
       "      <td>Jericho Union Free School District, New York</td>\n",
       "      <td>8616</td>\n",
       "      <td>9326</td>\n",
       "      <td>36</td>\n",
       "      <td>15810</td>\n",
       "    </tr>\n",
       "    <tr>\n",
       "      <th>16</th>\n",
       "      <td>Massapequa Union Free School District, New York</td>\n",
       "      <td>22980</td>\n",
       "      <td>23988</td>\n",
       "      <td>36</td>\n",
       "      <td>18630</td>\n",
       "    </tr>\n",
       "  </tbody>\n",
       "</table>\n",
       "</div>"
      ],
      "text/plain": [
       "                                                 NAME DP05_0002E DP05_0003E  \\\n",
       "0         Roslyn Union Free School District, New York       8837       9761   \n",
       "1   East Williston Union Free School District, New...       4217       4669   \n",
       "2       North Shore Central School District, New York       8408       8240   \n",
       "3    Garden City Union Free School District, New York      10806      11693   \n",
       "4        Wantagh Union Free School District, New York       8279       8460   \n",
       "5      Manhasset Union Free School District, New York       8015       8832   \n",
       "6   Port Washington Union Free School District, Ne...      15199      15829   \n",
       "7   Rockville Centre Union Free School District, N...      10490      11579   \n",
       "8   Hewlett-Woodmere Union Free School District, N...       9486      10591   \n",
       "9      Levittown Union Free School District, New York      22308      23358   \n",
       "10    Locust Valley Central School District, New York       7718       8127   \n",
       "11      Lynbrook Union Free School District, New York       8169       9086   \n",
       "12  Plainview-Old Bethpage Central School District...      13928      14621   \n",
       "13      Herricks Union Free School District, New York      11551      12652   \n",
       "14          Syosset Central School District, New York      17250      17476   \n",
       "15       Jericho Union Free School District, New York       8616       9326   \n",
       "16    Massapequa Union Free School District, New York      22980      23988   \n",
       "\n",
       "   state school district (unified)  \n",
       "0     36                     25050  \n",
       "1     36                     10050  \n",
       "2     36                     26370  \n",
       "3     36                     11760  \n",
       "4     36                     29850  \n",
       "5     36                     18270  \n",
       "6     36                     23580  \n",
       "7     36                     24780  \n",
       "8     36                     31710  \n",
       "9     36                     17160  \n",
       "10    36                     17700  \n",
       "11    36                     17910  \n",
       "12    36                     23220  \n",
       "13    36                     14280  \n",
       "14    36                     28560  \n",
       "15    36                     15810  \n",
       "16    36                     18630  "
      ]
     },
     "execution_count": 60,
     "metadata": {},
     "output_type": "execute_result"
    }
   ],
   "source": [
    "# Getting Census Data: Data Profiles\n",
    "\n",
    "selectedVar = 'DP05_0002E,DP05_0003E'\n",
    "\n",
    "dataProfile(selectedVar,NYGEOID)"
   ]
  },
  {
   "cell_type": "code",
   "execution_count": 61,
   "id": "governmental-welsh",
   "metadata": {},
   "outputs": [
    {
     "data": {
      "text/html": [
       "<div>\n",
       "<style scoped>\n",
       "    .dataframe tbody tr th:only-of-type {\n",
       "        vertical-align: middle;\n",
       "    }\n",
       "\n",
       "    .dataframe tbody tr th {\n",
       "        vertical-align: top;\n",
       "    }\n",
       "\n",
       "    .dataframe thead th {\n",
       "        text-align: right;\n",
       "    }\n",
       "</style>\n",
       "<table border=\"1\" class=\"dataframe\">\n",
       "  <thead>\n",
       "    <tr style=\"text-align: right;\">\n",
       "      <th></th>\n",
       "      <th>NAME</th>\n",
       "      <th>B01001_002E</th>\n",
       "      <th>B01001_026E</th>\n",
       "      <th>B19013_001E</th>\n",
       "      <th>state</th>\n",
       "      <th>school district (unified)</th>\n",
       "    </tr>\n",
       "  </thead>\n",
       "  <tbody>\n",
       "    <tr>\n",
       "      <th>0</th>\n",
       "      <td>Roslyn Union Free School District, New York</td>\n",
       "      <td>8837</td>\n",
       "      <td>9761</td>\n",
       "      <td>160098</td>\n",
       "      <td>36</td>\n",
       "      <td>25050</td>\n",
       "    </tr>\n",
       "    <tr>\n",
       "      <th>1</th>\n",
       "      <td>East Williston Union Free School District, New...</td>\n",
       "      <td>4217</td>\n",
       "      <td>4669</td>\n",
       "      <td>177868</td>\n",
       "      <td>36</td>\n",
       "      <td>10050</td>\n",
       "    </tr>\n",
       "    <tr>\n",
       "      <th>2</th>\n",
       "      <td>North Shore Central School District, New York</td>\n",
       "      <td>8408</td>\n",
       "      <td>8240</td>\n",
       "      <td>135563</td>\n",
       "      <td>36</td>\n",
       "      <td>26370</td>\n",
       "    </tr>\n",
       "    <tr>\n",
       "      <th>3</th>\n",
       "      <td>Garden City Union Free School District, New York</td>\n",
       "      <td>10806</td>\n",
       "      <td>11693</td>\n",
       "      <td>174886</td>\n",
       "      <td>36</td>\n",
       "      <td>11760</td>\n",
       "    </tr>\n",
       "    <tr>\n",
       "      <th>4</th>\n",
       "      <td>Wantagh Union Free School District, New York</td>\n",
       "      <td>8279</td>\n",
       "      <td>8460</td>\n",
       "      <td>155588</td>\n",
       "      <td>36</td>\n",
       "      <td>29850</td>\n",
       "    </tr>\n",
       "    <tr>\n",
       "      <th>5</th>\n",
       "      <td>Manhasset Union Free School District, New York</td>\n",
       "      <td>8015</td>\n",
       "      <td>8832</td>\n",
       "      <td>207198</td>\n",
       "      <td>36</td>\n",
       "      <td>18270</td>\n",
       "    </tr>\n",
       "    <tr>\n",
       "      <th>6</th>\n",
       "      <td>Port Washington Union Free School District, Ne...</td>\n",
       "      <td>15199</td>\n",
       "      <td>15829</td>\n",
       "      <td>134627</td>\n",
       "      <td>36</td>\n",
       "      <td>23580</td>\n",
       "    </tr>\n",
       "    <tr>\n",
       "      <th>7</th>\n",
       "      <td>Rockville Centre Union Free School District, N...</td>\n",
       "      <td>10490</td>\n",
       "      <td>11579</td>\n",
       "      <td>108797</td>\n",
       "      <td>36</td>\n",
       "      <td>24780</td>\n",
       "    </tr>\n",
       "    <tr>\n",
       "      <th>8</th>\n",
       "      <td>Hewlett-Woodmere Union Free School District, N...</td>\n",
       "      <td>9486</td>\n",
       "      <td>10591</td>\n",
       "      <td>128547</td>\n",
       "      <td>36</td>\n",
       "      <td>31710</td>\n",
       "    </tr>\n",
       "    <tr>\n",
       "      <th>9</th>\n",
       "      <td>Levittown Union Free School District, New York</td>\n",
       "      <td>22308</td>\n",
       "      <td>23358</td>\n",
       "      <td>126665</td>\n",
       "      <td>36</td>\n",
       "      <td>17160</td>\n",
       "    </tr>\n",
       "    <tr>\n",
       "      <th>10</th>\n",
       "      <td>Locust Valley Central School District, New York</td>\n",
       "      <td>7718</td>\n",
       "      <td>8127</td>\n",
       "      <td>130568</td>\n",
       "      <td>36</td>\n",
       "      <td>17700</td>\n",
       "    </tr>\n",
       "    <tr>\n",
       "      <th>11</th>\n",
       "      <td>Lynbrook Union Free School District, New York</td>\n",
       "      <td>8169</td>\n",
       "      <td>9086</td>\n",
       "      <td>114423</td>\n",
       "      <td>36</td>\n",
       "      <td>17910</td>\n",
       "    </tr>\n",
       "    <tr>\n",
       "      <th>12</th>\n",
       "      <td>Plainview-Old Bethpage Central School District...</td>\n",
       "      <td>13928</td>\n",
       "      <td>14621</td>\n",
       "      <td>145550</td>\n",
       "      <td>36</td>\n",
       "      <td>23220</td>\n",
       "    </tr>\n",
       "    <tr>\n",
       "      <th>13</th>\n",
       "      <td>Herricks Union Free School District, New York</td>\n",
       "      <td>11551</td>\n",
       "      <td>12652</td>\n",
       "      <td>137738</td>\n",
       "      <td>36</td>\n",
       "      <td>14280</td>\n",
       "    </tr>\n",
       "    <tr>\n",
       "      <th>14</th>\n",
       "      <td>Syosset Central School District, New York</td>\n",
       "      <td>17250</td>\n",
       "      <td>17476</td>\n",
       "      <td>173724</td>\n",
       "      <td>36</td>\n",
       "      <td>28560</td>\n",
       "    </tr>\n",
       "    <tr>\n",
       "      <th>15</th>\n",
       "      <td>Jericho Union Free School District, New York</td>\n",
       "      <td>8616</td>\n",
       "      <td>9326</td>\n",
       "      <td>183570</td>\n",
       "      <td>36</td>\n",
       "      <td>15810</td>\n",
       "    </tr>\n",
       "    <tr>\n",
       "      <th>16</th>\n",
       "      <td>Massapequa Union Free School District, New York</td>\n",
       "      <td>22980</td>\n",
       "      <td>23988</td>\n",
       "      <td>135919</td>\n",
       "      <td>36</td>\n",
       "      <td>18630</td>\n",
       "    </tr>\n",
       "  </tbody>\n",
       "</table>\n",
       "</div>"
      ],
      "text/plain": [
       "                                                 NAME B01001_002E B01001_026E  \\\n",
       "0         Roslyn Union Free School District, New York        8837        9761   \n",
       "1   East Williston Union Free School District, New...        4217        4669   \n",
       "2       North Shore Central School District, New York        8408        8240   \n",
       "3    Garden City Union Free School District, New York       10806       11693   \n",
       "4        Wantagh Union Free School District, New York        8279        8460   \n",
       "5      Manhasset Union Free School District, New York        8015        8832   \n",
       "6   Port Washington Union Free School District, Ne...       15199       15829   \n",
       "7   Rockville Centre Union Free School District, N...       10490       11579   \n",
       "8   Hewlett-Woodmere Union Free School District, N...        9486       10591   \n",
       "9      Levittown Union Free School District, New York       22308       23358   \n",
       "10    Locust Valley Central School District, New York        7718        8127   \n",
       "11      Lynbrook Union Free School District, New York        8169        9086   \n",
       "12  Plainview-Old Bethpage Central School District...       13928       14621   \n",
       "13      Herricks Union Free School District, New York       11551       12652   \n",
       "14          Syosset Central School District, New York       17250       17476   \n",
       "15       Jericho Union Free School District, New York        8616        9326   \n",
       "16    Massapequa Union Free School District, New York       22980       23988   \n",
       "\n",
       "   B19013_001E state school district (unified)  \n",
       "0       160098    36                     25050  \n",
       "1       177868    36                     10050  \n",
       "2       135563    36                     26370  \n",
       "3       174886    36                     11760  \n",
       "4       155588    36                     29850  \n",
       "5       207198    36                     18270  \n",
       "6       134627    36                     23580  \n",
       "7       108797    36                     24780  \n",
       "8       128547    36                     31710  \n",
       "9       126665    36                     17160  \n",
       "10      130568    36                     17700  \n",
       "11      114423    36                     17910  \n",
       "12      145550    36                     23220  \n",
       "13      137738    36                     14280  \n",
       "14      173724    36                     28560  \n",
       "15      183570    36                     15810  \n",
       "16      135919    36                     18630  "
      ]
     },
     "execution_count": 61,
     "metadata": {},
     "output_type": "execute_result"
    }
   ],
   "source": [
    "# Getting Census Data: Detailed Tables\n",
    "\n",
    "selectedVar = 'B01001_002E,B01001_026E,B19013_001E'\n",
    "\n",
    "detailedTable(selectedVar,NYGEOID)"
   ]
  },
  {
   "cell_type": "code",
   "execution_count": 88,
   "id": "federal-islam",
   "metadata": {},
   "outputs": [
    {
     "data": {
      "text/plain": [
       "['B01001A_001E',\n",
       " 'B01001A_002E',\n",
       " 'B01001A_017E',\n",
       " 'B01001B_002E',\n",
       " 'B01001B_017E',\n",
       " 'B01001C_002E',\n",
       " 'B01001C_017E',\n",
       " 'B01001D_002E',\n",
       " 'B01001D_017E',\n",
       " 'B01001E_002E',\n",
       " 'B01001E_017E',\n",
       " 'B01001F_002E',\n",
       " 'B01001F_017E',\n",
       " 'B01001G_002E',\n",
       " 'B01001G_017E',\n",
       " 'B01001H_002E',\n",
       " 'B01001H_017E',\n",
       " 'B01001I_002E',\n",
       " 'B01001I_017E',\n",
       " 'B19013A_001E']"
      ]
     },
     "execution_count": 88,
     "metadata": {},
     "output_type": "execute_result"
    }
   ],
   "source": [
    "# Population by Age, Gender, and Demographic\n",
    "\n",
    "Pop = 11255,4,5,20,36,51,67,82,98,113,129,144,160,175,191,206,222,237,253,268\n",
    "\n",
    "\n",
    "filterdf = censusData[censusData.index.isin(Pop)]\n",
    "x = filterdf['name'].tolist()\n",
    "x"
   ]
  },
  {
   "cell_type": "code",
   "execution_count": 89,
   "id": "outside-wheel",
   "metadata": {},
   "outputs": [
    {
     "name": "stdout",
     "output_type": "stream",
     "text": [
      "B01001A_001E,B01001A_002E,B01001A_017E,B01001B_002E,B01001B_017E,B01001C_002E,B01001C_017E,B01001D_002E,B01001D_017E,B01001E_002E,B01001E_017E,B01001F_002E,B01001F_017E,B01001G_002E,B01001G_017E,B01001H_002E,B01001H_017E,B01001I_002E,B01001I_017E,B19013A_001E\n"
     ]
    }
   ],
   "source": [
    "s = singleString(x)\n",
    "print(s)"
   ]
  },
  {
   "cell_type": "code",
   "execution_count": 93,
   "id": "frequent-spine",
   "metadata": {},
   "outputs": [
    {
     "ename": "SyntaxError",
     "evalue": "invalid syntax (<ipython-input-93-b7d7931e1d2a>, line 5)",
     "output_type": "error",
     "traceback": [
      "\u001b[1;36m  File \u001b[1;32m\"<ipython-input-93-b7d7931e1d2a>\"\u001b[1;36m, line \u001b[1;32m5\u001b[0m\n\u001b[1;33m    testtest[] = testtest[].astype(int)\u001b[0m\n\u001b[1;37m             ^\u001b[0m\n\u001b[1;31mSyntaxError\u001b[0m\u001b[1;31m:\u001b[0m invalid syntax\n"
     ]
    }
   ],
   "source": [
    "testtest = detailedTable(s,NYGEOID)\n",
    "testtest\n",
    "\n",
    "\n",
    "testtest[x] = testtest[x].astype(int)\n",
    "\n"
   ]
  },
  {
   "cell_type": "code",
   "execution_count": 92,
   "id": "behavioral-oklahoma",
   "metadata": {},
   "outputs": [
    {
     "ename": "TypeError",
     "evalue": "'>' not supported between instances of 'str' and 'int'",
     "output_type": "error",
     "traceback": [
      "\u001b[1;31m---------------------------------------------------------------------------\u001b[0m",
      "\u001b[1;31mTypeError\u001b[0m                                 Traceback (most recent call last)",
      "\u001b[1;32m<ipython-input-92-56bfb9de60b6>\u001b[0m in \u001b[0;36m<module>\u001b[1;34m\u001b[0m\n\u001b[0;32m      1\u001b[0m \u001b[1;31m# Filter by integer value\u001b[0m\u001b[1;33m\u001b[0m\u001b[1;33m\u001b[0m\u001b[1;33m\u001b[0m\u001b[0m\n\u001b[1;32m----> 2\u001b[1;33m \u001b[0mnewDf\u001b[0m \u001b[1;33m=\u001b[0m \u001b[0mtesttest\u001b[0m\u001b[1;33m.\u001b[0m\u001b[0mloc\u001b[0m\u001b[1;33m[\u001b[0m\u001b[1;33m(\u001b[0m\u001b[0mtesttest\u001b[0m\u001b[1;33m[\u001b[0m\u001b[1;34m'B01001A_001E'\u001b[0m\u001b[1;33m]\u001b[0m\u001b[1;33m>\u001b[0m\u001b[1;36m40000\u001b[0m\u001b[1;33m)\u001b[0m\u001b[1;33m]\u001b[0m\u001b[1;33m\u001b[0m\u001b[1;33m\u001b[0m\u001b[0m\n\u001b[0m\u001b[0;32m      3\u001b[0m \u001b[0mnewDf\u001b[0m\u001b[1;33m\u001b[0m\u001b[1;33m\u001b[0m\u001b[0m\n",
      "\u001b[1;32mc:\\users\\pylin\\.virtualenvs\\uscensus-zwbpkt0x\\lib\\site-packages\\pandas\\core\\ops\\common.py\u001b[0m in \u001b[0;36mnew_method\u001b[1;34m(self, other)\u001b[0m\n\u001b[0;32m     63\u001b[0m         \u001b[0mother\u001b[0m \u001b[1;33m=\u001b[0m \u001b[0mitem_from_zerodim\u001b[0m\u001b[1;33m(\u001b[0m\u001b[0mother\u001b[0m\u001b[1;33m)\u001b[0m\u001b[1;33m\u001b[0m\u001b[1;33m\u001b[0m\u001b[0m\n\u001b[0;32m     64\u001b[0m \u001b[1;33m\u001b[0m\u001b[0m\n\u001b[1;32m---> 65\u001b[1;33m         \u001b[1;32mreturn\u001b[0m \u001b[0mmethod\u001b[0m\u001b[1;33m(\u001b[0m\u001b[0mself\u001b[0m\u001b[1;33m,\u001b[0m \u001b[0mother\u001b[0m\u001b[1;33m)\u001b[0m\u001b[1;33m\u001b[0m\u001b[1;33m\u001b[0m\u001b[0m\n\u001b[0m\u001b[0;32m     66\u001b[0m \u001b[1;33m\u001b[0m\u001b[0m\n\u001b[0;32m     67\u001b[0m     \u001b[1;32mreturn\u001b[0m \u001b[0mnew_method\u001b[0m\u001b[1;33m\u001b[0m\u001b[1;33m\u001b[0m\u001b[0m\n",
      "\u001b[1;32mc:\\users\\pylin\\.virtualenvs\\uscensus-zwbpkt0x\\lib\\site-packages\\pandas\\core\\arraylike.py\u001b[0m in \u001b[0;36m__gt__\u001b[1;34m(self, other)\u001b[0m\n\u001b[0;32m     43\u001b[0m     \u001b[1;33m@\u001b[0m\u001b[0munpack_zerodim_and_defer\u001b[0m\u001b[1;33m(\u001b[0m\u001b[1;34m\"__gt__\"\u001b[0m\u001b[1;33m)\u001b[0m\u001b[1;33m\u001b[0m\u001b[1;33m\u001b[0m\u001b[0m\n\u001b[0;32m     44\u001b[0m     \u001b[1;32mdef\u001b[0m \u001b[0m__gt__\u001b[0m\u001b[1;33m(\u001b[0m\u001b[0mself\u001b[0m\u001b[1;33m,\u001b[0m \u001b[0mother\u001b[0m\u001b[1;33m)\u001b[0m\u001b[1;33m:\u001b[0m\u001b[1;33m\u001b[0m\u001b[1;33m\u001b[0m\u001b[0m\n\u001b[1;32m---> 45\u001b[1;33m         \u001b[1;32mreturn\u001b[0m \u001b[0mself\u001b[0m\u001b[1;33m.\u001b[0m\u001b[0m_cmp_method\u001b[0m\u001b[1;33m(\u001b[0m\u001b[0mother\u001b[0m\u001b[1;33m,\u001b[0m \u001b[0moperator\u001b[0m\u001b[1;33m.\u001b[0m\u001b[0mgt\u001b[0m\u001b[1;33m)\u001b[0m\u001b[1;33m\u001b[0m\u001b[1;33m\u001b[0m\u001b[0m\n\u001b[0m\u001b[0;32m     46\u001b[0m \u001b[1;33m\u001b[0m\u001b[0m\n\u001b[0;32m     47\u001b[0m     \u001b[1;33m@\u001b[0m\u001b[0munpack_zerodim_and_defer\u001b[0m\u001b[1;33m(\u001b[0m\u001b[1;34m\"__ge__\"\u001b[0m\u001b[1;33m)\u001b[0m\u001b[1;33m\u001b[0m\u001b[1;33m\u001b[0m\u001b[0m\n",
      "\u001b[1;32mc:\\users\\pylin\\.virtualenvs\\uscensus-zwbpkt0x\\lib\\site-packages\\pandas\\core\\series.py\u001b[0m in \u001b[0;36m_cmp_method\u001b[1;34m(self, other, op)\u001b[0m\n\u001b[0;32m   4973\u001b[0m         \u001b[0mrvalues\u001b[0m \u001b[1;33m=\u001b[0m \u001b[0mextract_array\u001b[0m\u001b[1;33m(\u001b[0m\u001b[0mother\u001b[0m\u001b[1;33m,\u001b[0m \u001b[0mextract_numpy\u001b[0m\u001b[1;33m=\u001b[0m\u001b[1;32mTrue\u001b[0m\u001b[1;33m)\u001b[0m\u001b[1;33m\u001b[0m\u001b[1;33m\u001b[0m\u001b[0m\n\u001b[0;32m   4974\u001b[0m \u001b[1;33m\u001b[0m\u001b[0m\n\u001b[1;32m-> 4975\u001b[1;33m         \u001b[0mres_values\u001b[0m \u001b[1;33m=\u001b[0m \u001b[0mops\u001b[0m\u001b[1;33m.\u001b[0m\u001b[0mcomparison_op\u001b[0m\u001b[1;33m(\u001b[0m\u001b[0mlvalues\u001b[0m\u001b[1;33m,\u001b[0m \u001b[0mrvalues\u001b[0m\u001b[1;33m,\u001b[0m \u001b[0mop\u001b[0m\u001b[1;33m)\u001b[0m\u001b[1;33m\u001b[0m\u001b[1;33m\u001b[0m\u001b[0m\n\u001b[0m\u001b[0;32m   4976\u001b[0m \u001b[1;33m\u001b[0m\u001b[0m\n\u001b[0;32m   4977\u001b[0m         \u001b[1;32mreturn\u001b[0m \u001b[0mself\u001b[0m\u001b[1;33m.\u001b[0m\u001b[0m_construct_result\u001b[0m\u001b[1;33m(\u001b[0m\u001b[0mres_values\u001b[0m\u001b[1;33m,\u001b[0m \u001b[0mname\u001b[0m\u001b[1;33m=\u001b[0m\u001b[0mres_name\u001b[0m\u001b[1;33m)\u001b[0m\u001b[1;33m\u001b[0m\u001b[1;33m\u001b[0m\u001b[0m\n",
      "\u001b[1;32mc:\\users\\pylin\\.virtualenvs\\uscensus-zwbpkt0x\\lib\\site-packages\\pandas\\core\\ops\\array_ops.py\u001b[0m in \u001b[0;36mcomparison_op\u001b[1;34m(left, right, op)\u001b[0m\n\u001b[0;32m    241\u001b[0m \u001b[1;33m\u001b[0m\u001b[0m\n\u001b[0;32m    242\u001b[0m     \u001b[1;32melif\u001b[0m \u001b[0mis_object_dtype\u001b[0m\u001b[1;33m(\u001b[0m\u001b[0mlvalues\u001b[0m\u001b[1;33m.\u001b[0m\u001b[0mdtype\u001b[0m\u001b[1;33m)\u001b[0m\u001b[1;33m:\u001b[0m\u001b[1;33m\u001b[0m\u001b[1;33m\u001b[0m\u001b[0m\n\u001b[1;32m--> 243\u001b[1;33m         \u001b[0mres_values\u001b[0m \u001b[1;33m=\u001b[0m \u001b[0mcomp_method_OBJECT_ARRAY\u001b[0m\u001b[1;33m(\u001b[0m\u001b[0mop\u001b[0m\u001b[1;33m,\u001b[0m \u001b[0mlvalues\u001b[0m\u001b[1;33m,\u001b[0m \u001b[0mrvalues\u001b[0m\u001b[1;33m)\u001b[0m\u001b[1;33m\u001b[0m\u001b[1;33m\u001b[0m\u001b[0m\n\u001b[0m\u001b[0;32m    244\u001b[0m \u001b[1;33m\u001b[0m\u001b[0m\n\u001b[0;32m    245\u001b[0m     \u001b[1;32melse\u001b[0m\u001b[1;33m:\u001b[0m\u001b[1;33m\u001b[0m\u001b[1;33m\u001b[0m\u001b[0m\n",
      "\u001b[1;32mc:\\users\\pylin\\.virtualenvs\\uscensus-zwbpkt0x\\lib\\site-packages\\pandas\\core\\ops\\array_ops.py\u001b[0m in \u001b[0;36mcomp_method_OBJECT_ARRAY\u001b[1;34m(op, x, y)\u001b[0m\n\u001b[0;32m     53\u001b[0m         \u001b[0mresult\u001b[0m \u001b[1;33m=\u001b[0m \u001b[0mlibops\u001b[0m\u001b[1;33m.\u001b[0m\u001b[0mvec_compare\u001b[0m\u001b[1;33m(\u001b[0m\u001b[0mx\u001b[0m\u001b[1;33m.\u001b[0m\u001b[0mravel\u001b[0m\u001b[1;33m(\u001b[0m\u001b[1;33m)\u001b[0m\u001b[1;33m,\u001b[0m \u001b[0my\u001b[0m\u001b[1;33m.\u001b[0m\u001b[0mravel\u001b[0m\u001b[1;33m(\u001b[0m\u001b[1;33m)\u001b[0m\u001b[1;33m,\u001b[0m \u001b[0mop\u001b[0m\u001b[1;33m)\u001b[0m\u001b[1;33m\u001b[0m\u001b[1;33m\u001b[0m\u001b[0m\n\u001b[0;32m     54\u001b[0m     \u001b[1;32melse\u001b[0m\u001b[1;33m:\u001b[0m\u001b[1;33m\u001b[0m\u001b[1;33m\u001b[0m\u001b[0m\n\u001b[1;32m---> 55\u001b[1;33m         \u001b[0mresult\u001b[0m \u001b[1;33m=\u001b[0m \u001b[0mlibops\u001b[0m\u001b[1;33m.\u001b[0m\u001b[0mscalar_compare\u001b[0m\u001b[1;33m(\u001b[0m\u001b[0mx\u001b[0m\u001b[1;33m.\u001b[0m\u001b[0mravel\u001b[0m\u001b[1;33m(\u001b[0m\u001b[1;33m)\u001b[0m\u001b[1;33m,\u001b[0m \u001b[0my\u001b[0m\u001b[1;33m,\u001b[0m \u001b[0mop\u001b[0m\u001b[1;33m)\u001b[0m\u001b[1;33m\u001b[0m\u001b[1;33m\u001b[0m\u001b[0m\n\u001b[0m\u001b[0;32m     56\u001b[0m     \u001b[1;32mreturn\u001b[0m \u001b[0mresult\u001b[0m\u001b[1;33m.\u001b[0m\u001b[0mreshape\u001b[0m\u001b[1;33m(\u001b[0m\u001b[0mx\u001b[0m\u001b[1;33m.\u001b[0m\u001b[0mshape\u001b[0m\u001b[1;33m)\u001b[0m\u001b[1;33m\u001b[0m\u001b[1;33m\u001b[0m\u001b[0m\n\u001b[0;32m     57\u001b[0m \u001b[1;33m\u001b[0m\u001b[0m\n",
      "\u001b[1;32mpandas\\_libs\\ops.pyx\u001b[0m in \u001b[0;36mpandas._libs.ops.scalar_compare\u001b[1;34m()\u001b[0m\n",
      "\u001b[1;31mTypeError\u001b[0m: '>' not supported between instances of 'str' and 'int'"
     ]
    }
   ],
   "source": [
    "# Filter by integer value\n",
    "newDf = testtest.loc[(testtest['B01001A_001E']>40000)]\n",
    "newDf"
   ]
  },
  {
   "cell_type": "markdown",
   "id": "defined-found",
   "metadata": {},
   "source": [
    "## Matplotlib"
   ]
  },
  {
   "cell_type": "code",
   "execution_count": null,
   "id": "inappropriate-copper",
   "metadata": {},
   "outputs": [],
   "source": [
    "from matplotlib import pyplot as plt\n",
    "from matplotlib.ticker import MultipleLocator\n",
    "import numpy as np"
   ]
  },
  {
   "cell_type": "code",
   "execution_count": null,
   "id": "independent-concept",
   "metadata": {},
   "outputs": [],
   "source": [
    "allDistricts = newDf[\"NAME\"].tolist()\n",
    "totalPop = newDf[\"B01001A_001E\"].tolist()"
   ]
  },
  {
   "cell_type": "code",
   "execution_count": null,
   "id": "ongoing-catering",
   "metadata": {},
   "outputs": [],
   "source": [
    "fig = plt.figure(figsize=(50,50))\n",
    "\n",
    "plt.xticks(fontsize=50)\n",
    "plt.yticks(fontsize=50)\n",
    "\n",
    "\n",
    "plt.title('State Population',fontsize=50)\n",
    "plt.ylabel('allDistricts',fontsize=50)\n",
    "plt.xlabel('Population',fontsize=50)\n",
    "\n",
    "plt.barh(allDistricts, totalPop, 0.8, color = \"#444444\",label=\"TotalPopulation\")\n",
    "#plt.xticks([0,10])\n",
    "\n",
    "plt.legend(fontsize=50)\n",
    "plt.show()"
   ]
  },
  {
   "cell_type": "code",
   "execution_count": null,
   "id": "analyzed-olympus",
   "metadata": {},
   "outputs": [],
   "source": []
  }
 ],
 "metadata": {
  "kernelspec": {
   "display_name": "Python 3",
   "language": "python",
   "name": "python3"
  },
  "language_info": {
   "codemirror_mode": {
    "name": "ipython",
    "version": 3
   },
   "file_extension": ".py",
   "mimetype": "text/x-python",
   "name": "python",
   "nbconvert_exporter": "python",
   "pygments_lexer": "ipython3",
   "version": "3.9.1"
  }
 },
 "nbformat": 4,
 "nbformat_minor": 5
}
