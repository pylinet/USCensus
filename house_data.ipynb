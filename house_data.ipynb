{
 "metadata": {
  "language_info": {
   "codemirror_mode": {
    "name": "ipython",
    "version": 3
   },
   "file_extension": ".py",
   "mimetype": "text/x-python",
   "name": "python",
   "nbconvert_exporter": "python",
   "pygments_lexer": "ipython3",
   "version": "3.8.5-final"
  },
  "orig_nbformat": 2,
  "kernelspec": {
   "name": "python3",
   "display_name": "Python 3",
   "language": "python"
  }
 },
 "nbformat": 4,
 "nbformat_minor": 2,
 "cells": [
  {
   "cell_type": "code",
   "execution_count": 1,
   "metadata": {},
   "outputs": [],
   "source": [
    "from splinter import Browser"
   ]
  },
  {
   "cell_type": "code",
   "execution_count": 2,
   "metadata": {},
   "outputs": [],
   "source": [
    "%load_ext autoreload\n",
    "%autoreload 2"
   ]
  },
  {
   "cell_type": "code",
   "execution_count": 8,
   "metadata": {},
   "outputs": [],
   "source": [
    "from scripts import category_parser\n",
    "import json"
   ]
  },
  {
   "cell_type": "code",
   "execution_count": 4,
   "metadata": {},
   "outputs": [],
   "source": [
    "webdriver_path = {'executable_path': r'chromedriver.exe'}\n",
    "\n",
    "# initiate browser\n",
    "browser = Browser('chrome', **webdriver_path, headless=False)"
   ]
  },
  {
   "cell_type": "code",
   "execution_count": 8,
   "metadata": {},
   "outputs": [],
   "source": [
    "url = 'https://zillow.com'\n",
    "\n",
    "browser.visit(url)"
   ]
  },
  {
   "cell_type": "code",
   "execution_count": 6,
   "metadata": {},
   "outputs": [],
   "source": [
    "home1 = 'https://www.trulia.com/p/ny/hicksville/69-elm-st-hicksville-ny-11801--2010964403'\n",
    "home2 = 'https://www.trulia.com/p/ct/westport/7-sunnyside-ln-westport-ct-06880--2005761044'\n",
    "home3 = 'https://www.trulia.com/p/ct/weston/131-lyons-plain-rd-weston-ct-06883--2005762377'"
   ]
  },
  {
   "cell_type": "code",
   "execution_count": 17,
   "metadata": {},
   "outputs": [],
   "source": [
    "f = open('./scripts/home_schema.json')\n",
    "schema = json.load(f)"
   ]
  },
  {
   "cell_type": "code",
   "execution_count": 20,
   "metadata": {},
   "outputs": [],
   "source": [
    "parser = category_parser.trulia_parser(browser, home3, schema)"
   ]
  },
  {
   "cell_type": "code",
   "execution_count": 22,
   "metadata": {},
   "outputs": [],
   "source": [
    "results = parser.parse_page()"
   ]
  },
  {
   "cell_type": "code",
   "execution_count": 24,
   "metadata": {},
   "outputs": [
    {
     "output_type": "execute_result",
     "data": {
      "text/plain": [
       "{'listed_price': '$1,699,000',\n",
       " 'address_street': '131 Lyons Plain Rd',\n",
       " 'address_city_state': 'Weston, CT 06883',\n",
       " 'bedrooms': 5,\n",
       " 'bathrooms': 5,\n",
       " 'garage_spaces': 4,\n",
       " 'days_on_market': 1,\n",
       " 'year_built': 1940,\n",
       " 'listing_status': 'Active',\n",
       " 'elementary_school': 'Hurlbutt',\n",
       " 'jr_mid_school': 'Weston',\n",
       " 'mls_source_id': '170373293',\n",
       " 'lot_area': 3.71,\n",
       " 'tax_amount': 18642}"
      ]
     },
     "metadata": {},
     "execution_count": 24
    }
   ],
   "source": [
    "results"
   ]
  }
 ]
}