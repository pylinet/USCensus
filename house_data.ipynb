{
 "metadata": {
  "language_info": {
   "codemirror_mode": {
    "name": "ipython",
    "version": 3
   },
   "file_extension": ".py",
   "mimetype": "text/x-python",
   "name": "python",
   "nbconvert_exporter": "python",
   "pygments_lexer": "ipython3",
   "version": "3.9.1-final"
  },
  "orig_nbformat": 2,
  "kernelspec": {
   "name": "python3",
   "display_name": "Python 3",
   "language": "python"
  }
 },
 "nbformat": 4,
 "nbformat_minor": 2,
 "cells": [
  {
   "cell_type": "code",
   "execution_count": 3,
   "metadata": {},
   "outputs": [],
   "source": [
    "from splinter import Browser"
   ]
  },
  {
   "cell_type": "code",
   "execution_count": null,
   "metadata": {},
   "outputs": [],
   "source": [
    "%load_ext autoreload\n",
    "%autoreload 2"
   ]
  },
  {
   "cell_type": "code",
   "execution_count": 9,
   "metadata": {},
   "outputs": [
    {
     "output_type": "error",
     "ename": "ModuleNotFoundError",
     "evalue": "No module named 'category_parser'",
     "traceback": [
      "\u001b[1;31m---------------------------------------------------------------------------\u001b[0m",
      "\u001b[1;31mModuleNotFoundError\u001b[0m                       Traceback (most recent call last)",
      "\u001b[1;32m<ipython-input-9-686510137b4a>\u001b[0m in \u001b[0;36m<module>\u001b[1;34m\u001b[0m\n\u001b[1;32m----> 1\u001b[1;33m \u001b[1;32mfrom\u001b[0m \u001b[0mcategory_parser\u001b[0m \u001b[1;32mimport\u001b[0m \u001b[0mbedroom_checker\u001b[0m\u001b[1;33m\u001b[0m\u001b[1;33m\u001b[0m\u001b[0m\n\u001b[0m",
      "\u001b[1;31mModuleNotFoundError\u001b[0m: No module named 'category_parser'"
     ]
    }
   ],
   "source": [
    "from category_parser import bedroom_checker"
   ]
  },
  {
   "cell_type": "code",
   "execution_count": 7,
   "metadata": {},
   "outputs": [
    {
     "output_type": "error",
     "ename": "NameError",
     "evalue": "name 'bedrooms_checker' is not defined",
     "traceback": [
      "\u001b[1;31m---------------------------------------------------------------------------\u001b[0m",
      "\u001b[1;31mNameError\u001b[0m                                 Traceback (most recent call last)",
      "\u001b[1;32m<ipython-input-7-2995ad04573b>\u001b[0m in \u001b[0;36m<module>\u001b[1;34m\u001b[0m\n\u001b[1;32m----> 1\u001b[1;33m \u001b[0mbedrooms_checker\u001b[0m\u001b[1;33m\u001b[0m\u001b[1;33m\u001b[0m\u001b[0m\n\u001b[0m",
      "\u001b[1;31mNameError\u001b[0m: name 'bedrooms_checker' is not defined"
     ]
    }
   ],
   "source": []
  },
  {
   "cell_type": "code",
   "execution_count": 5,
   "metadata": {},
   "outputs": [],
   "source": [
    "webdriver_path = {'executable_path': r'chromedriver.exe'}\n",
    "\n",
    "# initiate browser\n",
    "browser = Browser('chrome', **webdriver_path, headless=False)"
   ]
  },
  {
   "cell_type": "code",
   "execution_count": 7,
   "metadata": {},
   "outputs": [],
   "source": [
    "url = 'https://zillow.com'\n",
    "\n",
    "browser.visit(url)"
   ]
  },
  {
   "cell_type": "code",
   "execution_count": 7,
   "metadata": {},
   "outputs": [],
   "source": [
    "home1 = 'https://www.trulia.com/p/ny/hicksville/69-elm-st-hicksville-ny-11801--2010964403'"
   ]
  },
  {
   "cell_type": "code",
   "execution_count": 8,
   "metadata": {},
   "outputs": [],
   "source": [
    "browser.visit(home1)"
   ]
  },
  {
   "source": [
    "## Checklist\n",
    "- listed_price\n",
    "- address\n",
    "- bedrooms\n",
    "- bathrooms\n",
    "- unit\n",
    "- dishwasher\n",
    "- dryer\n",
    "- microwave\n",
    "- refrigerator\n",
    "- washer\n",
    "- heating\n",
    "- air_conditioning\n",
    "- flooring\n",
    "- deck\n",
    "- fencing\n",
    "- sprinkler\n",
    "- private_pool\n",
    "- garage_spaces\n",
    "- attached_garage\n",
    "- parking\n",
    "- sewer\n",
    "- days_on_market\n",
    "- year_built\n",
    "- property_type\n",
    "- architecture\n",
    "- new_construction\n",
    "- construction_materials\n",
    "- listing_status\n",
    "- ele_sch_dist\n",
    "- mid_sch_dist\n",
    "- hs_sch_dist\n",
    "- mls_id\n",
    "- lot_area\n",
    "- annual_tax_amt\n",
    "- tax_block\n",
    "- tax_lot\n"
   ],
   "cell_type": "markdown",
   "metadata": {}
  },
  {
   "cell_type": "code",
   "execution_count": null,
   "metadata": {},
   "outputs": [],
   "source": [
    "def scrape_trulia(home_link):\n",
    "    # press see all amenities button\n",
    "    browser.find_by_xpath('//button[@data-testid=\"structured-amenities-table-see-all-button\"]').click()\n",
    "    \n",
    "    # get listed price\n",
    "    listed_price = browser.find_by_xpath(\"//h3[@data-testid='on-market-price-details']\")[0].value\n",
    "\n",
    "\n",
    "    \n",
    "    return {\n",
    "        listed_price: listed_price,\n",
    "        trulia_link: home_link\n",
    "    }"
   ]
  },
  {
   "cell_type": "code",
   "execution_count": 24,
   "metadata": {},
   "outputs": [],
   "source": [
    "# press see all amenities button\n",
    "browser.find_by_xpath('//button[@data-testid=\"structured-amenities-table-see-all-button\"]').click()"
   ]
  },
  {
   "cell_type": "code",
   "execution_count": 9,
   "metadata": {},
   "outputs": [
    {
     "output_type": "execute_result",
     "data": {
      "text/plain": [
       "'$615,000'"
      ]
     },
     "metadata": {},
     "execution_count": 9
    }
   ],
   "source": [
    "# get listed price\n",
    "listed_price = browser.find_by_xpath(\"//h3[@data-testid='on-market-price-details']\")[0].value\n",
    "listed_price"
   ]
  },
  {
   "cell_type": "code",
   "execution_count": 31,
   "metadata": {},
   "outputs": [],
   "source": [
    "categoryParser = {\n",
    "    'bedrooms': {\n",
    "        'check':is_bedrooms,\n",
    "        'parse': parse_bedrooms\n",
    "    }\n",
    "}"
   ]
  },
  {
   "cell_type": "code",
   "execution_count": 18,
   "metadata": {},
   "outputs": [],
   "source": [
    "# structure categories\n",
    "structured_categories = browser.find_by_xpath('//div[@data-testid=\"structured-amenities-table-category\"]')"
   ]
  },
  {
   "cell_type": "code",
   "execution_count": 19,
   "metadata": {},
   "outputs": [],
   "source": [
    "int_features = structured_categories[0]"
   ]
  },
  {
   "cell_type": "code",
   "execution_count": 20,
   "metadata": {},
   "outputs": [],
   "source": [
    "f = int_features.find_by_tag('li')"
   ]
  },
  {
   "cell_type": "code",
   "execution_count": 32,
   "metadata": {},
   "outputs": [],
   "source": [
    "for i in f:\n",
    "    for k, v in categoryParser.items():\n",
    "        if(v['check'](i.text)):\n",
    "           v['parse'](i.text) "
   ]
  },
  {
   "cell_type": "code",
   "execution_count": 30,
   "metadata": {},
   "outputs": [],
   "source": [
    "def is_bedrooms(t):\n",
    "    return t.split(':')[0] == 'Number of Bedrooms'\n",
    "\n",
    "def parse_bedrooms(t):\n",
    "    return t.split(':')[1].strip()"
   ]
  },
  {
   "cell_type": "code",
   "execution_count": null,
   "metadata": {},
   "outputs": [],
   "source": [
    "def bedrooms_checker(text, collection, )"
   ]
  }
 ]
}