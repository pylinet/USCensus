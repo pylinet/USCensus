{
 "metadata": {
  "language_info": {
   "codemirror_mode": {
    "name": "ipython",
    "version": 3
   },
   "file_extension": ".py",
   "mimetype": "text/x-python",
   "name": "python",
   "nbconvert_exporter": "python",
   "pygments_lexer": "ipython3",
   "version": "3.9.1-final"
  },
  "orig_nbformat": 2,
  "kernelspec": {
   "name": "python3",
   "display_name": "Python 3",
   "language": "python"
  }
 },
 "nbformat": 4,
 "nbformat_minor": 2,
 "cells": [
  {
   "cell_type": "code",
   "execution_count": 1,
   "metadata": {},
   "outputs": [],
   "source": [
    "from splinter import Browser\n",
    "import chromedriver_binary"
   ]
  },
  {
   "cell_type": "code",
   "execution_count": 5,
   "metadata": {},
   "outputs": [],
   "source": [
    "webdriver_path = {'executable_path': r'chromedriver.exe'}\n",
    "\n",
    "# initiate browser\n",
    "browser = Browser('chrome', **webdriver_path, headless=False)"
   ]
  },
  {
   "cell_type": "code",
   "execution_count": 7,
   "metadata": {},
   "outputs": [],
   "source": [
    "url = 'https://zillow.com'\n",
    "\n",
    "browser.visit(url)"
   ]
  },
  {
   "cell_type": "code",
   "execution_count": 7,
   "metadata": {},
   "outputs": [],
   "source": [
    "home1 = 'https://www.trulia.com/p/ny/hicksville/69-elm-st-hicksville-ny-11801--2010964403'"
   ]
  },
  {
   "cell_type": "code",
   "execution_count": 8,
   "metadata": {},
   "outputs": [],
   "source": [
    "browser.visit(home1)"
   ]
  },
  {
   "source": [
    "## Checklist\n",
    "- listed_price\n",
    "- address\n",
    "- bedrooms\n",
    "- bathrooms\n",
    "- unit\n",
    "- dishwasher\n",
    "- dryer\n",
    "- microwave\n",
    "- refrigerator\n",
    "- washer\n",
    "- heating\n",
    "- air_conditioning\n",
    "- flooring\n",
    "- deck\n",
    "- fencing\n",
    "- sprinkler\n",
    "- private_pool\n",
    "- garage_spaces\n",
    "- attached_garage\n",
    "- parking\n",
    "- sewer\n",
    "- days_on_market\n",
    "- year_built\n",
    "- property_type\n",
    "- architecture\n",
    "- new_construction\n",
    "- construction_materials\n",
    "- listing_status\n",
    "- ele_sch_dist\n",
    "- mid_sch_dist\n",
    "- hs_sch_dist\n",
    "- mls_id\n",
    "- lot_area\n",
    "- annual_tax_amt\n",
    "- tax_block\n",
    "- tax_lot\n"
   ],
   "cell_type": "markdown",
   "metadata": {}
  },
  {
   "cell_type": "code",
   "execution_count": null,
   "metadata": {},
   "outputs": [],
   "source": [
    "def scrape_trulia(home_link):\n",
    "    # press see all amenities button\n",
    "    browser.find_by_xpath('//button[@data-testid=\"structured-amenities-table-see-all-button\"]').click()\n",
    "    \n",
    "    # get listed price\n",
    "    listed_price = browser.find_by_xpath(\"//h3[@data-testid='on-market-price-details']\")[0].value\n",
    "\n",
    "\n",
    "    \n",
    "    return {\n",
    "        listed_price: listed_price,\n",
    "        trulia_link: home_link\n",
    "    }"
   ]
  },
  {
   "cell_type": "code",
   "execution_count": 24,
   "metadata": {},
   "outputs": [],
   "source": [
    "# press see all amenities button\n",
    "browser.find_by_xpath('//button[@data-testid=\"structured-amenities-table-see-all-button\"]').click()"
   ]
  },
  {
   "cell_type": "code",
   "execution_count": 9,
   "metadata": {},
   "outputs": [
    {
     "output_type": "execute_result",
     "data": {
      "text/plain": [
       "'$615,000'"
      ]
     },
     "metadata": {},
     "execution_count": 9
    }
   ],
   "source": [
    "# get listed price\n",
    "listed_price = browser.find_by_xpath(\"//h3[@data-testid='on-market-price-details']\")[0].value\n",
    "listed_price"
   ]
  },
  {
   "cell_type": "code",
   "execution_count": null,
   "metadata": {},
   "outputs": [],
   "source": [
    "categoryParser = {\n",
    "    'bedrooms': {\n",
    "        'check':is_bedrooms,\n",
    "        'parse': parse_bedrooms\n",
    "    }\n",
    "}"
   ]
  },
  {
   "cell_type": "code",
   "execution_count": 18,
   "metadata": {},
   "outputs": [],
   "source": [
    "# structure categories\n",
    "structured_categories = browser.find_by_xpath('//div[@data-testid=\"structured-amenities-table-category\"]')"
   ]
  },
  {
   "cell_type": "code",
   "execution_count": 19,
   "metadata": {},
   "outputs": [],
   "source": [
    "int_features = structured_categories[0]"
   ]
  },
  {
   "cell_type": "code",
   "execution_count": 20,
   "metadata": {},
   "outputs": [],
   "source": [
    "f = int_features.find_by_tag('li')"
   ]
  },
  {
   "cell_type": "code",
   "execution_count": 21,
   "metadata": {},
   "outputs": [
    {
     "output_type": "stream",
     "name": "stdout",
     "text": [
      "False\nTrue\nFalse\nFalse\nFalse\nFalse\nFalse\nFalse\nFalse\nFalse\nFalse\nFalse\nFalse\nFalse\nFalse\nFalse\n"
     ]
    }
   ],
   "source": [
    "for i in f:\n",
    "    print(is_bedrooms(i.text))"
   ]
  },
  {
   "cell_type": "code",
   "execution_count": 16,
   "metadata": {},
   "outputs": [],
   "source": [
    "def is_bedrooms(t):\n",
    "    return t.split(':')[0] == 'Number of Bedrooms'\n",
    "\n",
    "def parse_bedrooms(t):\n",
    "    return t.split(':')[1].trim()"
   ]
  },
  {
   "cell_type": "code",
   "execution_count": null,
   "metadata": {},
   "outputs": [],
   "source": []
  }
 ]
}