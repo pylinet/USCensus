{
 "metadata": {
  "language_info": {
   "codemirror_mode": {
    "name": "ipython",
    "version": 3
   },
   "file_extension": ".py",
   "mimetype": "text/x-python",
   "name": "python",
   "nbconvert_exporter": "python",
   "pygments_lexer": "ipython3",
   "version": "3.8.5-final"
  },
  "orig_nbformat": 2,
  "kernelspec": {
   "name": "python3",
   "display_name": "Python 3",
   "language": "python"
  }
 },
 "nbformat": 4,
 "nbformat_minor": 2,
 "cells": [
  {
   "cell_type": "code",
   "execution_count": 1,
   "metadata": {},
   "outputs": [],
   "source": [
    "from splinter import Browser"
   ]
  },
  {
   "cell_type": "code",
   "execution_count": 2,
   "metadata": {},
   "outputs": [],
   "source": [
    "%load_ext autoreload\n",
    "%autoreload 2"
   ]
  },
  {
   "cell_type": "code",
   "execution_count": 8,
   "metadata": {},
   "outputs": [],
   "source": [
    "from scripts import category_parser\n",
    "import json"
   ]
  },
  {
   "cell_type": "code",
   "execution_count": 4,
   "metadata": {},
   "outputs": [],
   "source": [
    "webdriver_path = {'executable_path': r'chromedriver.exe'}\n",
    "\n",
    "# initiate browser\n",
    "browser = Browser('chrome', **webdriver_path, headless=False)"
   ]
  },
  {
   "cell_type": "code",
   "execution_count": 8,
   "metadata": {},
   "outputs": [],
   "source": [
    "url = 'https://zillow.com'\n",
    "\n",
    "browser.visit(url)"
   ]
  },
  {
   "cell_type": "code",
   "execution_count": 6,
   "metadata": {},
   "outputs": [],
   "source": [
    "home1 = 'https://www.trulia.com/p/ny/hicksville/69-elm-st-hicksville-ny-11801--2010964403'\n",
    "home2 = 'https://www.trulia.com/p/ct/westport/7-sunnyside-ln-westport-ct-06880--2005761044'\n",
    "home3 = 'https://www.trulia.com/p/ct/weston/131-lyons-plain-rd-weston-ct-06883--2005762377'"
   ]
  },
  {
   "cell_type": "code",
   "execution_count": 17,
   "metadata": {},
   "outputs": [],
   "source": [
    "f = open('./scripts/home_schema.json')\n",
    "schema = json.load(f)"
   ]
  },
  {
   "cell_type": "code",
   "execution_count": 25,
   "metadata": {},
   "outputs": [],
   "source": [
    "parser = category_parser.trulia_parser(browser, home1, schema)"
   ]
  },
  {
   "cell_type": "code",
   "execution_count": 26,
   "metadata": {},
   "outputs": [],
   "source": [
    "results = parser.parse_page()"
   ]
  },
  {
   "cell_type": "code",
   "execution_count": 27,
   "metadata": {},
   "outputs": [
    {
     "output_type": "execute_result",
     "data": {
      "text/plain": [
       "{'listed_price': '$615,000',\n",
       " 'address_street': '69 Elm St',\n",
       " 'address_city_state': 'Hicksville, NY 11801',\n",
       " 'bedrooms': 4,\n",
       " 'bathrooms': 2,\n",
       " 'flooring_type': 'Hardwood',\n",
       " 'garage_spaces': 1,\n",
       " 'days_on_market': 8,\n",
       " 'year_built': 1954,\n",
       " 'listing_status': 'Pending',\n",
       " 'elementary_school': 'East Street School',\n",
       " 'elementary_school_district': 'Hicksville',\n",
       " 'jr_mid_school': 'Hicksville Middle School',\n",
       " 'jr_mid_school_district': 'Hicksville',\n",
       " 'high_school_district': 'Hicksville',\n",
       " 'mls_source_id': '3287583',\n",
       " 'lot_area': 0.14,\n",
       " 'tax_amount': 8479}"
      ]
     },
     "metadata": {},
     "execution_count": 27
    }
   ],
   "source": [
    "results"
   ]
  },
  {
   "cell_type": "code",
   "execution_count": null,
   "metadata": {},
   "outputs": [],
   "source": []
  }
 ]
}