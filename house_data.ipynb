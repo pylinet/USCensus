{
 "metadata": {
  "language_info": {
   "codemirror_mode": {
    "name": "ipython",
    "version": 3
   },
   "file_extension": ".py",
   "mimetype": "text/x-python",
   "name": "python",
   "nbconvert_exporter": "python",
   "pygments_lexer": "ipython3",
   "version": "3.8.5-final"
  },
  "orig_nbformat": 2,
  "kernelspec": {
   "name": "python3",
   "display_name": "Python 3",
   "language": "python"
  }
 },
 "nbformat": 4,
 "nbformat_minor": 2,
 "cells": [
  {
   "cell_type": "code",
   "execution_count": 4,
   "metadata": {},
   "outputs": [],
   "source": [
    "from splinter import Browser"
   ]
  },
  {
   "cell_type": "code",
   "execution_count": 5,
   "metadata": {},
   "outputs": [],
   "source": [
    "%load_ext autoreload\n",
    "%autoreload 2"
   ]
  },
  {
   "cell_type": "code",
   "execution_count": 6,
   "metadata": {},
   "outputs": [],
   "source": [
    "from scripts import category_parser"
   ]
  },
  {
   "cell_type": "code",
   "execution_count": 7,
   "metadata": {},
   "outputs": [],
   "source": [
    "webdriver_path = {'executable_path': r'chromedriver.exe'}\n",
    "\n",
    "# initiate browser\n",
    "browser = Browser('chrome', **webdriver_path, headless=False)"
   ]
  },
  {
   "cell_type": "code",
   "execution_count": 8,
   "metadata": {},
   "outputs": [],
   "source": [
    "url = 'https://zillow.com'\n",
    "\n",
    "browser.visit(url)"
   ]
  },
  {
   "cell_type": "code",
   "execution_count": 52,
   "metadata": {},
   "outputs": [],
   "source": [
    "home1 = 'https://www.trulia.com/p/ny/hicksville/69-elm-st-hicksville-ny-11801--2010964403'\n",
    "home2 = 'https://www.trulia.com/p/ct/westport/7-sunnyside-ln-westport-ct-06880--2005761044'\n",
    "home3 = 'https://www.trulia.com/p/ct/weston/131-lyons-plain-rd-weston-ct-06883--2005762377'"
   ]
  },
  {
   "cell_type": "code",
   "execution_count": null,
   "metadata": {},
   "outputs": [],
   "source": []
  },
  {
   "cell_type": "code",
   "execution_count": 53,
   "metadata": {},
   "outputs": [],
   "source": [
    "parser = category_parser.trulia_parser(browser, home2)"
   ]
  },
  {
   "cell_type": "code",
   "execution_count": 54,
   "metadata": {},
   "outputs": [],
   "source": [
    "results = parser.parse_page()"
   ]
  },
  {
   "cell_type": "code",
   "execution_count": 55,
   "metadata": {},
   "outputs": [
    {
     "output_type": "execute_result",
     "data": {
      "text/plain": [
       "{'bedrooms': 5,\n",
       " 'bathrooms': 7,\n",
       " 'garage_spaces': 3,\n",
       " 'days_on_market': 1,\n",
       " 'year_built': 1965,\n",
       " 'listing_status': 'Coming_Soon',\n",
       " 'elementary_school': 'Coleytown',\n",
       " 'jr_mid_school': 'Bedford',\n",
       " 'mls_source_id': '170374052',\n",
       " 'lot_area': 1.3,\n",
       " 'tax_amount': 24281}"
      ]
     },
     "metadata": {},
     "execution_count": 55
    }
   ],
   "source": [
    "results"
   ]
  },
  {
   "source": [
    "## Checklist\n",
    "- listed_price\n",
    "- address\n",
    "- bedrooms\n",
    "- bathrooms\n",
    "- unit\n",
    "- dishwasher\n",
    "- dryer\n",
    "- microwave\n",
    "- refrigerator\n",
    "- washer\n",
    "- heating\n",
    "- air_conditioning\n",
    "- flooring\n",
    "- deck\n",
    "- fencing\n",
    "- sprinkler\n",
    "- private_pool\n",
    "- garage_spaces\n",
    "- attached_garage\n",
    "- parking\n",
    "- sewer\n",
    "- days_on_market\n",
    "- year_built\n",
    "- property_type\n",
    "- architecture\n",
    "- new_construction\n",
    "- construction_materials\n",
    "- listing_status\n",
    "- ele_sch_dist\n",
    "- mid_sch_dist\n",
    "- hs_sch_dist\n",
    "- mls_id\n",
    "- lot_area\n",
    "- annual_tax_amt\n",
    "- tax_block\n",
    "- tax_lot\n"
   ],
   "cell_type": "markdown",
   "metadata": {}
  },
  {
   "cell_type": "code",
   "execution_count": null,
   "metadata": {},
   "outputs": [],
   "source": [
    "def scrape_trulia(home_link):\n",
    "    # press see all amenities button\n",
    "    browser.find_by_xpath('//button[@data-testid=\"structured-amenities-table-see-all-button\"]').click()\n",
    "    \n",
    "    # get listed price\n",
    "    listed_price = browser.find_by_xpath(\"//h3[@data-testid='on-market-price-details']\")[0].value\n",
    "\n",
    "\n",
    "    \n",
    "    return {\n",
    "        listed_price: listed_price,\n",
    "        trulia_link: home_link\n",
    "    }"
   ]
  },
  {
   "cell_type": "code",
   "execution_count": 22,
   "metadata": {},
   "outputs": [],
   "source": [
    "# press see all amenities button\n",
    "browser.find_by_xpath('//button[@data-testid=\"structured-amenities-table-see-all-button\"]').click()"
   ]
  },
  {
   "cell_type": "code",
   "execution_count": 23,
   "metadata": {},
   "outputs": [
    {
     "output_type": "execute_result",
     "data": {
      "text/plain": [
       "'$615,000'"
      ]
     },
     "metadata": {},
     "execution_count": 23
    }
   ],
   "source": [
    "# get listed price\n",
    "listed_price = browser.find_by_xpath(\"//h3[@data-testid='on-market-price-details']\")[0].value\n",
    "listed_price"
   ]
  },
  {
   "cell_type": "code",
   "execution_count": 25,
   "metadata": {},
   "outputs": [],
   "source": [
    "# structure categories\n",
    "structured_categories = browser.find_by_xpath('//div[@data-testid=\"structured-amenities-table-category\"]')"
   ]
  },
  {
   "cell_type": "code",
   "execution_count": 31,
   "metadata": {},
   "outputs": [],
   "source": [
    "items = structured_categories\n",
    "\n",
    "def get_text(i):\n",
    "    return i.text\n",
    "\n",
    "texts = map(get_text, items)"
   ]
  },
  {
   "cell_type": "code",
   "execution_count": 35,
   "metadata": {},
   "outputs": [
    {
     "output_type": "stream",
     "name": "stdout",
     "text": [
      "Basement: Finished\n",
      "Number of Bedrooms: 4\n",
      "Number of Bathrooms: 2\n",
      "Number of Bathrooms (full): 2\n",
      "Living Area Units: Square Feet\n",
      "Appliances: Dishwasher, Dryer, Microwave, Refrigerator, Washer\n",
      "Dishwasher\n",
      "Dryer\n",
      "Microwave\n",
      "Refrigerator\n",
      "Washer\n",
      "Heating: Oil,Baseboard\n",
      "Has Cooling\n",
      "Air Conditioning: Wall Unit(s)\n",
      "Flooring: Hardwood\n",
      "Floors: Hardwood\n",
      "Patio / Porch: Deck\n",
      "Fencing: Back Yard\n",
      "Exterior: Sprinkler Lawn System\n",
      "Has a Private Pool\n",
      "Number of Garage Spaces: 1\n",
      "Has a Garage\n",
      "Has an Attached Garage\n",
      "Parking: Private,Attached,Driveway,On Street\n",
      "Pool: Above Ground\n",
      "Pool\n",
      "Sewer: Sewer\n",
      "Days on Market: 4\n",
      "Year Built: 1954\n",
      "Property Type: Residential\n",
      "Property Subtype: Single Family Residence\n",
      "Architecture: Colonial\n",
      "Construction Materials: Frame, Aluminum Siding, Vinyl Siding\n",
      "Not a New Construction\n",
      "Not Included in Sale: See Remarks\n",
      "Included in Sale: A/C Units, Dishwasher, Dryer, Microwave, Refrigerator, Washer\n",
      "Listing Status: Active\n",
      "MLS Status: A\n",
      "See Virtual Tour\n",
      "Elementary School: Dutch Lane School\n",
      "Elementary School District: Hicksville\n",
      "Jr High / Middle School: Hicksville Middle School\n",
      "Jr High / Middle School District: Hicksville\n",
      "High School: Hicksville High School\n",
      "High School District: Hicksville\n",
      "MLS/Source ID: 3287583\n",
      "Building Area Units: Square Feet\n",
      "Not Senior Community\n",
      "Lot Area: 0.14 Acres\n",
      "Annual Tax Amount: $8,479\n",
      "Tax Block: 327\n",
      "Tax Lot: 10\n",
      "Owner Name: Doyle\n",
      "Basement\n"
     ]
    }
   ],
   "source": [
    "for c in structured_categories:\n",
    "    items = c.find_by_tag('li')\n",
    "    for i in items:\n",
    "        print(i.text)"
   ]
  },
  {
   "cell_type": "code",
   "execution_count": 19,
   "metadata": {},
   "outputs": [],
   "source": [
    "int_features = structured_categories[0]"
   ]
  },
  {
   "cell_type": "code",
   "execution_count": 20,
   "metadata": {},
   "outputs": [],
   "source": [
    "f = int_features.find_by_tag('li')"
   ]
  },
  {
   "cell_type": "code",
   "execution_count": 32,
   "metadata": {},
   "outputs": [],
   "source": [
    "for i in f:\n",
    "    for k, v in categoryParser.items():\n",
    "        if(v['check'](i.text)):\n",
    "           v['parse'](i.text) "
   ]
  },
  {
   "cell_type": "code",
   "execution_count": 30,
   "metadata": {},
   "outputs": [],
   "source": [
    "def is_bedrooms(t):\n",
    "    return t.split(':')[0] == 'Number of Bedrooms'\n",
    "\n",
    "def parse_bedrooms(t):\n",
    "    return t.split(':')[1].strip()"
   ]
  },
  {
   "cell_type": "code",
   "execution_count": null,
   "metadata": {},
   "outputs": [],
   "source": [
    "def bedrooms_checker(text, collection, )"
   ]
  }
 ]
}