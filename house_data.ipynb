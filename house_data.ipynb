{
 "metadata": {
  "language_info": {
   "codemirror_mode": {
    "name": "ipython",
    "version": 3
   },
   "file_extension": ".py",
   "mimetype": "text/x-python",
   "name": "python",
   "nbconvert_exporter": "python",
   "pygments_lexer": "ipython3",
   "version": "3.8.5-final"
  },
  "orig_nbformat": 2,
  "kernelspec": {
   "name": "python3",
   "display_name": "Python 3",
   "language": "python"
  }
 },
 "nbformat": 4,
 "nbformat_minor": 2,
 "cells": [
  {
   "cell_type": "code",
   "execution_count": 1,
   "metadata": {},
   "outputs": [],
   "source": [
    "from splinter import Browser"
   ]
  },
  {
   "cell_type": "code",
   "execution_count": 20,
   "metadata": {},
   "outputs": [],
   "source": [
    "import pandas as pd\n",
    "import matplotlib as plt\n",
    "import os"
   ]
  },
  {
   "cell_type": "code",
   "execution_count": 2,
   "metadata": {},
   "outputs": [],
   "source": [
    "%load_ext autoreload\n",
    "%autoreload 2"
   ]
  },
  {
   "cell_type": "code",
   "execution_count": 3,
   "metadata": {},
   "outputs": [],
   "source": [
    "from scripts import trulia_scraper\n",
    "import json"
   ]
  },
  {
   "cell_type": "code",
   "execution_count": 4,
   "metadata": {},
   "outputs": [],
   "source": [
    "webdriver_path = {'executable_path': r'chromedriver.exe'}\n",
    "\n",
    "# initiate browser\n",
    "browser = Browser('chrome', **webdriver_path, headless=False)"
   ]
  },
  {
   "cell_type": "code",
   "execution_count": 5,
   "metadata": {},
   "outputs": [],
   "source": [
    "f = open('./scripts/home_schema.json')\n",
    "schema = json.load(f)"
   ]
  },
  {
   "cell_type": "code",
   "execution_count": 36,
   "metadata": {},
   "outputs": [],
   "source": [
    "home_urls = trulia_scraper.get_listing_urls_by_state_city(browser, 'NY', 'Cold_Spring_Harbor')"
   ]
  },
  {
   "cell_type": "code",
   "execution_count": 38,
   "metadata": {},
   "outputs": [],
   "source": [
    "with open('./Data/ny_cold-spring-harbor.json', 'w') as j:\n",
    "    json.dump(home_urls, j)"
   ]
  },
  {
   "cell_type": "code",
   "execution_count": 39,
   "metadata": {},
   "outputs": [],
   "source": [
    "home_data = trulia_scraper.get_listings_by_listing_urls(browser,schema,home_urls)"
   ]
  },
  {
   "cell_type": "code",
   "execution_count": 42,
   "metadata": {},
   "outputs": [],
   "source": [
    "with open('./Data/ny_cold-spring-harbor_20210302.json', 'w') as d:\n",
    "    json.dump(home_data, d)"
   ]
  },
  {
   "cell_type": "code",
   "execution_count": 40,
   "metadata": {},
   "outputs": [],
   "source": [
    "hd = pd.DataFrame(home_data)"
   ]
  },
  {
   "cell_type": "code",
   "execution_count": 43,
   "metadata": {},
   "outputs": [
    {
     "output_type": "execute_result",
     "data": {
      "text/plain": [
       "array([[<AxesSubplot:title={'center':'listed_price'}>]], dtype=object)"
      ]
     },
     "metadata": {},
     "execution_count": 43
    },
    {
     "output_type": "display_data",
     "data": {
      "text/plain": "<Figure size 432x288 with 1 Axes>",
      "image/svg+xml": "<?xml version=\"1.0\" encoding=\"utf-8\" standalone=\"no\"?>\r\n<!DOCTYPE svg PUBLIC \"-//W3C//DTD SVG 1.1//EN\"\r\n  \"http://www.w3.org/Graphics/SVG/1.1/DTD/svg11.dtd\">\r\n<!-- Created with matplotlib (https://matplotlib.org/) -->\r\n<svg height=\"276.314375pt\" version=\"1.1\" viewBox=\"0 0 368.925 276.314375\" width=\"368.925pt\" xmlns=\"http://www.w3.org/2000/svg\" xmlns:xlink=\"http://www.w3.org/1999/xlink\">\r\n <metadata>\r\n  <rdf:RDF xmlns:cc=\"http://creativecommons.org/ns#\" xmlns:dc=\"http://purl.org/dc/elements/1.1/\" xmlns:rdf=\"http://www.w3.org/1999/02/22-rdf-syntax-ns#\">\r\n   <cc:Work>\r\n    <dc:type rdf:resource=\"http://purl.org/dc/dcmitype/StillImage\"/>\r\n    <dc:date>2021-03-02T19:11:02.933045</dc:date>\r\n    <dc:format>image/svg+xml</dc:format>\r\n    <dc:creator>\r\n     <cc:Agent>\r\n      <dc:title>Matplotlib v3.3.4, https://matplotlib.org/</dc:title>\r\n     </cc:Agent>\r\n    </dc:creator>\r\n   </cc:Work>\r\n  </rdf:RDF>\r\n </metadata>\r\n <defs>\r\n  <style type=\"text/css\">*{stroke-linecap:butt;stroke-linejoin:round;}</style>\r\n </defs>\r\n <g id=\"figure_1\">\r\n  <g id=\"patch_1\">\r\n   <path d=\"M -0 276.314375 \r\nL 368.925 276.314375 \r\nL 368.925 0 \r\nL -0 0 \r\nz\r\n\" style=\"fill:none;\"/>\r\n  </g>\r\n  <g id=\"axes_1\">\r\n   <g id=\"patch_2\">\r\n    <path d=\"M 26.925 239.758125 \r\nL 361.725 239.758125 \r\nL 361.725 22.318125 \r\nL 26.925 22.318125 \r\nz\r\n\" style=\"fill:#ffffff;\"/>\r\n   </g>\r\n   <g id=\"patch_3\">\r\n    <path clip-path=\"url(#pabace511c1)\" d=\"M 42.143182 239.758125 \r\nL 72.579545 239.758125 \r\nL 72.579545 32.672411 \r\nL 42.143182 32.672411 \r\nz\r\n\" style=\"fill:#1f77b4;\"/>\r\n   </g>\r\n   <g id=\"patch_4\">\r\n    <path clip-path=\"url(#pabace511c1)\" d=\"M 72.579545 239.758125 \r\nL 103.015909 239.758125 \r\nL 103.015909 131.713405 \r\nL 72.579545 131.713405 \r\nz\r\n\" style=\"fill:#1f77b4;\"/>\r\n   </g>\r\n   <g id=\"patch_5\">\r\n    <path clip-path=\"url(#pabace511c1)\" d=\"M 103.015909 239.758125 \r\nL 133.452273 239.758125 \r\nL 133.452273 176.732038 \r\nL 103.015909 176.732038 \r\nz\r\n\" style=\"fill:#1f77b4;\"/>\r\n   </g>\r\n   <g id=\"patch_6\">\r\n    <path clip-path=\"url(#pabace511c1)\" d=\"M 133.452273 239.758125 \r\nL 163.888636 239.758125 \r\nL 163.888636 239.758125 \r\nL 133.452273 239.758125 \r\nz\r\n\" style=\"fill:#1f77b4;\"/>\r\n   </g>\r\n   <g id=\"patch_7\">\r\n    <path clip-path=\"url(#pabace511c1)\" d=\"M 163.888636 239.758125 \r\nL 194.325 239.758125 \r\nL 194.325 221.750672 \r\nL 163.888636 221.750672 \r\nz\r\n\" style=\"fill:#1f77b4;\"/>\r\n   </g>\r\n   <g id=\"patch_8\">\r\n    <path clip-path=\"url(#pabace511c1)\" d=\"M 194.325 239.758125 \r\nL 224.761364 239.758125 \r\nL 224.761364 230.754398 \r\nL 194.325 230.754398 \r\nz\r\n\" style=\"fill:#1f77b4;\"/>\r\n   </g>\r\n   <g id=\"patch_9\">\r\n    <path clip-path=\"url(#pabace511c1)\" d=\"M 224.761364 239.758125 \r\nL 255.197727 239.758125 \r\nL 255.197727 230.754398 \r\nL 224.761364 230.754398 \r\nz\r\n\" style=\"fill:#1f77b4;\"/>\r\n   </g>\r\n   <g id=\"patch_10\">\r\n    <path clip-path=\"url(#pabace511c1)\" d=\"M 255.197727 239.758125 \r\nL 285.634091 239.758125 \r\nL 285.634091 239.758125 \r\nL 255.197727 239.758125 \r\nz\r\n\" style=\"fill:#1f77b4;\"/>\r\n   </g>\r\n   <g id=\"patch_11\">\r\n    <path clip-path=\"url(#pabace511c1)\" d=\"M 285.634091 239.758125 \r\nL 316.070455 239.758125 \r\nL 316.070455 239.758125 \r\nL 285.634091 239.758125 \r\nz\r\n\" style=\"fill:#1f77b4;\"/>\r\n   </g>\r\n   <g id=\"patch_12\">\r\n    <path clip-path=\"url(#pabace511c1)\" d=\"M 316.070455 239.758125 \r\nL 346.506818 239.758125 \r\nL 346.506818 230.754398 \r\nL 316.070455 230.754398 \r\nz\r\n\" style=\"fill:#1f77b4;\"/>\r\n   </g>\r\n   <g id=\"matplotlib.axis_1\">\r\n    <g id=\"xtick_1\">\r\n     <g id=\"line2d_1\">\r\n      <path clip-path=\"url(#pabace511c1)\" d=\"M 31.337683 239.758125 \r\nL 31.337683 22.318125 \r\n\" style=\"fill:none;stroke:#b0b0b0;stroke-linecap:square;stroke-width:0.8;\"/>\r\n     </g>\r\n     <g id=\"line2d_2\">\r\n      <defs>\r\n       <path d=\"M 0 0 \r\nL 0 3.5 \r\n\" id=\"m6111dae51d\" style=\"stroke:#000000;stroke-width:0.8;\"/>\r\n      </defs>\r\n      <g>\r\n       <use style=\"stroke:#000000;stroke-width:0.8;\" x=\"31.337683\" xlink:href=\"#m6111dae51d\" y=\"239.758125\"/>\r\n      </g>\r\n     </g>\r\n     <g id=\"text_1\">\r\n      <!-- 0.0 -->\r\n      <g transform=\"translate(23.386121 254.356562)scale(0.1 -0.1)\">\r\n       <defs>\r\n        <path d=\"M 31.78125 66.40625 \r\nQ 24.171875 66.40625 20.328125 58.90625 \r\nQ 16.5 51.421875 16.5 36.375 \r\nQ 16.5 21.390625 20.328125 13.890625 \r\nQ 24.171875 6.390625 31.78125 6.390625 \r\nQ 39.453125 6.390625 43.28125 13.890625 \r\nQ 47.125 21.390625 47.125 36.375 \r\nQ 47.125 51.421875 43.28125 58.90625 \r\nQ 39.453125 66.40625 31.78125 66.40625 \r\nz\r\nM 31.78125 74.21875 \r\nQ 44.046875 74.21875 50.515625 64.515625 \r\nQ 56.984375 54.828125 56.984375 36.375 \r\nQ 56.984375 17.96875 50.515625 8.265625 \r\nQ 44.046875 -1.421875 31.78125 -1.421875 \r\nQ 19.53125 -1.421875 13.0625 8.265625 \r\nQ 6.59375 17.96875 6.59375 36.375 \r\nQ 6.59375 54.828125 13.0625 64.515625 \r\nQ 19.53125 74.21875 31.78125 74.21875 \r\nz\r\n\" id=\"DejaVuSans-48\"/>\r\n        <path d=\"M 10.6875 12.40625 \r\nL 21 12.40625 \r\nL 21 0 \r\nL 10.6875 0 \r\nz\r\n\" id=\"DejaVuSans-46\"/>\r\n       </defs>\r\n       <use xlink:href=\"#DejaVuSans-48\"/>\r\n       <use x=\"63.623047\" xlink:href=\"#DejaVuSans-46\"/>\r\n       <use x=\"95.410156\" xlink:href=\"#DejaVuSans-48\"/>\r\n      </g>\r\n     </g>\r\n    </g>\r\n    <g id=\"xtick_2\">\r\n     <g id=\"line2d_3\">\r\n      <path clip-path=\"url(#pabace511c1)\" d=\"M 91.369899 239.758125 \r\nL 91.369899 22.318125 \r\n\" style=\"fill:none;stroke:#b0b0b0;stroke-linecap:square;stroke-width:0.8;\"/>\r\n     </g>\r\n     <g id=\"line2d_4\">\r\n      <g>\r\n       <use style=\"stroke:#000000;stroke-width:0.8;\" x=\"91.369899\" xlink:href=\"#m6111dae51d\" y=\"239.758125\"/>\r\n      </g>\r\n     </g>\r\n     <g id=\"text_2\">\r\n      <!-- 0.2 -->\r\n      <g transform=\"translate(83.418337 254.356562)scale(0.1 -0.1)\">\r\n       <defs>\r\n        <path d=\"M 19.1875 8.296875 \r\nL 53.609375 8.296875 \r\nL 53.609375 0 \r\nL 7.328125 0 \r\nL 7.328125 8.296875 \r\nQ 12.9375 14.109375 22.625 23.890625 \r\nQ 32.328125 33.6875 34.8125 36.53125 \r\nQ 39.546875 41.84375 41.421875 45.53125 \r\nQ 43.3125 49.21875 43.3125 52.78125 \r\nQ 43.3125 58.59375 39.234375 62.25 \r\nQ 35.15625 65.921875 28.609375 65.921875 \r\nQ 23.96875 65.921875 18.8125 64.3125 \r\nQ 13.671875 62.703125 7.8125 59.421875 \r\nL 7.8125 69.390625 \r\nQ 13.765625 71.78125 18.9375 73 \r\nQ 24.125 74.21875 28.421875 74.21875 \r\nQ 39.75 74.21875 46.484375 68.546875 \r\nQ 53.21875 62.890625 53.21875 53.421875 \r\nQ 53.21875 48.921875 51.53125 44.890625 \r\nQ 49.859375 40.875 45.40625 35.40625 \r\nQ 44.1875 33.984375 37.640625 27.21875 \r\nQ 31.109375 20.453125 19.1875 8.296875 \r\nz\r\n\" id=\"DejaVuSans-50\"/>\r\n       </defs>\r\n       <use xlink:href=\"#DejaVuSans-48\"/>\r\n       <use x=\"63.623047\" xlink:href=\"#DejaVuSans-46\"/>\r\n       <use x=\"95.410156\" xlink:href=\"#DejaVuSans-50\"/>\r\n      </g>\r\n     </g>\r\n    </g>\r\n    <g id=\"xtick_3\">\r\n     <g id=\"line2d_5\">\r\n      <path clip-path=\"url(#pabace511c1)\" d=\"M 151.402115 239.758125 \r\nL 151.402115 22.318125 \r\n\" style=\"fill:none;stroke:#b0b0b0;stroke-linecap:square;stroke-width:0.8;\"/>\r\n     </g>\r\n     <g id=\"line2d_6\">\r\n      <g>\r\n       <use style=\"stroke:#000000;stroke-width:0.8;\" x=\"151.402115\" xlink:href=\"#m6111dae51d\" y=\"239.758125\"/>\r\n      </g>\r\n     </g>\r\n     <g id=\"text_3\">\r\n      <!-- 0.4 -->\r\n      <g transform=\"translate(143.450553 254.356562)scale(0.1 -0.1)\">\r\n       <defs>\r\n        <path d=\"M 37.796875 64.3125 \r\nL 12.890625 25.390625 \r\nL 37.796875 25.390625 \r\nz\r\nM 35.203125 72.90625 \r\nL 47.609375 72.90625 \r\nL 47.609375 25.390625 \r\nL 58.015625 25.390625 \r\nL 58.015625 17.1875 \r\nL 47.609375 17.1875 \r\nL 47.609375 0 \r\nL 37.796875 0 \r\nL 37.796875 17.1875 \r\nL 4.890625 17.1875 \r\nL 4.890625 26.703125 \r\nz\r\n\" id=\"DejaVuSans-52\"/>\r\n       </defs>\r\n       <use xlink:href=\"#DejaVuSans-48\"/>\r\n       <use x=\"63.623047\" xlink:href=\"#DejaVuSans-46\"/>\r\n       <use x=\"95.410156\" xlink:href=\"#DejaVuSans-52\"/>\r\n      </g>\r\n     </g>\r\n    </g>\r\n    <g id=\"xtick_4\">\r\n     <g id=\"line2d_7\">\r\n      <path clip-path=\"url(#pabace511c1)\" d=\"M 211.434332 239.758125 \r\nL 211.434332 22.318125 \r\n\" style=\"fill:none;stroke:#b0b0b0;stroke-linecap:square;stroke-width:0.8;\"/>\r\n     </g>\r\n     <g id=\"line2d_8\">\r\n      <g>\r\n       <use style=\"stroke:#000000;stroke-width:0.8;\" x=\"211.434332\" xlink:href=\"#m6111dae51d\" y=\"239.758125\"/>\r\n      </g>\r\n     </g>\r\n     <g id=\"text_4\">\r\n      <!-- 0.6 -->\r\n      <g transform=\"translate(203.482769 254.356562)scale(0.1 -0.1)\">\r\n       <defs>\r\n        <path d=\"M 33.015625 40.375 \r\nQ 26.375 40.375 22.484375 35.828125 \r\nQ 18.609375 31.296875 18.609375 23.390625 \r\nQ 18.609375 15.53125 22.484375 10.953125 \r\nQ 26.375 6.390625 33.015625 6.390625 \r\nQ 39.65625 6.390625 43.53125 10.953125 \r\nQ 47.40625 15.53125 47.40625 23.390625 \r\nQ 47.40625 31.296875 43.53125 35.828125 \r\nQ 39.65625 40.375 33.015625 40.375 \r\nz\r\nM 52.59375 71.296875 \r\nL 52.59375 62.3125 \r\nQ 48.875 64.0625 45.09375 64.984375 \r\nQ 41.3125 65.921875 37.59375 65.921875 \r\nQ 27.828125 65.921875 22.671875 59.328125 \r\nQ 17.53125 52.734375 16.796875 39.40625 \r\nQ 19.671875 43.65625 24.015625 45.921875 \r\nQ 28.375 48.1875 33.59375 48.1875 \r\nQ 44.578125 48.1875 50.953125 41.515625 \r\nQ 57.328125 34.859375 57.328125 23.390625 \r\nQ 57.328125 12.15625 50.6875 5.359375 \r\nQ 44.046875 -1.421875 33.015625 -1.421875 \r\nQ 20.359375 -1.421875 13.671875 8.265625 \r\nQ 6.984375 17.96875 6.984375 36.375 \r\nQ 6.984375 53.65625 15.1875 63.9375 \r\nQ 23.390625 74.21875 37.203125 74.21875 \r\nQ 40.921875 74.21875 44.703125 73.484375 \r\nQ 48.484375 72.75 52.59375 71.296875 \r\nz\r\n\" id=\"DejaVuSans-54\"/>\r\n       </defs>\r\n       <use xlink:href=\"#DejaVuSans-48\"/>\r\n       <use x=\"63.623047\" xlink:href=\"#DejaVuSans-46\"/>\r\n       <use x=\"95.410156\" xlink:href=\"#DejaVuSans-54\"/>\r\n      </g>\r\n     </g>\r\n    </g>\r\n    <g id=\"xtick_5\">\r\n     <g id=\"line2d_9\">\r\n      <path clip-path=\"url(#pabace511c1)\" d=\"M 271.466548 239.758125 \r\nL 271.466548 22.318125 \r\n\" style=\"fill:none;stroke:#b0b0b0;stroke-linecap:square;stroke-width:0.8;\"/>\r\n     </g>\r\n     <g id=\"line2d_10\">\r\n      <g>\r\n       <use style=\"stroke:#000000;stroke-width:0.8;\" x=\"271.466548\" xlink:href=\"#m6111dae51d\" y=\"239.758125\"/>\r\n      </g>\r\n     </g>\r\n     <g id=\"text_5\">\r\n      <!-- 0.8 -->\r\n      <g transform=\"translate(263.514985 254.356562)scale(0.1 -0.1)\">\r\n       <defs>\r\n        <path d=\"M 31.78125 34.625 \r\nQ 24.75 34.625 20.71875 30.859375 \r\nQ 16.703125 27.09375 16.703125 20.515625 \r\nQ 16.703125 13.921875 20.71875 10.15625 \r\nQ 24.75 6.390625 31.78125 6.390625 \r\nQ 38.8125 6.390625 42.859375 10.171875 \r\nQ 46.921875 13.96875 46.921875 20.515625 \r\nQ 46.921875 27.09375 42.890625 30.859375 \r\nQ 38.875 34.625 31.78125 34.625 \r\nz\r\nM 21.921875 38.8125 \r\nQ 15.578125 40.375 12.03125 44.71875 \r\nQ 8.5 49.078125 8.5 55.328125 \r\nQ 8.5 64.0625 14.71875 69.140625 \r\nQ 20.953125 74.21875 31.78125 74.21875 \r\nQ 42.671875 74.21875 48.875 69.140625 \r\nQ 55.078125 64.0625 55.078125 55.328125 \r\nQ 55.078125 49.078125 51.53125 44.71875 \r\nQ 48 40.375 41.703125 38.8125 \r\nQ 48.828125 37.15625 52.796875 32.3125 \r\nQ 56.78125 27.484375 56.78125 20.515625 \r\nQ 56.78125 9.90625 50.3125 4.234375 \r\nQ 43.84375 -1.421875 31.78125 -1.421875 \r\nQ 19.734375 -1.421875 13.25 4.234375 \r\nQ 6.78125 9.90625 6.78125 20.515625 \r\nQ 6.78125 27.484375 10.78125 32.3125 \r\nQ 14.796875 37.15625 21.921875 38.8125 \r\nz\r\nM 18.3125 54.390625 \r\nQ 18.3125 48.734375 21.84375 45.5625 \r\nQ 25.390625 42.390625 31.78125 42.390625 \r\nQ 38.140625 42.390625 41.71875 45.5625 \r\nQ 45.3125 48.734375 45.3125 54.390625 \r\nQ 45.3125 60.0625 41.71875 63.234375 \r\nQ 38.140625 66.40625 31.78125 66.40625 \r\nQ 25.390625 66.40625 21.84375 63.234375 \r\nQ 18.3125 60.0625 18.3125 54.390625 \r\nz\r\n\" id=\"DejaVuSans-56\"/>\r\n       </defs>\r\n       <use xlink:href=\"#DejaVuSans-48\"/>\r\n       <use x=\"63.623047\" xlink:href=\"#DejaVuSans-46\"/>\r\n       <use x=\"95.410156\" xlink:href=\"#DejaVuSans-56\"/>\r\n      </g>\r\n     </g>\r\n    </g>\r\n    <g id=\"xtick_6\">\r\n     <g id=\"line2d_11\">\r\n      <path clip-path=\"url(#pabace511c1)\" d=\"M 331.498764 239.758125 \r\nL 331.498764 22.318125 \r\n\" style=\"fill:none;stroke:#b0b0b0;stroke-linecap:square;stroke-width:0.8;\"/>\r\n     </g>\r\n     <g id=\"line2d_12\">\r\n      <g>\r\n       <use style=\"stroke:#000000;stroke-width:0.8;\" x=\"331.498764\" xlink:href=\"#m6111dae51d\" y=\"239.758125\"/>\r\n      </g>\r\n     </g>\r\n     <g id=\"text_6\">\r\n      <!-- 1.0 -->\r\n      <g transform=\"translate(323.547202 254.356562)scale(0.1 -0.1)\">\r\n       <defs>\r\n        <path d=\"M 12.40625 8.296875 \r\nL 28.515625 8.296875 \r\nL 28.515625 63.921875 \r\nL 10.984375 60.40625 \r\nL 10.984375 69.390625 \r\nL 28.421875 72.90625 \r\nL 38.28125 72.90625 \r\nL 38.28125 8.296875 \r\nL 54.390625 8.296875 \r\nL 54.390625 0 \r\nL 12.40625 0 \r\nz\r\n\" id=\"DejaVuSans-49\"/>\r\n       </defs>\r\n       <use xlink:href=\"#DejaVuSans-49\"/>\r\n       <use x=\"63.623047\" xlink:href=\"#DejaVuSans-46\"/>\r\n       <use x=\"95.410156\" xlink:href=\"#DejaVuSans-48\"/>\r\n      </g>\r\n     </g>\r\n    </g>\r\n    <g id=\"text_7\">\r\n     <!-- 1e7 -->\r\n     <g transform=\"translate(342.846875 267.034687)scale(0.1 -0.1)\">\r\n      <defs>\r\n       <path d=\"M 56.203125 29.59375 \r\nL 56.203125 25.203125 \r\nL 14.890625 25.203125 \r\nQ 15.484375 15.921875 20.484375 11.0625 \r\nQ 25.484375 6.203125 34.421875 6.203125 \r\nQ 39.59375 6.203125 44.453125 7.46875 \r\nQ 49.3125 8.734375 54.109375 11.28125 \r\nL 54.109375 2.78125 \r\nQ 49.265625 0.734375 44.1875 -0.34375 \r\nQ 39.109375 -1.421875 33.890625 -1.421875 \r\nQ 20.796875 -1.421875 13.15625 6.1875 \r\nQ 5.515625 13.8125 5.515625 26.8125 \r\nQ 5.515625 40.234375 12.765625 48.109375 \r\nQ 20.015625 56 32.328125 56 \r\nQ 43.359375 56 49.78125 48.890625 \r\nQ 56.203125 41.796875 56.203125 29.59375 \r\nz\r\nM 47.21875 32.234375 \r\nQ 47.125 39.59375 43.09375 43.984375 \r\nQ 39.0625 48.390625 32.421875 48.390625 \r\nQ 24.90625 48.390625 20.390625 44.140625 \r\nQ 15.875 39.890625 15.1875 32.171875 \r\nz\r\n\" id=\"DejaVuSans-101\"/>\r\n       <path d=\"M 8.203125 72.90625 \r\nL 55.078125 72.90625 \r\nL 55.078125 68.703125 \r\nL 28.609375 0 \r\nL 18.3125 0 \r\nL 43.21875 64.59375 \r\nL 8.203125 64.59375 \r\nz\r\n\" id=\"DejaVuSans-55\"/>\r\n      </defs>\r\n      <use xlink:href=\"#DejaVuSans-49\"/>\r\n      <use x=\"63.623047\" xlink:href=\"#DejaVuSans-101\"/>\r\n      <use x=\"125.146484\" xlink:href=\"#DejaVuSans-55\"/>\r\n     </g>\r\n    </g>\r\n   </g>\r\n   <g id=\"matplotlib.axis_2\">\r\n    <g id=\"ytick_1\">\r\n     <g id=\"line2d_13\">\r\n      <path clip-path=\"url(#pabace511c1)\" d=\"M 26.925 239.758125 \r\nL 361.725 239.758125 \r\n\" style=\"fill:none;stroke:#b0b0b0;stroke-linecap:square;stroke-width:0.8;\"/>\r\n     </g>\r\n     <g id=\"line2d_14\">\r\n      <defs>\r\n       <path d=\"M 0 0 \r\nL -3.5 0 \r\n\" id=\"mab58f61f07\" style=\"stroke:#000000;stroke-width:0.8;\"/>\r\n      </defs>\r\n      <g>\r\n       <use style=\"stroke:#000000;stroke-width:0.8;\" x=\"26.925\" xlink:href=\"#mab58f61f07\" y=\"239.758125\"/>\r\n      </g>\r\n     </g>\r\n     <g id=\"text_8\">\r\n      <!-- 0 -->\r\n      <g transform=\"translate(13.5625 243.557344)scale(0.1 -0.1)\">\r\n       <use xlink:href=\"#DejaVuSans-48\"/>\r\n      </g>\r\n     </g>\r\n    </g>\r\n    <g id=\"ytick_2\">\r\n     <g id=\"line2d_15\">\r\n      <path clip-path=\"url(#pabace511c1)\" d=\"M 26.925 194.739491 \r\nL 361.725 194.739491 \r\n\" style=\"fill:none;stroke:#b0b0b0;stroke-linecap:square;stroke-width:0.8;\"/>\r\n     </g>\r\n     <g id=\"line2d_16\">\r\n      <g>\r\n       <use style=\"stroke:#000000;stroke-width:0.8;\" x=\"26.925\" xlink:href=\"#mab58f61f07\" y=\"194.739491\"/>\r\n      </g>\r\n     </g>\r\n     <g id=\"text_9\">\r\n      <!-- 5 -->\r\n      <g transform=\"translate(13.5625 198.53871)scale(0.1 -0.1)\">\r\n       <defs>\r\n        <path d=\"M 10.796875 72.90625 \r\nL 49.515625 72.90625 \r\nL 49.515625 64.59375 \r\nL 19.828125 64.59375 \r\nL 19.828125 46.734375 \r\nQ 21.96875 47.46875 24.109375 47.828125 \r\nQ 26.265625 48.1875 28.421875 48.1875 \r\nQ 40.625 48.1875 47.75 41.5 \r\nQ 54.890625 34.8125 54.890625 23.390625 \r\nQ 54.890625 11.625 47.5625 5.09375 \r\nQ 40.234375 -1.421875 26.90625 -1.421875 \r\nQ 22.3125 -1.421875 17.546875 -0.640625 \r\nQ 12.796875 0.140625 7.71875 1.703125 \r\nL 7.71875 11.625 \r\nQ 12.109375 9.234375 16.796875 8.0625 \r\nQ 21.484375 6.890625 26.703125 6.890625 \r\nQ 35.15625 6.890625 40.078125 11.328125 \r\nQ 45.015625 15.765625 45.015625 23.390625 \r\nQ 45.015625 31 40.078125 35.4375 \r\nQ 35.15625 39.890625 26.703125 39.890625 \r\nQ 22.75 39.890625 18.8125 39.015625 \r\nQ 14.890625 38.140625 10.796875 36.28125 \r\nz\r\n\" id=\"DejaVuSans-53\"/>\r\n       </defs>\r\n       <use xlink:href=\"#DejaVuSans-53\"/>\r\n      </g>\r\n     </g>\r\n    </g>\r\n    <g id=\"ytick_3\">\r\n     <g id=\"line2d_17\">\r\n      <path clip-path=\"url(#pabace511c1)\" d=\"M 26.925 149.720858 \r\nL 361.725 149.720858 \r\n\" style=\"fill:none;stroke:#b0b0b0;stroke-linecap:square;stroke-width:0.8;\"/>\r\n     </g>\r\n     <g id=\"line2d_18\">\r\n      <g>\r\n       <use style=\"stroke:#000000;stroke-width:0.8;\" x=\"26.925\" xlink:href=\"#mab58f61f07\" y=\"149.720858\"/>\r\n      </g>\r\n     </g>\r\n     <g id=\"text_10\">\r\n      <!-- 10 -->\r\n      <g transform=\"translate(7.2 153.520077)scale(0.1 -0.1)\">\r\n       <use xlink:href=\"#DejaVuSans-49\"/>\r\n       <use x=\"63.623047\" xlink:href=\"#DejaVuSans-48\"/>\r\n      </g>\r\n     </g>\r\n    </g>\r\n    <g id=\"ytick_4\">\r\n     <g id=\"line2d_19\">\r\n      <path clip-path=\"url(#pabace511c1)\" d=\"M 26.925 104.702224 \r\nL 361.725 104.702224 \r\n\" style=\"fill:none;stroke:#b0b0b0;stroke-linecap:square;stroke-width:0.8;\"/>\r\n     </g>\r\n     <g id=\"line2d_20\">\r\n      <g>\r\n       <use style=\"stroke:#000000;stroke-width:0.8;\" x=\"26.925\" xlink:href=\"#mab58f61f07\" y=\"104.702224\"/>\r\n      </g>\r\n     </g>\r\n     <g id=\"text_11\">\r\n      <!-- 15 -->\r\n      <g transform=\"translate(7.2 108.501443)scale(0.1 -0.1)\">\r\n       <use xlink:href=\"#DejaVuSans-49\"/>\r\n       <use x=\"63.623047\" xlink:href=\"#DejaVuSans-53\"/>\r\n      </g>\r\n     </g>\r\n    </g>\r\n    <g id=\"ytick_5\">\r\n     <g id=\"line2d_21\">\r\n      <path clip-path=\"url(#pabace511c1)\" d=\"M 26.925 59.683591 \r\nL 361.725 59.683591 \r\n\" style=\"fill:none;stroke:#b0b0b0;stroke-linecap:square;stroke-width:0.8;\"/>\r\n     </g>\r\n     <g id=\"line2d_22\">\r\n      <g>\r\n       <use style=\"stroke:#000000;stroke-width:0.8;\" x=\"26.925\" xlink:href=\"#mab58f61f07\" y=\"59.683591\"/>\r\n      </g>\r\n     </g>\r\n     <g id=\"text_12\">\r\n      <!-- 20 -->\r\n      <g transform=\"translate(7.2 63.48281)scale(0.1 -0.1)\">\r\n       <use xlink:href=\"#DejaVuSans-50\"/>\r\n       <use x=\"63.623047\" xlink:href=\"#DejaVuSans-48\"/>\r\n      </g>\r\n     </g>\r\n    </g>\r\n   </g>\r\n   <g id=\"patch_13\">\r\n    <path d=\"M 26.925 239.758125 \r\nL 26.925 22.318125 \r\n\" style=\"fill:none;stroke:#000000;stroke-linecap:square;stroke-linejoin:miter;stroke-width:0.8;\"/>\r\n   </g>\r\n   <g id=\"patch_14\">\r\n    <path d=\"M 361.725 239.758125 \r\nL 361.725 22.318125 \r\n\" style=\"fill:none;stroke:#000000;stroke-linecap:square;stroke-linejoin:miter;stroke-width:0.8;\"/>\r\n   </g>\r\n   <g id=\"patch_15\">\r\n    <path d=\"M 26.925 239.758125 \r\nL 361.725 239.758125 \r\n\" style=\"fill:none;stroke:#000000;stroke-linecap:square;stroke-linejoin:miter;stroke-width:0.8;\"/>\r\n   </g>\r\n   <g id=\"patch_16\">\r\n    <path d=\"M 26.925 22.318125 \r\nL 361.725 22.318125 \r\n\" style=\"fill:none;stroke:#000000;stroke-linecap:square;stroke-linejoin:miter;stroke-width:0.8;\"/>\r\n   </g>\r\n   <g id=\"text_13\">\r\n    <!-- listed_price -->\r\n    <g transform=\"translate(160.079063 16.318125)scale(0.12 -0.12)\">\r\n     <defs>\r\n      <path d=\"M 9.421875 75.984375 \r\nL 18.40625 75.984375 \r\nL 18.40625 0 \r\nL 9.421875 0 \r\nz\r\n\" id=\"DejaVuSans-108\"/>\r\n      <path d=\"M 9.421875 54.6875 \r\nL 18.40625 54.6875 \r\nL 18.40625 0 \r\nL 9.421875 0 \r\nz\r\nM 9.421875 75.984375 \r\nL 18.40625 75.984375 \r\nL 18.40625 64.59375 \r\nL 9.421875 64.59375 \r\nz\r\n\" id=\"DejaVuSans-105\"/>\r\n      <path d=\"M 44.28125 53.078125 \r\nL 44.28125 44.578125 \r\nQ 40.484375 46.53125 36.375 47.5 \r\nQ 32.28125 48.484375 27.875 48.484375 \r\nQ 21.1875 48.484375 17.84375 46.4375 \r\nQ 14.5 44.390625 14.5 40.28125 \r\nQ 14.5 37.15625 16.890625 35.375 \r\nQ 19.28125 33.59375 26.515625 31.984375 \r\nL 29.59375 31.296875 \r\nQ 39.15625 29.25 43.1875 25.515625 \r\nQ 47.21875 21.78125 47.21875 15.09375 \r\nQ 47.21875 7.46875 41.1875 3.015625 \r\nQ 35.15625 -1.421875 24.609375 -1.421875 \r\nQ 20.21875 -1.421875 15.453125 -0.5625 \r\nQ 10.6875 0.296875 5.421875 2 \r\nL 5.421875 11.28125 \r\nQ 10.40625 8.6875 15.234375 7.390625 \r\nQ 20.0625 6.109375 24.8125 6.109375 \r\nQ 31.15625 6.109375 34.5625 8.28125 \r\nQ 37.984375 10.453125 37.984375 14.40625 \r\nQ 37.984375 18.0625 35.515625 20.015625 \r\nQ 33.0625 21.96875 24.703125 23.78125 \r\nL 21.578125 24.515625 \r\nQ 13.234375 26.265625 9.515625 29.90625 \r\nQ 5.8125 33.546875 5.8125 39.890625 \r\nQ 5.8125 47.609375 11.28125 51.796875 \r\nQ 16.75 56 26.8125 56 \r\nQ 31.78125 56 36.171875 55.265625 \r\nQ 40.578125 54.546875 44.28125 53.078125 \r\nz\r\n\" id=\"DejaVuSans-115\"/>\r\n      <path d=\"M 18.3125 70.21875 \r\nL 18.3125 54.6875 \r\nL 36.8125 54.6875 \r\nL 36.8125 47.703125 \r\nL 18.3125 47.703125 \r\nL 18.3125 18.015625 \r\nQ 18.3125 11.328125 20.140625 9.421875 \r\nQ 21.96875 7.515625 27.59375 7.515625 \r\nL 36.8125 7.515625 \r\nL 36.8125 0 \r\nL 27.59375 0 \r\nQ 17.1875 0 13.234375 3.875 \r\nQ 9.28125 7.765625 9.28125 18.015625 \r\nL 9.28125 47.703125 \r\nL 2.6875 47.703125 \r\nL 2.6875 54.6875 \r\nL 9.28125 54.6875 \r\nL 9.28125 70.21875 \r\nz\r\n\" id=\"DejaVuSans-116\"/>\r\n      <path d=\"M 45.40625 46.390625 \r\nL 45.40625 75.984375 \r\nL 54.390625 75.984375 \r\nL 54.390625 0 \r\nL 45.40625 0 \r\nL 45.40625 8.203125 \r\nQ 42.578125 3.328125 38.25 0.953125 \r\nQ 33.9375 -1.421875 27.875 -1.421875 \r\nQ 17.96875 -1.421875 11.734375 6.484375 \r\nQ 5.515625 14.40625 5.515625 27.296875 \r\nQ 5.515625 40.1875 11.734375 48.09375 \r\nQ 17.96875 56 27.875 56 \r\nQ 33.9375 56 38.25 53.625 \r\nQ 42.578125 51.265625 45.40625 46.390625 \r\nz\r\nM 14.796875 27.296875 \r\nQ 14.796875 17.390625 18.875 11.75 \r\nQ 22.953125 6.109375 30.078125 6.109375 \r\nQ 37.203125 6.109375 41.296875 11.75 \r\nQ 45.40625 17.390625 45.40625 27.296875 \r\nQ 45.40625 37.203125 41.296875 42.84375 \r\nQ 37.203125 48.484375 30.078125 48.484375 \r\nQ 22.953125 48.484375 18.875 42.84375 \r\nQ 14.796875 37.203125 14.796875 27.296875 \r\nz\r\n\" id=\"DejaVuSans-100\"/>\r\n      <path d=\"M 50.984375 -16.609375 \r\nL 50.984375 -23.578125 \r\nL -0.984375 -23.578125 \r\nL -0.984375 -16.609375 \r\nz\r\n\" id=\"DejaVuSans-95\"/>\r\n      <path d=\"M 18.109375 8.203125 \r\nL 18.109375 -20.796875 \r\nL 9.078125 -20.796875 \r\nL 9.078125 54.6875 \r\nL 18.109375 54.6875 \r\nL 18.109375 46.390625 \r\nQ 20.953125 51.265625 25.265625 53.625 \r\nQ 29.59375 56 35.59375 56 \r\nQ 45.5625 56 51.78125 48.09375 \r\nQ 58.015625 40.1875 58.015625 27.296875 \r\nQ 58.015625 14.40625 51.78125 6.484375 \r\nQ 45.5625 -1.421875 35.59375 -1.421875 \r\nQ 29.59375 -1.421875 25.265625 0.953125 \r\nQ 20.953125 3.328125 18.109375 8.203125 \r\nz\r\nM 48.6875 27.296875 \r\nQ 48.6875 37.203125 44.609375 42.84375 \r\nQ 40.53125 48.484375 33.40625 48.484375 \r\nQ 26.265625 48.484375 22.1875 42.84375 \r\nQ 18.109375 37.203125 18.109375 27.296875 \r\nQ 18.109375 17.390625 22.1875 11.75 \r\nQ 26.265625 6.109375 33.40625 6.109375 \r\nQ 40.53125 6.109375 44.609375 11.75 \r\nQ 48.6875 17.390625 48.6875 27.296875 \r\nz\r\n\" id=\"DejaVuSans-112\"/>\r\n      <path d=\"M 41.109375 46.296875 \r\nQ 39.59375 47.171875 37.8125 47.578125 \r\nQ 36.03125 48 33.890625 48 \r\nQ 26.265625 48 22.1875 43.046875 \r\nQ 18.109375 38.09375 18.109375 28.8125 \r\nL 18.109375 0 \r\nL 9.078125 0 \r\nL 9.078125 54.6875 \r\nL 18.109375 54.6875 \r\nL 18.109375 46.1875 \r\nQ 20.953125 51.171875 25.484375 53.578125 \r\nQ 30.03125 56 36.53125 56 \r\nQ 37.453125 56 38.578125 55.875 \r\nQ 39.703125 55.765625 41.0625 55.515625 \r\nz\r\n\" id=\"DejaVuSans-114\"/>\r\n      <path d=\"M 48.78125 52.59375 \r\nL 48.78125 44.1875 \r\nQ 44.96875 46.296875 41.140625 47.34375 \r\nQ 37.3125 48.390625 33.40625 48.390625 \r\nQ 24.65625 48.390625 19.8125 42.84375 \r\nQ 14.984375 37.3125 14.984375 27.296875 \r\nQ 14.984375 17.28125 19.8125 11.734375 \r\nQ 24.65625 6.203125 33.40625 6.203125 \r\nQ 37.3125 6.203125 41.140625 7.25 \r\nQ 44.96875 8.296875 48.78125 10.40625 \r\nL 48.78125 2.09375 \r\nQ 45.015625 0.34375 40.984375 -0.53125 \r\nQ 36.96875 -1.421875 32.421875 -1.421875 \r\nQ 20.0625 -1.421875 12.78125 6.34375 \r\nQ 5.515625 14.109375 5.515625 27.296875 \r\nQ 5.515625 40.671875 12.859375 48.328125 \r\nQ 20.21875 56 33.015625 56 \r\nQ 37.15625 56 41.109375 55.140625 \r\nQ 45.0625 54.296875 48.78125 52.59375 \r\nz\r\n\" id=\"DejaVuSans-99\"/>\r\n     </defs>\r\n     <use xlink:href=\"#DejaVuSans-108\"/>\r\n     <use x=\"27.783203\" xlink:href=\"#DejaVuSans-105\"/>\r\n     <use x=\"55.566406\" xlink:href=\"#DejaVuSans-115\"/>\r\n     <use x=\"107.666016\" xlink:href=\"#DejaVuSans-116\"/>\r\n     <use x=\"146.875\" xlink:href=\"#DejaVuSans-101\"/>\r\n     <use x=\"208.398438\" xlink:href=\"#DejaVuSans-100\"/>\r\n     <use x=\"271.875\" xlink:href=\"#DejaVuSans-95\"/>\r\n     <use x=\"321.875\" xlink:href=\"#DejaVuSans-112\"/>\r\n     <use x=\"385.351562\" xlink:href=\"#DejaVuSans-114\"/>\r\n     <use x=\"426.464844\" xlink:href=\"#DejaVuSans-105\"/>\r\n     <use x=\"454.248047\" xlink:href=\"#DejaVuSans-99\"/>\r\n     <use x=\"509.228516\" xlink:href=\"#DejaVuSans-101\"/>\r\n    </g>\r\n   </g>\r\n  </g>\r\n </g>\r\n <defs>\r\n  <clipPath id=\"pabace511c1\">\r\n   <rect height=\"217.44\" width=\"334.8\" x=\"26.925\" y=\"22.318125\"/>\r\n  </clipPath>\r\n </defs>\r\n</svg>\r\n",
      "image/png": "[encoded data removed]"
     },
     "metadata": {
      "needs_background": "light"
     }
    }
   ],
   "source": [
    "hd.hist(column='listed_price')"
   ]
  },
  {
   "cell_type": "code",
   "execution_count": 34,
   "metadata": {},
   "outputs": [],
   "source": [
    "data = trulia_scraper.get_listings_by_state_city(browser, schema, 'NY', 'Hicksville')"
   ]
  },
  {
   "cell_type": "code",
   "execution_count": null,
   "metadata": {},
   "outputs": [],
   "source": []
  },
  {
   "cell_type": "code",
   "execution_count": 35,
   "metadata": {},
   "outputs": [
    {
     "output_type": "execute_result",
     "data": {
      "text/plain": [
       "[{'address_street': '144 5th St',\n",
       "  'address_city_state': 'Hicksville, NY 11801',\n",
       "  'listed_price': 669000,\n",
       "  'days_on_market': 1,\n",
       "  'building_area': None,\n",
       "  'basement_features': None,\n",
       "  'bedrooms': 4,\n",
       "  'bathrooms': 2,\n",
       "  'full_bathrooms': None,\n",
       "  'appliances_list': None,\n",
       "  'flooring_type': 'Hardwood, Wall To Wall Carpet',\n",
       "  'garage_spaces': 1,\n",
       "  'parking_features': None,\n",
       "  'sewer_type': None,\n",
       "  'year_built': 1928,\n",
       "  'construction_materials': None,\n",
       "  'property_type': None,\n",
       "  'property_subtype': None,\n",
       "  'mls_status': None,\n",
       "  'listing_status': 'Active',\n",
       "  'virtual_tour_url': None,\n",
       "  'mls_id': None,\n",
       "  'elementary_school': None,\n",
       "  'elementary_school_district': 'Hicksville',\n",
       "  'jr_mid_school': None,\n",
       "  'jr_mid_school_district': 'Hicksville',\n",
       "  'high_school': None,\n",
       "  'high_school_district': 'Hicksville',\n",
       "  'lot_area': 0.09,\n",
       "  'tax_block': None,\n",
       "  'tax_lot': None},\n",
       " {'address_street': '6 Story Ln',\n",
       "  'address_city_state': 'Hicksville, NY 11801',\n",
       "  'listed_price': 529999,\n",
       "  'days_on_market': 3,\n",
       "  'building_area': None,\n",
       "  'basement_features': None,\n",
       "  'bedrooms': 4,\n",
       "  'bathrooms': 2,\n",
       "  'full_bathrooms': None,\n",
       "  'appliances_list': None,\n",
       "  'flooring_type': None,\n",
       "  'garage_spaces': 1,\n",
       "  'parking_features': None,\n",
       "  'sewer_type': None,\n",
       "  'year_built': 1951,\n",
       "  'construction_materials': None,\n",
       "  'property_type': None,\n",
       "  'property_subtype': None,\n",
       "  'mls_status': None,\n",
       "  'listing_status': 'Active',\n",
       "  'virtual_tour_url': None,\n",
       "  'mls_id': None,\n",
       "  'elementary_school': None,\n",
       "  'elementary_school_district': 'Hicksville',\n",
       "  'jr_mid_school': None,\n",
       "  'jr_mid_school_district': 'Hicksville',\n",
       "  'high_school': None,\n",
       "  'high_school_district': 'Hicksville',\n",
       "  'lot_area': 0.17,\n",
       "  'tax_block': None,\n",
       "  'tax_lot': None},\n",
       " {'address_street': '51 Salem Rd',\n",
       "  'address_city_state': 'Hicksville, NY 11801',\n",
       "  'listed_price': 570999,\n",
       "  'days_on_market': 1,\n",
       "  'building_area': None,\n",
       "  'basement_features': None,\n",
       "  'bedrooms': 4,\n",
       "  'bathrooms': 2,\n",
       "  'full_bathrooms': None,\n",
       "  'appliances_list': None,\n",
       "  'flooring_type': 'Hardwood',\n",
       "  'garage_spaces': 1,\n",
       "  'parking_features': None,\n",
       "  'sewer_type': None,\n",
       "  'year_built': 1954,\n",
       "  'construction_materials': None,\n",
       "  'property_type': None,\n",
       "  'property_subtype': None,\n",
       "  'mls_status': None,\n",
       "  'listing_status': 'Active',\n",
       "  'virtual_tour_url': None,\n",
       "  'mls_id': None,\n",
       "  'elementary_school': 'Fork Lane School',\n",
       "  'elementary_school_district': 'Hicksville',\n",
       "  'jr_mid_school': 'Hicksville Middle School',\n",
       "  'jr_mid_school_district': 'Hicksville',\n",
       "  'high_school': None,\n",
       "  'high_school_district': 'Hicksville',\n",
       "  'lot_area': 0.18,\n",
       "  'tax_block': None,\n",
       "  'tax_lot': None},\n",
       " {'address_street': '40 Woodcrest Rd',\n",
       "  'address_city_state': 'Hicksville, NY 11801',\n",
       "  'listed_price': 350000,\n",
       "  'days_on_market': 10,\n",
       "  'building_area': None,\n",
       "  'basement_features': None,\n",
       "  'bedrooms': 3,\n",
       "  'bathrooms': 2,\n",
       "  'full_bathrooms': None,\n",
       "  'appliances_list': None,\n",
       "  'flooring_type': None,\n",
       "  'garage_spaces': 1,\n",
       "  'parking_features': None,\n",
       "  'sewer_type': None,\n",
       "  'year_built': 1953,\n",
       "  'construction_materials': None,\n",
       "  'property_type': None,\n",
       "  'property_subtype': None,\n",
       "  'mls_status': None,\n",
       "  'listing_status': 'Active',\n",
       "  'virtual_tour_url': None,\n",
       "  'mls_id': None,\n",
       "  'elementary_school': 'Charles Campagne School',\n",
       "  'elementary_school_district': 'Bethpage',\n",
       "  'jr_mid_school': None,\n",
       "  'jr_mid_school_district': 'Bethpage',\n",
       "  'high_school': None,\n",
       "  'high_school_district': 'Bethpage',\n",
       "  'lot_area': 0.16,\n",
       "  'tax_block': None,\n",
       "  'tax_lot': None},\n",
       " {'address_street': '35 Pewter Ln',\n",
       "  'address_city_state': 'Hicksville, NY 11801',\n",
       "  'listed_price': 659000,\n",
       "  'days_on_market': 2,\n",
       "  'building_area': None,\n",
       "  'basement_features': None,\n",
       "  'bedrooms': 5,\n",
       "  'bathrooms': 2,\n",
       "  'full_bathrooms': None,\n",
       "  'appliances_list': None,\n",
       "  'flooring_type': None,\n",
       "  'garage_spaces': 1,\n",
       "  'parking_features': None,\n",
       "  'sewer_type': None,\n",
       "  'year_built': 1948,\n",
       "  'construction_materials': None,\n",
       "  'property_type': None,\n",
       "  'property_subtype': None,\n",
       "  'mls_status': None,\n",
       "  'listing_status': 'Active',\n",
       "  'virtual_tour_url': None,\n",
       "  'mls_id': None,\n",
       "  'elementary_school': None,\n",
       "  'elementary_school_district': 'Hicksville',\n",
       "  'jr_mid_school': 'Hicksville Middle School',\n",
       "  'jr_mid_school_district': 'Hicksville',\n",
       "  'high_school': None,\n",
       "  'high_school_district': 'Hicksville',\n",
       "  'lot_area': 0.14,\n",
       "  'tax_block': None,\n",
       "  'tax_lot': None},\n",
       " {'address_street': '3 Mayflower Dr',\n",
       "  'address_city_state': 'Hicksville, NY 11801',\n",
       "  'listed_price': 799999,\n",
       "  'days_on_market': 3,\n",
       "  'building_area': None,\n",
       "  'basement_features': None,\n",
       "  'bedrooms': 4,\n",
       "  'bathrooms': 3,\n",
       "  'full_bathrooms': None,\n",
       "  'appliances_list': None,\n",
       "  'flooring_type': None,\n",
       "  'garage_spaces': 1,\n",
       "  'parking_features': None,\n",
       "  'sewer_type': None,\n",
       "  'year_built': 1953,\n",
       "  'construction_materials': None,\n",
       "  'property_type': None,\n",
       "  'property_subtype': None,\n",
       "  'mls_status': None,\n",
       "  'listing_status': 'Active',\n",
       "  'virtual_tour_url': None,\n",
       "  'mls_id': None,\n",
       "  'elementary_school': None,\n",
       "  'elementary_school_district': 'Hicksville',\n",
       "  'jr_mid_school': None,\n",
       "  'jr_mid_school_district': 'Hicksville',\n",
       "  'high_school': None,\n",
       "  'high_school_district': 'Hicksville',\n",
       "  'lot_area': 0.14,\n",
       "  'tax_block': None,\n",
       "  'tax_lot': None},\n",
       " {'address_street': '162 Scooter Ln',\n",
       "  'address_city_state': 'Hicksville, NY 11801',\n",
       "  'listed_price': 479000,\n",
       "  'days_on_market': 27,\n",
       "  'building_area': None,\n",
       "  'basement_features': None,\n",
       "  'bedrooms': 4,\n",
       "  'bathrooms': 2,\n",
       "  'full_bathrooms': None,\n",
       "  'appliances_list': None,\n",
       "  'flooring_type': None,\n",
       "  'garage_spaces': None,\n",
       "  'parking_features': None,\n",
       "  'sewer_type': None,\n",
       "  'year_built': 1951,\n",
       "  'construction_materials': None,\n",
       "  'property_type': None,\n",
       "  'property_subtype': None,\n",
       "  'mls_status': None,\n",
       "  'listing_status': 'Active',\n",
       "  'virtual_tour_url': None,\n",
       "  'mls_id': None,\n",
       "  'elementary_school': None,\n",
       "  'elementary_school_district': 'Hicksville',\n",
       "  'jr_mid_school': None,\n",
       "  'jr_mid_school_district': 'Hicksville',\n",
       "  'high_school': None,\n",
       "  'high_school_district': 'Hicksville',\n",
       "  'lot_area': 0.14,\n",
       "  'tax_block': None,\n",
       "  'tax_lot': None},\n",
       " {'address_street': '35 Woodbine Dr S',\n",
       "  'address_city_state': 'Hicksville, NY 11801',\n",
       "  'listed_price': 599000,\n",
       "  'days_on_market': 16,\n",
       "  'building_area': None,\n",
       "  'basement_features': None,\n",
       "  'bedrooms': 3,\n",
       "  'bathrooms': 2,\n",
       "  'full_bathrooms': None,\n",
       "  'appliances_list': None,\n",
       "  'flooring_type': None,\n",
       "  'garage_spaces': 1,\n",
       "  'parking_features': None,\n",
       "  'sewer_type': None,\n",
       "  'year_built': 1952,\n",
       "  'construction_materials': None,\n",
       "  'property_type': None,\n",
       "  'property_subtype': None,\n",
       "  'mls_status': None,\n",
       "  'listing_status': 'Active',\n",
       "  'virtual_tour_url': None,\n",
       "  'mls_id': None,\n",
       "  'elementary_school': 'Call Listing Agent',\n",
       "  'elementary_school_district': 'Bethpage',\n",
       "  'jr_mid_school': 'John F Kennedy Middle School',\n",
       "  'jr_mid_school_district': 'Bethpage',\n",
       "  'high_school': None,\n",
       "  'high_school_district': 'Bethpage',\n",
       "  'lot_area': 0.15,\n",
       "  'tax_block': None,\n",
       "  'tax_lot': None},\n",
       " {'address_street': '11 Alpine Ln',\n",
       "  'address_city_state': 'Hicksville, NY 11801',\n",
       "  'listed_price': 679000,\n",
       "  'days_on_market': 1,\n",
       "  'building_area': None,\n",
       "  'basement_features': None,\n",
       "  'bedrooms': 5,\n",
       "  'bathrooms': 3,\n",
       "  'full_bathrooms': None,\n",
       "  'appliances_list': None,\n",
       "  'flooring_type': 'Hardwood',\n",
       "  'garage_spaces': 4,\n",
       "  'parking_features': None,\n",
       "  'sewer_type': None,\n",
       "  'year_built': 1948,\n",
       "  'construction_materials': None,\n",
       "  'property_type': None,\n",
       "  'property_subtype': None,\n",
       "  'mls_status': None,\n",
       "  'listing_status': 'Active',\n",
       "  'virtual_tour_url': None,\n",
       "  'mls_id': None,\n",
       "  'elementary_school': None,\n",
       "  'elementary_school_district': 'Hicksville',\n",
       "  'jr_mid_school': None,\n",
       "  'jr_mid_school_district': 'Hicksville',\n",
       "  'high_school': None,\n",
       "  'high_school_district': 'Hicksville',\n",
       "  'lot_area': 0.16,\n",
       "  'tax_block': None,\n",
       "  'tax_lot': None},\n",
       " {'address_street': '11 Verbena Ct',\n",
       "  'address_city_state': 'Hicksville, NY 11801',\n",
       "  'listed_price': 795000,\n",
       "  'days_on_market': 3,\n",
       "  'building_area': None,\n",
       "  'basement_features': None,\n",
       "  'bedrooms': 4,\n",
       "  'bathrooms': 4,\n",
       "  'full_bathrooms': None,\n",
       "  'appliances_list': None,\n",
       "  'flooring_type': None,\n",
       "  'garage_spaces': 2,\n",
       "  'parking_features': None,\n",
       "  'sewer_type': None,\n",
       "  'year_built': 1955,\n",
       "  'construction_materials': None,\n",
       "  'property_type': None,\n",
       "  'property_subtype': None,\n",
       "  'mls_status': None,\n",
       "  'listing_status': 'Active',\n",
       "  'virtual_tour_url': None,\n",
       "  'mls_id': None,\n",
       "  'elementary_school': None,\n",
       "  'elementary_school_district': 'Hicksville',\n",
       "  'jr_mid_school': None,\n",
       "  'jr_mid_school_district': 'Hicksville',\n",
       "  'high_school': None,\n",
       "  'high_school_district': 'Hicksville',\n",
       "  'lot_area': 0.21,\n",
       "  'tax_block': None,\n",
       "  'tax_lot': None}]"
      ]
     },
     "metadata": {},
     "execution_count": 35
    }
   ],
   "source": [
    "data"
   ]
  },
  {
   "cell_type": "code",
   "execution_count": 11,
   "metadata": {},
   "outputs": [],
   "source": [
    "home1 = 'https://www.trulia.com/p/ny/hicksville/69-elm-st-hicksville-ny-11801--2010964403'\n",
    "home2 = 'https://www.trulia.com/p/ct/westport/7-sunnyside-ln-westport-ct-06880--2005761044'\n",
    "home3 = 'https://www.trulia.com/p/ct/weston/131-lyons-plain-rd-weston-ct-06883--2005762377'"
   ]
  },
  {
   "cell_type": "code",
   "execution_count": 11,
   "metadata": {},
   "outputs": [],
   "source": [
    "parser = trulia_scraper.listing(browser, schema, home1)"
   ]
  },
  {
   "cell_type": "code",
   "execution_count": 15,
   "metadata": {},
   "outputs": [],
   "source": [
    "results = parser.parse_page()"
   ]
  },
  {
   "cell_type": "code",
   "execution_count": 16,
   "metadata": {},
   "outputs": [
    {
     "output_type": "execute_result",
     "data": {
      "text/plain": [
       "{'address_street': '69 Elm St',\n",
       " 'address_city_state': 'Hicksville, NY 11801',\n",
       " 'listed_price': '$615,000',\n",
       " 'building_area': None,\n",
       " 'basement_features': None,\n",
       " 'bedrooms': 4,\n",
       " 'bathrooms': 2,\n",
       " 'full_bathrooms': None,\n",
       " 'appliances_list': None,\n",
       " 'flooring_type': 'Hardwood',\n",
       " 'garage_spaces': 1,\n",
       " 'parking_features': None,\n",
       " 'sewer_type': None,\n",
       " 'year_built': 1954,\n",
       " 'construction_materials': None,\n",
       " 'property_type': None,\n",
       " 'property_subtype': None,\n",
       " 'mls_status': None,\n",
       " 'listing_status': 'Pending',\n",
       " 'virtual_tour_url': None,\n",
       " 'mls_id': None,\n",
       " 'elementary_school': 'East Street School',\n",
       " 'elementary_school_district': 'Hicksville',\n",
       " 'jr_mid_school': 'Hicksville Middle School',\n",
       " 'jr_mid_school_district': 'Hicksville',\n",
       " 'high_school': None,\n",
       " 'high_school_district': 'Hicksville',\n",
       " 'lot_area': 0.14,\n",
       " 'tax_block': None,\n",
       " 'tax_lot': None}"
      ]
     },
     "metadata": {},
     "execution_count": 16
    }
   ],
   "source": [
    "results"
   ]
  },
  {
   "cell_type": "code",
   "execution_count": null,
   "metadata": {},
   "outputs": [],
   "source": []
  }
 ]
}