{
 "cells": [
  {
   "cell_type": "code",
   "execution_count": null,
   "id": "bottom-tokyo",
   "metadata": {},
   "outputs": [],
   "source": [
    "from matplotlib import pyplot as plt\n",
    "from matplotlib.ticker import MultipleLocator\n",
    "import numpy as np"
   ]
  },
  {
   "cell_type": "code",
   "execution_count": null,
   "id": "connected-protocol",
   "metadata": {},
   "outputs": [],
   "source": [
    "allDistricts = x[\"NAME\"].tolist()\n",
    "totalPop = x['Built 2014 or Later'].tolist()\n",
    "\n",
    "allDistrictsNew = (allDistricts[3:])\n",
    "totalPopNew = (totalPop[3:])\n",
    "print(totalPopNew)"
   ]
  },
  {
   "cell_type": "code",
   "execution_count": null,
   "id": "impossible-adaptation",
   "metadata": {},
   "outputs": [],
   "source": [
    "fig = plt.figure(figsize=(40,40))\n",
    "\n",
    "plt.xticks(fontsize=50)\n",
    "plt.yticks(fontsize=50)\n",
    "\n",
    "\n",
    "plt.title('State Population',fontsize=50)\n",
    "plt.ylabel('Districts',fontsize=50)\n",
    "plt.xlabel('Population',fontsize=50)\n",
    "ax1=plt.subplot(1,1,1)\n",
    "\n",
    "ax1.barh(allDistrictsNew, totalPopNew, 0.7, color = \"#444444\",label=\"TotalPopulation\")\n",
    "#plt.xticks([0,10])\n",
    "\n",
    "plt.legend(fontsize=50)\n",
    "plt.show()"
   ]
  }
 ],
 "metadata": {
  "kernelspec": {
   "display_name": "Python 3",
   "language": "python",
   "name": "python3"
  },
  "language_info": {
   "codemirror_mode": {
    "name": "ipython",
    "version": 3
   },
   "file_extension": ".py",
   "mimetype": "text/x-python",
   "name": "python",
   "nbconvert_exporter": "python",
   "pygments_lexer": "ipython3",
   "version": "3.9.1"
  }
 },
 "nbformat": 4,
 "nbformat_minor": 5
}
