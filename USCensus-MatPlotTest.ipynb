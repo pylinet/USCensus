{
 "cells": [
  {
   "cell_type": "code",
   "execution_count": null,
   "id": "bottom-tokyo",
   "metadata": {},
   "outputs": [],
   "source": [
    "from matplotlib import pyplot as plt\n",
    "from matplotlib.ticker import MultipleLocator\n",
    "import numpy as np"
   ]
  },
  {
   "cell_type": "code",
   "execution_count": null,
   "id": "connected-protocol",
   "metadata": {},
   "outputs": [],
   "source": [
    "allDistricts = newDf[\"NAME\"].tolist()\n",
    "totalPop = newDf[\"B01001A_001E\"].tolist()"
   ]
  },
  {
   "cell_type": "code",
   "execution_count": null,
   "id": "impossible-adaptation",
   "metadata": {},
   "outputs": [],
   "source": [
    "fig = plt.figure(figsize=(50,50))\n",
    "\n",
    "plt.xticks(fontsize=50)\n",
    "plt.yticks(fontsize=50)\n",
    "\n",
    "\n",
    "plt.title('State Population',fontsize=50)\n",
    "plt.ylabel('allDistricts',fontsize=50)\n",
    "plt.xlabel('Population',fontsize=50)\n",
    "\n",
    "plt.barh(allDistricts, totalPop, 0.8, color = \"#444444\",label=\"TotalPopulation\")\n",
    "#plt.xticks([0,10])\n",
    "\n",
    "plt.legend(fontsize=50)\n",
    "plt.show()"
   ]
  }
 ],
 "metadata": {
  "kernelspec": {
   "display_name": "Python 3",
   "language": "python",
   "name": "python3"
  },
  "language_info": {
   "codemirror_mode": {
    "name": "ipython",
    "version": 3
   },
   "file_extension": ".py",
   "mimetype": "text/x-python",
   "name": "python",
   "nbconvert_exporter": "python",
   "pygments_lexer": "ipython3",
   "version": "3.9.1"
  }
 },
 "nbformat": 4,
 "nbformat_minor": 5
}
