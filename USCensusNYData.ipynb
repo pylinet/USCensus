{
 "cells": [
  {
   "cell_type": "markdown",
   "id": "inner-landing",
   "metadata": {},
   "source": [
    "# Census API - New York"
   ]
  },
  {
   "cell_type": "code",
   "execution_count": 1,
   "id": "precious-latino",
   "metadata": {},
   "outputs": [],
   "source": [
    "# import packages\n",
    "\n",
    "from us import states\n",
    "import pandas as pd\n",
    "import requests\n",
    "\n",
    "# import doc with API key\n",
    "\n",
    "import config"
   ]
  },
  {
   "cell_type": "markdown",
   "id": "damaged-bloom",
   "metadata": {},
   "source": [
    "#### Census API Link References"
   ]
  },
  {
   "cell_type": "code",
   "execution_count": 2,
   "id": "technological-cache",
   "metadata": {},
   "outputs": [],
   "source": [
    "# \"https://api.census.gov/data/2019/acs/acs5/profile?get=NAME,DP05_0001E&for=state:36&key={0}\".format(config.MY_API_KEY)\n",
    "# \"https://api.census.gov/data/2019/acs/acs5/profile?get=group(DP05)&for=school%20district%20(unified):29850&in=state:36&key={0}\".format(config.MY_API_KEY)\n"
   ]
  },
  {
   "cell_type": "markdown",
   "id": "current-thomson",
   "metadata": {},
   "source": [
    "## Get Table Names from Census API"
   ]
  },
  {
   "cell_type": "code",
   "execution_count": 3,
   "id": "cooperative-induction",
   "metadata": {},
   "outputs": [
    {
     "name": "stdout",
     "output_type": "stream",
     "text": [
      "['DP05_0050PE', 'Percent!!RACE!!Total population!!One race!!Asian!!Vietnamese', 'ACS DEMOGRAPHIC AND HOUSING ESTIMATES']\n"
     ]
    }
   ],
   "source": [
    "variableURL = \"https://api.census.gov/data/2019/acs/acs5/profile/variables\"\n",
    "censusVarNames = requests.request(\"GET\", variableURL)\n",
    "print(censusVarNames.json()[5])"
   ]
  },
  {
   "cell_type": "code",
   "execution_count": 4,
   "id": "posted-possible",
   "metadata": {},
   "outputs": [
    {
     "data": {
      "text/html": [
       "<div>\n",
       "<style scoped>\n",
       "    .dataframe tbody tr th:only-of-type {\n",
       "        vertical-align: middle;\n",
       "    }\n",
       "\n",
       "    .dataframe tbody tr th {\n",
       "        vertical-align: top;\n",
       "    }\n",
       "\n",
       "    .dataframe thead th {\n",
       "        text-align: right;\n",
       "    }\n",
       "</style>\n",
       "<table border=\"1\" class=\"dataframe\">\n",
       "  <thead>\n",
       "    <tr style=\"text-align: right;\">\n",
       "      <th></th>\n",
       "      <th>name</th>\n",
       "      <th>label</th>\n",
       "      <th>concept</th>\n",
       "    </tr>\n",
       "  </thead>\n",
       "  <tbody>\n",
       "    <tr>\n",
       "      <th>0</th>\n",
       "      <td>DP02_0126E</td>\n",
       "      <td>Estimate!!ANCESTRY!!Total population!!Czech</td>\n",
       "      <td>SELECTED SOCIAL CHARACTERISTICS IN THE UNITED ...</td>\n",
       "    </tr>\n",
       "    <tr>\n",
       "      <th>1</th>\n",
       "      <td>DP05_0050PE</td>\n",
       "      <td>Percent!!RACE!!Total population!!One race!!Asi...</td>\n",
       "      <td>ACS DEMOGRAPHIC AND HOUSING ESTIMATES</td>\n",
       "    </tr>\n",
       "    <tr>\n",
       "      <th>2</th>\n",
       "      <td>DP04_0047E</td>\n",
       "      <td>Estimate!!HOUSING TENURE!!Occupied housing uni...</td>\n",
       "      <td>SELECTED HOUSING CHARACTERISTICS</td>\n",
       "    </tr>\n",
       "    <tr>\n",
       "      <th>3</th>\n",
       "      <td>DP02PR_0083PE</td>\n",
       "      <td>Percent!!RESIDENCE 1 YEAR AGO!!Population 1 ye...</td>\n",
       "      <td>SELECTED SOCIAL CHARACTERISTICS IN PUERTO RICO</td>\n",
       "    </tr>\n",
       "    <tr>\n",
       "      <th>4</th>\n",
       "      <td>DP02PR_0106PE</td>\n",
       "      <td>Percent!!WORLD REGION OF BIRTH OF FOREIGN BORN...</td>\n",
       "      <td>SELECTED SOCIAL CHARACTERISTICS IN PUERTO RICO</td>\n",
       "    </tr>\n",
       "  </tbody>\n",
       "</table>\n",
       "</div>"
      ],
      "text/plain": [
       "            name                                              label  \\\n",
       "0     DP02_0126E        Estimate!!ANCESTRY!!Total population!!Czech   \n",
       "1    DP05_0050PE  Percent!!RACE!!Total population!!One race!!Asi...   \n",
       "2     DP04_0047E  Estimate!!HOUSING TENURE!!Occupied housing uni...   \n",
       "3  DP02PR_0083PE  Percent!!RESIDENCE 1 YEAR AGO!!Population 1 ye...   \n",
       "4  DP02PR_0106PE  Percent!!WORLD REGION OF BIRTH OF FOREIGN BORN...   \n",
       "\n",
       "                                             concept  \n",
       "0  SELECTED SOCIAL CHARACTERISTICS IN THE UNITED ...  \n",
       "1              ACS DEMOGRAPHIC AND HOUSING ESTIMATES  \n",
       "2                   SELECTED HOUSING CHARACTERISTICS  \n",
       "3     SELECTED SOCIAL CHARACTERISTICS IN PUERTO RICO  \n",
       "4     SELECTED SOCIAL CHARACTERISTICS IN PUERTO RICO  "
      ]
     },
     "execution_count": 4,
     "metadata": {},
     "output_type": "execute_result"
    }
   ],
   "source": [
    "censusDataProfile = pd.DataFrame(columns=censusVarNames.json()[0], data=censusVarNames.json()[4:])\n",
    "censusDataProfile.head()"
   ]
  },
  {
   "cell_type": "markdown",
   "id": "behind-opening",
   "metadata": {},
   "source": [
    "## Import CSV\n",
    "\n",
    "#### If a user is interested in looking at only select parts of the entire US Census set, save a separate text file with your list. \n",
    "#### You can pick and choose which school districts after compiling all the data, but it helps to filter out the data earlier on to minimize the size of your data frame"
   ]
  },
  {
   "cell_type": "code",
   "execution_count": 5,
   "id": "racial-effects",
   "metadata": {},
   "outputs": [
    {
     "data": {
      "text/html": [
       "<div>\n",
       "<style scoped>\n",
       "    .dataframe tbody tr th:only-of-type {\n",
       "        vertical-align: middle;\n",
       "    }\n",
       "\n",
       "    .dataframe tbody tr th {\n",
       "        vertical-align: top;\n",
       "    }\n",
       "\n",
       "    .dataframe thead th {\n",
       "        text-align: right;\n",
       "    }\n",
       "</style>\n",
       "<table border=\"1\" class=\"dataframe\">\n",
       "  <thead>\n",
       "    <tr style=\"text-align: right;\">\n",
       "      <th></th>\n",
       "      <th>School District Name</th>\n",
       "    </tr>\n",
       "  </thead>\n",
       "  <tbody>\n",
       "    <tr>\n",
       "      <th>0</th>\n",
       "      <td>Jericho Union Free School District</td>\n",
       "    </tr>\n",
       "    <tr>\n",
       "      <th>1</th>\n",
       "      <td>Great Neck Public Schools</td>\n",
       "    </tr>\n",
       "    <tr>\n",
       "      <th>2</th>\n",
       "      <td>Syosset Central School District</td>\n",
       "    </tr>\n",
       "    <tr>\n",
       "      <th>3</th>\n",
       "      <td>Roslyn Union Free School District</td>\n",
       "    </tr>\n",
       "    <tr>\n",
       "      <th>4</th>\n",
       "      <td>Herricks Union Free School District</td>\n",
       "    </tr>\n",
       "  </tbody>\n",
       "</table>\n",
       "</div>"
      ],
      "text/plain": [
       "                  School District Name\n",
       "0   Jericho Union Free School District\n",
       "1            Great Neck Public Schools\n",
       "2      Syosset Central School District\n",
       "3    Roslyn Union Free School District\n",
       "4  Herricks Union Free School District"
      ]
     },
     "execution_count": 5,
     "metadata": {},
     "output_type": "execute_result"
    }
   ],
   "source": [
    "# This list is the top 20 school districts in Nassau County.\n",
    "\n",
    "selectedNYCounties = pd.read_csv(r\"Data\\USCensusNYSchDist.txt\",names=['School District Name'])\n",
    "selectedNYCounties.head()"
   ]
  },
  {
   "cell_type": "code",
   "execution_count": 6,
   "id": "numeric-phrase",
   "metadata": {},
   "outputs": [
    {
     "data": {
      "text/html": [
       "<div>\n",
       "<style scoped>\n",
       "    .dataframe tbody tr th:only-of-type {\n",
       "        vertical-align: middle;\n",
       "    }\n",
       "\n",
       "    .dataframe tbody tr th {\n",
       "        vertical-align: top;\n",
       "    }\n",
       "\n",
       "    .dataframe thead th {\n",
       "        text-align: right;\n",
       "    }\n",
       "</style>\n",
       "<table border=\"1\" class=\"dataframe\">\n",
       "  <thead>\n",
       "    <tr style=\"text-align: right;\">\n",
       "      <th></th>\n",
       "      <th>State</th>\n",
       "      <th>ID</th>\n",
       "      <th>GEOID</th>\n",
       "      <th>School District Name</th>\n",
       "      <th>Class</th>\n",
       "    </tr>\n",
       "  </thead>\n",
       "  <tbody>\n",
       "    <tr>\n",
       "      <th>0</th>\n",
       "      <td>NY</td>\n",
       "      <td>36</td>\n",
       "      <td>1</td>\n",
       "      <td>Dolgeville Central School District</td>\n",
       "      <td>Unified</td>\n",
       "    </tr>\n",
       "    <tr>\n",
       "      <th>1</th>\n",
       "      <td>NY</td>\n",
       "      <td>36</td>\n",
       "      <td>2</td>\n",
       "      <td>Sauquoit Valley Central School District</td>\n",
       "      <td>Unified</td>\n",
       "    </tr>\n",
       "    <tr>\n",
       "      <th>2</th>\n",
       "      <td>NY</td>\n",
       "      <td>36</td>\n",
       "      <td>3</td>\n",
       "      <td>Edwards-Knox Central School District</td>\n",
       "      <td>Unified</td>\n",
       "    </tr>\n",
       "    <tr>\n",
       "      <th>3</th>\n",
       "      <td>NY</td>\n",
       "      <td>36</td>\n",
       "      <td>4</td>\n",
       "      <td>Rotterdam-Mohonasen Central School District</td>\n",
       "      <td>Unified</td>\n",
       "    </tr>\n",
       "    <tr>\n",
       "      <th>4</th>\n",
       "      <td>NY</td>\n",
       "      <td>36</td>\n",
       "      <td>5</td>\n",
       "      <td>Broadalbin-Perth Central School District</td>\n",
       "      <td>Unified</td>\n",
       "    </tr>\n",
       "  </tbody>\n",
       "</table>\n",
       "</div>"
      ],
      "text/plain": [
       "  State  ID  GEOID                         School District Name    Class\n",
       "0    NY  36      1           Dolgeville Central School District  Unified\n",
       "1    NY  36      2      Sauquoit Valley Central School District  Unified\n",
       "2    NY  36      3         Edwards-Knox Central School District  Unified\n",
       "3    NY  36      4  Rotterdam-Mohonasen Central School District  Unified\n",
       "4    NY  36      5     Broadalbin-Perth Central School District  Unified"
      ]
     },
     "execution_count": 6,
     "metadata": {},
     "output_type": "execute_result"
    }
   ],
   "source": [
    "# Read Census data set which lists GEOIDs per each school district in state\n",
    "\n",
    "URL = (\"https://www2.census.gov/geo/docs/reference/codes/files/st36_ny_schdist.txt\")\n",
    "CountyGEOID = pd.read_csv(URL,names=['State', 'ID','GEOID','School District Name', 'Class'])\n",
    "CountyGEOID.head()"
   ]
  },
  {
   "cell_type": "markdown",
   "id": "matched-cricket",
   "metadata": {},
   "source": [
    "#### GEOIDs are going to be critical to using the Census API.\n",
    "\n",
    "Create a new Dataframe, which combines all rows based on their \"School District Name.\"\n",
    "This will allow that first layer of filtering to happen -> you get the GEOIDs for all of the school districts you are interested in looking at.\n",
    "\n",
    "Need to further investigate and understand Pandas concat, merge, join. Not sure why merge worked - so need to dig into that.\n"
   ]
  },
  {
   "cell_type": "code",
   "execution_count": 7,
   "id": "endangered-junior",
   "metadata": {},
   "outputs": [
    {
     "ename": "NameError",
     "evalue": "name 'NYCounties' is not defined",
     "output_type": "error",
     "traceback": [
      "\u001b[1;31m---------------------------------------------------------------------------\u001b[0m",
      "\u001b[1;31mNameError\u001b[0m                                 Traceback (most recent call last)",
      "\u001b[1;32m<ipython-input-7-a6240f7a8c45>\u001b[0m in \u001b[0;36m<module>\u001b[1;34m\u001b[0m\n\u001b[1;32m----> 1\u001b[1;33m \u001b[0mNYCountiesGEOID\u001b[0m \u001b[1;33m=\u001b[0m \u001b[0mNYCounties\u001b[0m\u001b[1;33m.\u001b[0m\u001b[0mmerge\u001b[0m\u001b[1;33m(\u001b[0m\u001b[0mdata\u001b[0m\u001b[1;33m,\u001b[0m \u001b[0mon\u001b[0m\u001b[1;33m=\u001b[0m\u001b[1;33m[\u001b[0m\u001b[1;34m'School District Name'\u001b[0m\u001b[1;33m]\u001b[0m\u001b[1;33m,\u001b[0m\u001b[0mhow\u001b[0m\u001b[1;33m=\u001b[0m\u001b[1;34m'inner'\u001b[0m\u001b[1;33m)\u001b[0m\u001b[1;33m\u001b[0m\u001b[1;33m\u001b[0m\u001b[0m\n\u001b[0m\u001b[0;32m      2\u001b[0m \u001b[0mNYCountiesGEOID\u001b[0m\u001b[1;33m\u001b[0m\u001b[1;33m\u001b[0m\u001b[0m\n",
      "\u001b[1;31mNameError\u001b[0m: name 'NYCounties' is not defined"
     ]
    }
   ],
   "source": [
    "NYCountiesGEOID = NYCounties.merge(data, on=['School District Name'],how='inner')\n",
    "NYCountiesGEOID"
   ]
  },
  {
   "cell_type": "code",
   "execution_count": null,
   "id": "wired-huntington",
   "metadata": {},
   "outputs": [],
   "source": [
    "# Get all GEO IDs in a single list\n",
    "\n",
    "GEOIDonly = joined['GEOID'].tolist()\n",
    "separator = ', '\n",
    "print(GEOIDonly)"
   ]
  },
  {
   "cell_type": "code",
   "execution_count": null,
   "id": "bottom-freeze",
   "metadata": {},
   "outputs": [],
   "source": [
    "# As a single string\n",
    "\n",
    "GEOIDsinglestring = separator.join(map(str, GEOIDonly))\n",
    "print(GEOIDsinglestring)"
   ]
  },
  {
   "cell_type": "markdown",
   "id": "successful-juvenile",
   "metadata": {},
   "source": [
    "## Refactoring into Formulas\n",
    "\n",
    "#### Breakdown into small discrete formulas"
   ]
  },
  {
   "cell_type": "code",
   "execution_count": null,
   "id": "advance-collection",
   "metadata": {},
   "outputs": [],
   "source": [
    "def jsontodf(response):\n",
    "    return pd.DataFrame(response.json()[1:], columns=response.json()[0])"
   ]
  },
  {
   "cell_type": "code",
   "execution_count": null,
   "id": "liable-bubble",
   "metadata": {},
   "outputs": [],
   "source": [
    "def dataProfSchDist(censusVariables,schoolDistricts):\n",
    "    # first URL is for the detailed table. second URL is for the data profiles.\n",
    "    # URL = \"https://api.census.gov/data/2019/acs/acs5?get=NAME,{0}&for=school%20district%20(unified):{1}&in=state:36&key={2}\".format(censusVariables,schoolDistricts,config.MY_API_KEY)\n",
    "\n",
    "    URL = \"https://api.census.gov/data/2019/acs/acs5/profile?get=NAME,{0}&for=school%20district%20(unified):{1}&in=state:36&key={2}\".format(censusVariables,schoolDistricts,config.MY_API_KEY)\n",
    "    return requests.request(\"GET\", URL)"
   ]
  },
  {
   "cell_type": "code",
   "execution_count": null,
   "id": "eligible-stephen",
   "metadata": {},
   "outputs": [],
   "source": [
    "def deTabSchDist(censusVariables,schoolDistricts):\n",
    "    # first URL is for the detailed table. second URL is for the data profiles.\n",
    "    # URL = \"https://api.census.gov/data/2019/acs/acs5?get=NAME,{0}&for=school%20district%20(unified):{1}&in=state:36&key={2}\".format(censusVariables,schoolDistricts,config.MY_API_KEY)\n",
    "\n",
    "    URL = \"https://api.census.gov/data/2019/acs/acs5/?get=NAME,{0}&for=school%20district%20(unified):{1}&in=state:36&key={2}\".format(censusVariables,schoolDistricts,config.MY_API_KEY)\n",
    "    return requests.request(\"GET\", URL)"
   ]
  },
  {
   "cell_type": "markdown",
   "id": "exceptional-compilation",
   "metadata": {},
   "source": [
    "#### Mega Formula"
   ]
  },
  {
   "cell_type": "code",
   "execution_count": null,
   "id": "great-lying",
   "metadata": {},
   "outputs": [],
   "source": [
    "def dataProfile(cenVar, schDisID):\n",
    "    x = dataProfSchDist(cenVar,schDisID)\n",
    "    return jsontodf(x)\n",
    "\n",
    "def detailedTable(cenVar, schDisID):\n",
    "    x = deTabSchDist(cenVar,schDisID)\n",
    "    return jsontodf(x)"
   ]
  },
  {
   "cell_type": "markdown",
   "id": "advised-creation",
   "metadata": {},
   "source": [
    "#### Test"
   ]
  },
  {
   "cell_type": "code",
   "execution_count": null,
   "id": "adolescent-satin",
   "metadata": {},
   "outputs": [],
   "source": [
    "# Getting Census Data: Data Profiles\n",
    "\n",
    "selectedVar = 'DP05_0002E,DP05_0003E'\n",
    "GEOIDsinglestring\n",
    "\n",
    "dataProfile(selectedVar,GEOIDsinglestring)"
   ]
  },
  {
   "cell_type": "code",
   "execution_count": null,
   "id": "governmental-welsh",
   "metadata": {},
   "outputs": [],
   "source": [
    "# Getting Census Data: Detailed Tables\n",
    "\n",
    "selectedVar = 'B01001_002E,B01001_026E,B19013_001E'\n",
    "GEOIDsinglestring\n",
    "\n",
    "detailedTable(selectedVar,GEOIDsinglestring)"
   ]
  },
  {
   "cell_type": "code",
   "execution_count": null,
   "id": "sized-ethics",
   "metadata": {},
   "outputs": [],
   "source": []
  }
 ],
 "metadata": {
  "kernelspec": {
   "display_name": "Python 3",
   "language": "python",
   "name": "python3"
  },
  "language_info": {
   "codemirror_mode": {
    "name": "ipython",
    "version": 3
   },
   "file_extension": ".py",
   "mimetype": "text/x-python",
   "name": "python",
   "nbconvert_exporter": "python",
   "pygments_lexer": "ipython3",
   "version": "3.9.1"
  }
 },
 "nbformat": 4,
 "nbformat_minor": 5
}
