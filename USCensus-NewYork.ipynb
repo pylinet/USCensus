{
 "cells": [
  {
   "cell_type": "code",
   "execution_count": 23,
   "id": "funded-calibration",
   "metadata": {},
   "outputs": [],
   "source": [
    "from census import Census\n",
    "from us import states\n",
    "import pandas as pd"
   ]
  },
  {
   "cell_type": "code",
   "execution_count": 17,
   "id": "medium-mathematics",
   "metadata": {},
   "outputs": [],
   "source": [
    "import config"
   ]
  },
  {
   "cell_type": "code",
   "execution_count": 18,
   "id": "mexican-spider",
   "metadata": {},
   "outputs": [
    {
     "data": {
      "text/plain": [
       "[{'NAME': 'Maryland', 'B25034_010E': 129309.0, 'state': '24'}]"
      ]
     },
     "execution_count": 18,
     "metadata": {},
     "output_type": "execute_result"
    }
   ],
   "source": [
    "c = Census(config.MY_API_KEY)\n",
    "c.acs5.get(('NAME', 'B25034_010E'),\n",
    "          {'for': 'state:{}'.format(states.MD.fips)})"
   ]
  },
  {
   "cell_type": "code",
   "execution_count": 82,
   "id": "premium-cargo",
   "metadata": {},
   "outputs": [
    {
     "name": "stdout",
     "output_type": "stream",
     "text": [
      "                              School District Name\n",
      "0               Jericho Union Free School District\n",
      "1                        Great Neck Public Schools\n",
      "2                  Syosset Central School District\n",
      "3                Roslyn Union Free School District\n",
      "4              Herricks Union Free School District\n",
      "5             Manhasset Union Free School District\n",
      "6        East Williston Union Free School District\n",
      "7              North Shore Central School District\n",
      "8      Hewlett-Woodmere Union Free School District\n",
      "9   Plainview-Old Bethpage Central School District\n",
      "10   Bellmore-Merrick Central High School District\n",
      "11          Garden City Union Free School District\n",
      "12      Port Washington Union Free School District\n",
      "13             Bethpage Union Free School District\n",
      "14             Lynbrook Union Free School District\n",
      "15           East Meadow Union Free School Distrct\n",
      "16           Locust Valley Central School District\n",
      "17     Rockville Centre Union Free School District\n",
      "18           Massapequa Union Free School District\n",
      "19              Wantagh Union Free School District\n",
      "20            Levittown Union Free School District\n"
     ]
    }
   ],
   "source": [
    "NYCounties = pd.read_csv(r\"C:\\Users\\Pyline\\USCensus\\Data\\USCensusNYSchDist.txt\",names=['School District Name'])\n",
    "print(NYCounties)"
   ]
  },
  {
   "cell_type": "code",
   "execution_count": 86,
   "id": "pleased-shannon",
   "metadata": {},
   "outputs": [
    {
     "name": "stdout",
     "output_type": "stream",
     "text": [
      "    State  ID  GEOID                         School District Name    Class\n",
      "0      NY  36      1           Dolgeville Central School District  Unified\n",
      "1      NY  36      2      Sauquoit Valley Central School District  Unified\n",
      "2      NY  36      3         Edwards-Knox Central School District  Unified\n",
      "3      NY  36      4  Rotterdam-Mohonasen Central School District  Unified\n",
      "4      NY  36      5     Broadalbin-Perth Central School District  Unified\n",
      "..    ...  ..    ...                                          ...      ...\n",
      "681    NY  36  31950                 York Central School District  Unified\n",
      "682    NY  36  31980             Yorktown Central School District  Unified\n",
      "683    NY  36  32010        Cuba-Rushford Central School District  Unified\n",
      "684    NY  36  99997                  School District Not Defined  Unified\n",
      "685    NY  36  99998          School District Not Defined (Water)  Unified\n",
      "\n",
      "[686 rows x 5 columns]\n"
     ]
    }
   ],
   "source": [
    "# reading the first row as HEADERS of the table....!!! how to fix\n",
    "\n",
    "URL = (\"https://www2.census.gov/geo/docs/reference/codes/files/st36_ny_schdist.txt\")\n",
    "data = pd.read_csv(URL,names=['State', 'ID','GEOID','School District Name', 'Class'])\n",
    "print(data)"
   ]
  },
  {
   "cell_type": "code",
   "execution_count": null,
   "id": "honest-acting",
   "metadata": {},
   "outputs": [],
   "source": []
  },
  {
   "cell_type": "code",
   "execution_count": null,
   "id": "patient-objective",
   "metadata": {},
   "outputs": [],
   "source": []
  }
 ],
 "metadata": {
  "kernelspec": {
   "display_name": "Python 3",
   "language": "python",
   "name": "python3"
  },
  "language_info": {
   "codemirror_mode": {
    "name": "ipython",
    "version": 3
   },
   "file_extension": ".py",
   "mimetype": "text/x-python",
   "name": "python",
   "nbconvert_exporter": "python",
   "pygments_lexer": "ipython3",
   "version": "3.9.1"
  }
 },
 "nbformat": 4,
 "nbformat_minor": 5
}
