{
 "cells": [
  {
   "cell_type": "code",
   "execution_count": 1,
   "id": "funded-calibration",
   "metadata": {},
   "outputs": [],
   "source": [
    "# import packages\n",
    "\n",
    "from us import states\n",
    "import pandas as pd\n",
    "import requests"
   ]
  },
  {
   "cell_type": "code",
   "execution_count": 49,
   "id": "medium-mathematics",
   "metadata": {},
   "outputs": [],
   "source": [
    "# import document with API key\n",
    "\n",
    "import config\n",
    "c = Census(config.MY_API_KEY)"
   ]
  },
  {
   "cell_type": "code",
   "execution_count": 101,
   "id": "exclusive-eligibility",
   "metadata": {},
   "outputs": [],
   "source": [
    "# convert response to dataframe\n",
    "# read about this later\n",
    "\n",
    "def json_to_dataframe(response):\n",
    "    return pd.DataFrame(response.json()[1:], columns=response.json()[0])"
   ]
  },
  {
   "cell_type": "code",
   "execution_count": 152,
   "id": "immediate-witch",
   "metadata": {},
   "outputs": [],
   "source": [
    "def schoolDistrictInput(strings):\n",
    "    URL = \"https://api.census.gov/data/2019/acs/acs5?get=NAME,B01001_001E&for=school%20district%20(unified):{0}&in=state:36&key={1}\".format(strings,config.MY_API_KEY)\n",
    "    return requests.request(\"GET\", URL)"
   ]
  },
  {
   "cell_type": "code",
   "execution_count": 151,
   "id": "standard-television",
   "metadata": {},
   "outputs": [],
   "source": [
    "# create data frame of responses\n",
    "def dataFrame(responses):\n",
    "    return json_to_dataframe(responses)"
   ]
  },
  {
   "cell_type": "code",
   "execution_count": 104,
   "id": "racial-effects",
   "metadata": {},
   "outputs": [],
   "source": [
    "# read CSV with selected school districts - this is user defined!\n",
    "\n",
    "NYCounties = pd.read_csv(r\"Data\\USCensusNYSchDist.txt\",names=['School District Name'])"
   ]
  },
  {
   "cell_type": "code",
   "execution_count": 105,
   "id": "numeric-phrase",
   "metadata": {},
   "outputs": [],
   "source": [
    "# read Census data set which lists GEOIDs per each school district in state\n",
    "\n",
    "URL = (\"https://www2.census.gov/geo/docs/reference/codes/files/st36_ny_schdist.txt\")\n",
    "data = pd.read_csv(URL,names=['State', 'ID','GEOID','School District Name', 'Class'])"
   ]
  },
  {
   "cell_type": "code",
   "execution_count": 107,
   "id": "endangered-junior",
   "metadata": {},
   "outputs": [
    {
     "data": {
      "text/html": [
       "<div>\n",
       "<style scoped>\n",
       "    .dataframe tbody tr th:only-of-type {\n",
       "        vertical-align: middle;\n",
       "    }\n",
       "\n",
       "    .dataframe tbody tr th {\n",
       "        vertical-align: top;\n",
       "    }\n",
       "\n",
       "    .dataframe thead th {\n",
       "        text-align: right;\n",
       "    }\n",
       "</style>\n",
       "<table border=\"1\" class=\"dataframe\">\n",
       "  <thead>\n",
       "    <tr style=\"text-align: right;\">\n",
       "      <th></th>\n",
       "      <th>School District Name</th>\n",
       "      <th>State</th>\n",
       "      <th>ID</th>\n",
       "      <th>GEOID</th>\n",
       "      <th>Class</th>\n",
       "    </tr>\n",
       "  </thead>\n",
       "  <tbody>\n",
       "    <tr>\n",
       "      <th>0</th>\n",
       "      <td>Jericho Union Free School District</td>\n",
       "      <td>NY</td>\n",
       "      <td>36</td>\n",
       "      <td>15810</td>\n",
       "      <td>Unified</td>\n",
       "    </tr>\n",
       "    <tr>\n",
       "      <th>1</th>\n",
       "      <td>Syosset Central School District</td>\n",
       "      <td>NY</td>\n",
       "      <td>36</td>\n",
       "      <td>28560</td>\n",
       "      <td>Unified</td>\n",
       "    </tr>\n",
       "    <tr>\n",
       "      <th>2</th>\n",
       "      <td>Roslyn Union Free School District</td>\n",
       "      <td>NY</td>\n",
       "      <td>36</td>\n",
       "      <td>25050</td>\n",
       "      <td>Unified</td>\n",
       "    </tr>\n",
       "    <tr>\n",
       "      <th>3</th>\n",
       "      <td>Herricks Union Free School District</td>\n",
       "      <td>NY</td>\n",
       "      <td>36</td>\n",
       "      <td>14280</td>\n",
       "      <td>Unified</td>\n",
       "    </tr>\n",
       "    <tr>\n",
       "      <th>4</th>\n",
       "      <td>Manhasset Union Free School District</td>\n",
       "      <td>NY</td>\n",
       "      <td>36</td>\n",
       "      <td>18270</td>\n",
       "      <td>Unified</td>\n",
       "    </tr>\n",
       "    <tr>\n",
       "      <th>5</th>\n",
       "      <td>East Williston Union Free School District</td>\n",
       "      <td>NY</td>\n",
       "      <td>36</td>\n",
       "      <td>10050</td>\n",
       "      <td>Unified</td>\n",
       "    </tr>\n",
       "    <tr>\n",
       "      <th>6</th>\n",
       "      <td>North Shore Central School District</td>\n",
       "      <td>NY</td>\n",
       "      <td>36</td>\n",
       "      <td>26370</td>\n",
       "      <td>Unified</td>\n",
       "    </tr>\n",
       "    <tr>\n",
       "      <th>7</th>\n",
       "      <td>Hewlett-Woodmere Union Free School District</td>\n",
       "      <td>NY</td>\n",
       "      <td>36</td>\n",
       "      <td>31710</td>\n",
       "      <td>Unified</td>\n",
       "    </tr>\n",
       "    <tr>\n",
       "      <th>8</th>\n",
       "      <td>Plainview-Old Bethpage Central School District</td>\n",
       "      <td>NY</td>\n",
       "      <td>36</td>\n",
       "      <td>23220</td>\n",
       "      <td>Unified</td>\n",
       "    </tr>\n",
       "    <tr>\n",
       "      <th>9</th>\n",
       "      <td>Bellmore-Merrick Central High School District</td>\n",
       "      <td>NY</td>\n",
       "      <td>36</td>\n",
       "      <td>19020</td>\n",
       "      <td>Secondary</td>\n",
       "    </tr>\n",
       "    <tr>\n",
       "      <th>10</th>\n",
       "      <td>Garden City Union Free School District</td>\n",
       "      <td>NY</td>\n",
       "      <td>36</td>\n",
       "      <td>11760</td>\n",
       "      <td>Unified</td>\n",
       "    </tr>\n",
       "    <tr>\n",
       "      <th>11</th>\n",
       "      <td>Port Washington Union Free School District</td>\n",
       "      <td>NY</td>\n",
       "      <td>36</td>\n",
       "      <td>23580</td>\n",
       "      <td>Unified</td>\n",
       "    </tr>\n",
       "    <tr>\n",
       "      <th>12</th>\n",
       "      <td>Bethpage Union Free School District</td>\n",
       "      <td>NY</td>\n",
       "      <td>36</td>\n",
       "      <td>4740</td>\n",
       "      <td>Unified</td>\n",
       "    </tr>\n",
       "    <tr>\n",
       "      <th>13</th>\n",
       "      <td>Lynbrook Union Free School District</td>\n",
       "      <td>NY</td>\n",
       "      <td>36</td>\n",
       "      <td>17910</td>\n",
       "      <td>Unified</td>\n",
       "    </tr>\n",
       "    <tr>\n",
       "      <th>14</th>\n",
       "      <td>Locust Valley Central School District</td>\n",
       "      <td>NY</td>\n",
       "      <td>36</td>\n",
       "      <td>17700</td>\n",
       "      <td>Unified</td>\n",
       "    </tr>\n",
       "    <tr>\n",
       "      <th>15</th>\n",
       "      <td>Rockville Centre Union Free School District</td>\n",
       "      <td>NY</td>\n",
       "      <td>36</td>\n",
       "      <td>24780</td>\n",
       "      <td>Unified</td>\n",
       "    </tr>\n",
       "    <tr>\n",
       "      <th>16</th>\n",
       "      <td>Massapequa Union Free School District</td>\n",
       "      <td>NY</td>\n",
       "      <td>36</td>\n",
       "      <td>18630</td>\n",
       "      <td>Unified</td>\n",
       "    </tr>\n",
       "    <tr>\n",
       "      <th>17</th>\n",
       "      <td>Wantagh Union Free School District</td>\n",
       "      <td>NY</td>\n",
       "      <td>36</td>\n",
       "      <td>29850</td>\n",
       "      <td>Unified</td>\n",
       "    </tr>\n",
       "    <tr>\n",
       "      <th>18</th>\n",
       "      <td>Levittown Union Free School District</td>\n",
       "      <td>NY</td>\n",
       "      <td>36</td>\n",
       "      <td>17160</td>\n",
       "      <td>Unified</td>\n",
       "    </tr>\n",
       "  </tbody>\n",
       "</table>\n",
       "</div>"
      ],
      "text/plain": [
       "                              School District Name State  ID  GEOID      Class\n",
       "0               Jericho Union Free School District    NY  36  15810    Unified\n",
       "1                  Syosset Central School District    NY  36  28560    Unified\n",
       "2                Roslyn Union Free School District    NY  36  25050    Unified\n",
       "3              Herricks Union Free School District    NY  36  14280    Unified\n",
       "4             Manhasset Union Free School District    NY  36  18270    Unified\n",
       "5        East Williston Union Free School District    NY  36  10050    Unified\n",
       "6              North Shore Central School District    NY  36  26370    Unified\n",
       "7      Hewlett-Woodmere Union Free School District    NY  36  31710    Unified\n",
       "8   Plainview-Old Bethpage Central School District    NY  36  23220    Unified\n",
       "9    Bellmore-Merrick Central High School District    NY  36  19020  Secondary\n",
       "10          Garden City Union Free School District    NY  36  11760    Unified\n",
       "11      Port Washington Union Free School District    NY  36  23580    Unified\n",
       "12             Bethpage Union Free School District    NY  36   4740    Unified\n",
       "13             Lynbrook Union Free School District    NY  36  17910    Unified\n",
       "14           Locust Valley Central School District    NY  36  17700    Unified\n",
       "15     Rockville Centre Union Free School District    NY  36  24780    Unified\n",
       "16           Massapequa Union Free School District    NY  36  18630    Unified\n",
       "17              Wantagh Union Free School District    NY  36  29850    Unified\n",
       "18            Levittown Union Free School District    NY  36  17160    Unified"
      ]
     },
     "execution_count": 107,
     "metadata": {},
     "output_type": "execute_result"
    }
   ],
   "source": [
    "# why did merge work instead of join?\n",
    "\n",
    "joined = NYCounties.merge(data, on=['School District Name'],how='inner')\n",
    "joined"
   ]
  },
  {
   "cell_type": "code",
   "execution_count": 123,
   "id": "different-papua",
   "metadata": {},
   "outputs": [
    {
     "data": {
      "text/plain": [
       "[15810,\n",
       " 28560,\n",
       " 25050,\n",
       " 14280,\n",
       " 18270,\n",
       " 10050,\n",
       " 26370,\n",
       " 31710,\n",
       " 23220,\n",
       " 19020,\n",
       " 11760,\n",
       " 23580,\n",
       " 4740,\n",
       " 17910,\n",
       " 17700,\n",
       " 24780,\n",
       " 18630,\n",
       " 29850,\n",
       " 17160]"
      ]
     },
     "execution_count": 123,
     "metadata": {},
     "output_type": "execute_result"
    }
   ],
   "source": [
    "# get all GEO IDs\n",
    "\n",
    "GEOIDonly = joined['GEOID'].tolist()\n",
    "GEOIDonly"
   ]
  },
  {
   "cell_type": "code",
   "execution_count": 154,
   "id": "wired-huntington",
   "metadata": {},
   "outputs": [
    {
     "name": "stdout",
     "output_type": "stream",
     "text": [
      "15810, 28560, 25050, 14280, 18270, 10050, 26370, 31710, 23220, 19020, 11760, 23580, 4740, 17910, 17700, 24780, 18630, 29850, 17160\n"
     ]
    }
   ],
   "source": [
    "# get all GEO IDs\n",
    "\n",
    "GEOIDonly = joined['GEOID'].tolist()\n",
    "separator = ', '\n",
    "GEOIDonlystring = map(str, GEOIDonly)\n",
    "x = separator.join(GEOIDonlystring)\n",
    "print(x)"
   ]
  },
  {
   "cell_type": "code",
   "execution_count": 159,
   "id": "sized-ethics",
   "metadata": {},
   "outputs": [
    {
     "ename": "TypeError",
     "evalue": "dataFrame() got an unexpected keyword argument 'orient'",
     "output_type": "error",
     "traceback": [
      "\u001b[1;31m---------------------------------------------------------------------------\u001b[0m",
      "\u001b[1;31mTypeError\u001b[0m                                 Traceback (most recent call last)",
      "\u001b[1;32m<ipython-input-159-857694c7a63f>\u001b[0m in \u001b[0;36m<module>\u001b[1;34m\u001b[0m\n\u001b[0;32m      1\u001b[0m \u001b[0mtestResponse3\u001b[0m \u001b[1;33m=\u001b[0m \u001b[0mschoolDistrictInput\u001b[0m\u001b[1;33m(\u001b[0m\u001b[0mx\u001b[0m\u001b[1;33m)\u001b[0m\u001b[1;33m\u001b[0m\u001b[1;33m\u001b[0m\u001b[0m\n\u001b[1;32m----> 2\u001b[1;33m \u001b[0mdataFrame\u001b[0m\u001b[1;33m(\u001b[0m\u001b[0mtestResponse3\u001b[0m\u001b[1;33m,\u001b[0m \u001b[0morient\u001b[0m\u001b[1;33m=\u001b[0m\u001b[1;34m'index'\u001b[0m\u001b[1;33m)\u001b[0m\u001b[1;33m\u001b[0m\u001b[1;33m\u001b[0m\u001b[0m\n\u001b[0m",
      "\u001b[1;31mTypeError\u001b[0m: dataFrame() got an unexpected keyword argument 'orient'"
     ]
    }
   ],
   "source": [
    "testResponse3 = schoolDistrictInput(x)\n",
    "dataFrame(testResponse3)"
   ]
  },
  {
   "cell_type": "code",
   "execution_count": null,
   "id": "preliminary-commodity",
   "metadata": {},
   "outputs": [],
   "source": []
  }
 ],
 "metadata": {
  "kernelspec": {
   "display_name": "Python 3",
   "language": "python",
   "name": "python3"
  },
  "language_info": {
   "codemirror_mode": {
    "name": "ipython",
    "version": 3
   },
   "file_extension": ".py",
   "mimetype": "text/x-python",
   "name": "python",
   "nbconvert_exporter": "python",
   "pygments_lexer": "ipython3",
   "version": "3.9.1"
  }
 },
 "nbformat": 4,
 "nbformat_minor": 5
}
