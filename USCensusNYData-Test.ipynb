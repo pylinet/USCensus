{
 "cells": [
  {
   "cell_type": "markdown",
   "id": "inner-landing",
   "metadata": {},
   "source": [
    "# Census API - New York"
   ]
  },
  {
   "cell_type": "code",
   "execution_count": 1,
   "id": "precious-latino",
   "metadata": {},
   "outputs": [],
   "source": [
    "# import packages\n",
    "\n",
    "from us import states\n",
    "import pandas as pd\n",
    "import requests\n",
    "\n",
    "# import doc with API key\n",
    "\n",
    "import config\n",
    "\n",
    "from scripts import censusAPI as cen\n",
    "\n",
    "from Data import censusIndex"
   ]
  },
  {
   "cell_type": "code",
   "execution_count": 2,
   "id": "broke-professor",
   "metadata": {},
   "outputs": [],
   "source": [
    "pd.set_option('display.max_colwidth', 0)\n",
    "pd.set_option('display.max_rows', None)"
   ]
  },
  {
   "cell_type": "code",
   "execution_count": 3,
   "id": "approved-visibility",
   "metadata": {},
   "outputs": [
    {
     "data": {
      "text/html": [
       "<div>\n",
       "<style scoped>\n",
       "    .dataframe tbody tr th:only-of-type {\n",
       "        vertical-align: middle;\n",
       "    }\n",
       "\n",
       "    .dataframe tbody tr th {\n",
       "        vertical-align: top;\n",
       "    }\n",
       "\n",
       "    .dataframe thead th {\n",
       "        text-align: right;\n",
       "    }\n",
       "</style>\n",
       "<table border=\"1\" class=\"dataframe\">\n",
       "  <thead>\n",
       "    <tr style=\"text-align: right;\">\n",
       "      <th></th>\n",
       "      <th>name</th>\n",
       "      <th>label</th>\n",
       "      <th>concept</th>\n",
       "    </tr>\n",
       "  </thead>\n",
       "  <tbody>\n",
       "    <tr>\n",
       "      <th>0</th>\n",
       "      <td>AIANHH</td>\n",
       "      <td>Geography</td>\n",
       "      <td>None</td>\n",
       "    </tr>\n",
       "    <tr>\n",
       "      <th>1</th>\n",
       "      <td>AIHHTL</td>\n",
       "      <td>Geography</td>\n",
       "      <td>None</td>\n",
       "    </tr>\n",
       "    <tr>\n",
       "      <th>2</th>\n",
       "      <td>AIRES</td>\n",
       "      <td>Geography</td>\n",
       "      <td>None</td>\n",
       "    </tr>\n",
       "    <tr>\n",
       "      <th>3</th>\n",
       "      <td>ANRC</td>\n",
       "      <td>Geography</td>\n",
       "      <td>None</td>\n",
       "    </tr>\n",
       "    <tr>\n",
       "      <th>4</th>\n",
       "      <td>B01001A_001E</td>\n",
       "      <td>Estimate!!Total:</td>\n",
       "      <td>SEX BY AGE (WHITE ALONE)</td>\n",
       "    </tr>\n",
       "  </tbody>\n",
       "</table>\n",
       "</div>"
      ],
      "text/plain": [
       "           name             label                   concept\n",
       "0  AIANHH        Geography         None                    \n",
       "1  AIHHTL        Geography         None                    \n",
       "2  AIRES         Geography         None                    \n",
       "3  ANRC          Geography         None                    \n",
       "4  B01001A_001E  Estimate!!Total:  SEX BY AGE (WHITE ALONE)"
      ]
     },
     "execution_count": 3,
     "metadata": {},
     "output_type": "execute_result"
    }
   ],
   "source": [
    "cen.censusDataDetailedTable.head()"
   ]
  },
  {
   "cell_type": "markdown",
   "id": "compliant-stone",
   "metadata": {},
   "source": [
    "## NY School Districts will Serve as the Geography Type\n",
    "\n",
    "#### This is the location data we will use for the Census API call"
   ]
  },
  {
   "cell_type": "code",
   "execution_count": 4,
   "id": "adaptive-runner",
   "metadata": {},
   "outputs": [],
   "source": [
    "# Test with Nassau County School Districts\n",
    "\n",
    "selectedNYCounties = cen.schoolDistrictCSV((r'Data\\USCensusNYSchDist.csv'))"
   ]
  },
  {
   "cell_type": "code",
   "execution_count": 5,
   "id": "searching-parish",
   "metadata": {},
   "outputs": [
    {
     "data": {
      "text/html": [
       "<div>\n",
       "<style scoped>\n",
       "    .dataframe tbody tr th:only-of-type {\n",
       "        vertical-align: middle;\n",
       "    }\n",
       "\n",
       "    .dataframe tbody tr th {\n",
       "        vertical-align: top;\n",
       "    }\n",
       "\n",
       "    .dataframe thead th {\n",
       "        text-align: right;\n",
       "    }\n",
       "</style>\n",
       "<table border=\"1\" class=\"dataframe\">\n",
       "  <thead>\n",
       "    <tr style=\"text-align: right;\">\n",
       "      <th></th>\n",
       "      <th>STATE</th>\n",
       "      <th>STUSAB</th>\n",
       "      <th>STATE_NAME</th>\n",
       "      <th>STATENS</th>\n",
       "    </tr>\n",
       "  </thead>\n",
       "  <tbody>\n",
       "    <tr>\n",
       "      <th>0</th>\n",
       "      <td>1</td>\n",
       "      <td>AL</td>\n",
       "      <td>Alabama</td>\n",
       "      <td>1779775</td>\n",
       "    </tr>\n",
       "    <tr>\n",
       "      <th>1</th>\n",
       "      <td>2</td>\n",
       "      <td>AK</td>\n",
       "      <td>Alaska</td>\n",
       "      <td>1785533</td>\n",
       "    </tr>\n",
       "    <tr>\n",
       "      <th>2</th>\n",
       "      <td>4</td>\n",
       "      <td>AZ</td>\n",
       "      <td>Arizona</td>\n",
       "      <td>1779777</td>\n",
       "    </tr>\n",
       "    <tr>\n",
       "      <th>3</th>\n",
       "      <td>5</td>\n",
       "      <td>AR</td>\n",
       "      <td>Arkansas</td>\n",
       "      <td>68085</td>\n",
       "    </tr>\n",
       "    <tr>\n",
       "      <th>4</th>\n",
       "      <td>6</td>\n",
       "      <td>CA</td>\n",
       "      <td>California</td>\n",
       "      <td>1779778</td>\n",
       "    </tr>\n",
       "  </tbody>\n",
       "</table>\n",
       "</div>"
      ],
      "text/plain": [
       "   STATE STUSAB  STATE_NAME  STATENS\n",
       "0  1      AL     Alabama     1779775\n",
       "1  2      AK     Alaska      1785533\n",
       "2  4      AZ     Arizona     1779777\n",
       "3  5      AR     Arkansas    68085  \n",
       "4  6      CA     California  1779778"
      ]
     },
     "execution_count": 5,
     "metadata": {},
     "output_type": "execute_result"
    }
   ],
   "source": [
    "stateIDurl = (\"https://www2.census.gov/geo/docs/reference/state.txt\")\n",
    "stateID = pd.read_csv(stateIDurl, sep='|')\n",
    "stateID.head()"
   ]
  },
  {
   "cell_type": "code",
   "execution_count": 6,
   "id": "numeric-phrase",
   "metadata": {},
   "outputs": [
    {
     "data": {
      "text/html": [
       "<div>\n",
       "<style scoped>\n",
       "    .dataframe tbody tr th:only-of-type {\n",
       "        vertical-align: middle;\n",
       "    }\n",
       "\n",
       "    .dataframe tbody tr th {\n",
       "        vertical-align: top;\n",
       "    }\n",
       "\n",
       "    .dataframe thead th {\n",
       "        text-align: right;\n",
       "    }\n",
       "</style>\n",
       "<table border=\"1\" class=\"dataframe\">\n",
       "  <thead>\n",
       "    <tr style=\"text-align: right;\">\n",
       "      <th></th>\n",
       "      <th>State</th>\n",
       "      <th>ID</th>\n",
       "      <th>GEOID</th>\n",
       "      <th>School District Name</th>\n",
       "      <th>Class</th>\n",
       "    </tr>\n",
       "  </thead>\n",
       "  <tbody>\n",
       "    <tr>\n",
       "      <th>0</th>\n",
       "      <td>NY</td>\n",
       "      <td>36</td>\n",
       "      <td>1</td>\n",
       "      <td>Dolgeville Central School District</td>\n",
       "      <td>Unified</td>\n",
       "    </tr>\n",
       "  </tbody>\n",
       "</table>\n",
       "</div>"
      ],
      "text/plain": [
       "  State  ID  GEOID                School District Name    Class\n",
       "0  NY    36  1      Dolgeville Central School District  Unified"
      ]
     },
     "execution_count": 6,
     "metadata": {},
     "output_type": "execute_result"
    }
   ],
   "source": [
    "# Test with Nassau County School Districts\n",
    "\n",
    "NYURL = (\"https://www2.census.gov/geo/docs/reference/codes/files/st36_ny_schdist.txt\")\n",
    "NY = cen.schoolDistrictGEOID(NYURL)\n",
    "NY.head(1)"
   ]
  },
  {
   "cell_type": "code",
   "execution_count": 7,
   "id": "endangered-junior",
   "metadata": {},
   "outputs": [],
   "source": [
    "# Test merging user input school district CSV with census GEOID list\n",
    "\n",
    "NYCountiesGEOID = cen.mergedSchoolDist(NY, selectedNYCounties)\n",
    "\n",
    "# Test grab GEOIDs only\n",
    "\n",
    "NYGEOID = (cen.GEOIDonly(NYCountiesGEOID))"
   ]
  },
  {
   "cell_type": "markdown",
   "id": "mineral-chemistry",
   "metadata": {},
   "source": [
    "## US Census Data"
   ]
  },
  {
   "cell_type": "code",
   "execution_count": 31,
   "id": "narrative-croatia",
   "metadata": {},
   "outputs": [
    {
     "name": "stdout",
     "output_type": "stream",
     "text": [
      "<class 'pandas.core.frame.DataFrame'>\n",
      "Int64Index: 17 entries, 1 to 4\n",
      "Data columns (total 14 columns):\n",
      " #   Column                     Non-Null Count  Dtype \n",
      "---  ------                     --------------  ----- \n",
      " 0   state                      17 non-null     object\n",
      " 1   school district (unified)  17 non-null     object\n",
      " 2   NAME                       17 non-null     object\n",
      " 3   Total Housing Units        17 non-null     int64 \n",
      " 4   Built 2014 or Later        17 non-null     int64 \n",
      " 5   Built 2010 to 2013         17 non-null     int64 \n",
      " 6   Built 2000 to 2009         17 non-null     int64 \n",
      " 7   Built 1990 to 1999         17 non-null     int64 \n",
      " 8   Built 1980 to 1989         17 non-null     int64 \n",
      " 9   Built 1970 to 1979         17 non-null     int64 \n",
      " 10  Built 1960 to 1969         17 non-null     int64 \n",
      " 11  Built 1950 to 1959         17 non-null     int64 \n",
      " 12  Built 1940 to 1949         17 non-null     int64 \n",
      " 13  Built 1939 or Earlier      17 non-null     int64 \n",
      "dtypes: int64(11), object(3)\n",
      "memory usage: 2.0+ KB\n"
     ]
    }
   ],
   "source": [
    "y=cen.houseYrBlt(2019,NYGEOID,36).sort_values('NAME', ascending=True)\n",
    "y.head(4)\n",
    "y.info()"
   ]
  }
 ],
 "metadata": {
  "kernelspec": {
   "display_name": "Python 3",
   "language": "python",
   "name": "python3"
  },
  "language_info": {
   "codemirror_mode": {
    "name": "ipython",
    "version": 3
   },
   "file_extension": ".py",
   "mimetype": "text/x-python",
   "name": "python",
   "nbconvert_exporter": "python",
   "pygments_lexer": "ipython3",
   "version": "3.9.1"
  }
 },
 "nbformat": 4,
 "nbformat_minor": 5
}
