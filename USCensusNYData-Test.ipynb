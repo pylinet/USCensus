{
 "cells": [
  {
   "cell_type": "markdown",
   "id": "inner-landing",
   "metadata": {},
   "source": [
    "# Census API - New York"
   ]
  },
  {
   "cell_type": "code",
   "execution_count": 2,
   "id": "precious-latino",
   "metadata": {},
   "outputs": [
    {
     "ename": "ModuleNotFoundError",
     "evalue": "No module named 'config'",
     "output_type": "error",
     "traceback": [
      "\u001b[1;31m---------------------------------------------------------------------------\u001b[0m",
      "\u001b[1;31mModuleNotFoundError\u001b[0m                       Traceback (most recent call last)",
      "\u001b[1;32m<ipython-input-2-e388b5becdc6>\u001b[0m in \u001b[0;36m<module>\u001b[1;34m\u001b[0m\n\u001b[0;32m      9\u001b[0m \u001b[1;32mfrom\u001b[0m \u001b[0mscripts\u001b[0m \u001b[1;32mimport\u001b[0m \u001b[0mconfig\u001b[0m \u001b[1;32mas\u001b[0m \u001b[0mconfig\u001b[0m\u001b[1;33m\u001b[0m\u001b[1;33m\u001b[0m\u001b[0m\n\u001b[0;32m     10\u001b[0m \u001b[1;33m\u001b[0m\u001b[0m\n\u001b[1;32m---> 11\u001b[1;33m \u001b[1;32mfrom\u001b[0m \u001b[0mscripts\u001b[0m \u001b[1;32mimport\u001b[0m \u001b[0mcensusAPI\u001b[0m \u001b[1;32mas\u001b[0m \u001b[0mcen\u001b[0m\u001b[1;33m\u001b[0m\u001b[1;33m\u001b[0m\u001b[0m\n\u001b[0m",
      "\u001b[1;32m~\\Documents\\USCensus\\USCensus\\scripts\\censusAPI.py\u001b[0m in \u001b[0;36m<module>\u001b[1;34m\u001b[0m\n\u001b[0;32m      8\u001b[0m \u001b[1;31m# import doc with API key\u001b[0m\u001b[1;33m\u001b[0m\u001b[1;33m\u001b[0m\u001b[1;33m\u001b[0m\u001b[0m\n\u001b[0;32m      9\u001b[0m \u001b[1;33m\u001b[0m\u001b[0m\n\u001b[1;32m---> 10\u001b[1;33m \u001b[1;32mimport\u001b[0m \u001b[0mconfig\u001b[0m\u001b[1;33m\u001b[0m\u001b[1;33m\u001b[0m\u001b[0m\n\u001b[0m\u001b[0;32m     11\u001b[0m \u001b[1;33m\u001b[0m\u001b[0m\n\u001b[0;32m     12\u001b[0m \u001b[1;33m\u001b[0m\u001b[0m\n",
      "\u001b[1;31mModuleNotFoundError\u001b[0m: No module named 'config'"
     ]
    }
   ],
   "source": [
    "# import packages\n",
    "\n",
    "from us import states\n",
    "import pandas as pd\n",
    "import requests\n",
    "\n",
    "# import doc with API key\n",
    "\n",
    "from scripts import config as config\n",
    "\n",
    "from scripts import censusAPI as cen"
   ]
  },
  {
   "cell_type": "code",
   "execution_count": null,
   "id": "adaptive-runner",
   "metadata": {},
   "outputs": [],
   "source": [
    "# Test with Nassau County School Districts\n",
    "\n",
    "selectedNYCounties = cen.schoolDistrictCSV((r'Data\\USCensusNYSchDist.csv'))"
   ]
  },
  {
   "cell_type": "code",
   "execution_count": null,
   "id": "numeric-phrase",
   "metadata": {},
   "outputs": [],
   "source": [
    "# Test with Nassau County School Districts\n",
    "\n",
    "NYURL = (\"https://www2.census.gov/geo/docs/reference/codes/files/st36_ny_schdist.txt\")\n",
    "NY = cen.schoolDistrictGEOID(NYURL)"
   ]
  },
  {
   "cell_type": "code",
   "execution_count": null,
   "id": "endangered-junior",
   "metadata": {},
   "outputs": [],
   "source": [
    "# Test merging user input school district CSV with census GEOID list\n",
    "\n",
    "NYCountiesGEOID = cen.mergedSchoolDist(NY, selectedNYCounties)"
   ]
  },
  {
   "cell_type": "code",
   "execution_count": null,
   "id": "scientific-bubble",
   "metadata": {},
   "outputs": [],
   "source": [
    "# Test grab GEOIDs only\n",
    "\n",
    "NYGEOID = (cen.GEOIDonly(NYCountiesGEOID))"
   ]
  },
  {
   "cell_type": "code",
   "execution_count": null,
   "id": "animated-adams",
   "metadata": {},
   "outputs": [],
   "source": [
    "# Test filter by list of known table names\n",
    "\n",
    "nameList = ['B01001_002E']\n",
    "\n",
    "cen.filterByTableName(nameList)"
   ]
  },
  {
   "cell_type": "code",
   "execution_count": null,
   "id": "adolescent-satin",
   "metadata": {},
   "outputs": [],
   "source": [
    "# Getting Census Data: Data Profiles\n",
    "\n",
    "selectedDatProVar = 'DP05_0002E,DP05_0003E'\n",
    "\n",
    "cen.dataProfile(selectedDatProVar,NYGEOID)"
   ]
  },
  {
   "cell_type": "code",
   "execution_count": null,
   "id": "governmental-welsh",
   "metadata": {},
   "outputs": [],
   "source": [
    "# Getting Census Data: Detailed Tables\n",
    "\n",
    "selectedDetTabVar = 'B01001_002E,B01001_026E,B19013_001E'\n",
    "\n",
    "cen.detailedTable(selectedDetTabVar,NYGEOID)"
   ]
  },
  {
   "cell_type": "code",
   "execution_count": null,
   "id": "federal-islam",
   "metadata": {},
   "outputs": [],
   "source": [
    "# Population by Age, Gender, and Demographic\n",
    "\n",
    "Pop = 11255,4,5,20,36,51,67,82,98,113,129,144,160,175,191,206,222,237,253,268\n",
    "\n",
    "dfPop = cen.filterByIndex(Pop)\n",
    "dfPop.head()"
   ]
  },
  {
   "cell_type": "code",
   "execution_count": null,
   "id": "outside-wheel",
   "metadata": {},
   "outputs": [],
   "source": [
    "nameAsList = cen.nameList(dfPop)\n",
    "print(nameAsList)"
   ]
  },
  {
   "cell_type": "code",
   "execution_count": null,
   "id": "weird-officer",
   "metadata": {
    "scrolled": true
   },
   "outputs": [],
   "source": [
    "popDF = cen.detailedTable(nameAsList,NYGEOID)\n",
    "popDF"
   ]
  },
  {
   "cell_type": "code",
   "execution_count": null,
   "id": "palestinian-kuwait",
   "metadata": {},
   "outputs": [],
   "source": [
    "test = cen.dfColDataToInt(dfPop,popDF,'name')\n",
    "test"
   ]
  },
  {
   "cell_type": "code",
   "execution_count": null,
   "id": "behavioral-oklahoma",
   "metadata": {},
   "outputs": [],
   "source": [
    "# Filter by integer value\n",
    "newDf = popDF.loc[(popDF['B01001A_001E']>40000)]\n",
    "newDf"
   ]
  }
 ],
 "metadata": {
  "kernelspec": {
   "display_name": "Python 3",
   "language": "python",
   "name": "python3"
  },
  "language_info": {
   "codemirror_mode": {
    "name": "ipython",
    "version": 3
   },
   "file_extension": ".py",
   "mimetype": "text/x-python",
   "name": "python",
   "nbconvert_exporter": "python",
   "pygments_lexer": "ipython3",
   "version": "3.9.1"
  }
 },
 "nbformat": 4,
 "nbformat_minor": 5
}
