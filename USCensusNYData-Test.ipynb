{
 "cells": [
  {
   "cell_type": "markdown",
   "id": "inner-landing",
   "metadata": {},
   "source": [
    "# Census API - New York"
   ]
  },
  {
   "cell_type": "code",
   "execution_count": 1,
   "id": "precious-latino",
   "metadata": {},
   "outputs": [],
   "source": [
    "# import packages\n",
    "\n",
    "from us import states\n",
    "import pandas as pd\n",
    "import requests\n",
    "\n",
    "# import doc with API key\n",
    "\n",
    "import config\n",
    "\n",
    "from scripts import censusAPI as cen"
   ]
  },
  {
   "cell_type": "code",
   "execution_count": 2,
   "id": "reserved-impression",
   "metadata": {},
   "outputs": [
    {
     "data": {
      "text/html": [
       "<div>\n",
       "<style scoped>\n",
       "    .dataframe tbody tr th:only-of-type {\n",
       "        vertical-align: middle;\n",
       "    }\n",
       "\n",
       "    .dataframe tbody tr th {\n",
       "        vertical-align: top;\n",
       "    }\n",
       "\n",
       "    .dataframe thead th {\n",
       "        text-align: right;\n",
       "    }\n",
       "</style>\n",
       "<table border=\"1\" class=\"dataframe\">\n",
       "  <thead>\n",
       "    <tr style=\"text-align: right;\">\n",
       "      <th></th>\n",
       "      <th>name</th>\n",
       "      <th>label</th>\n",
       "      <th>concept</th>\n",
       "    </tr>\n",
       "  </thead>\n",
       "  <tbody>\n",
       "    <tr>\n",
       "      <th>0</th>\n",
       "      <td>AIANHH</td>\n",
       "      <td>Geography</td>\n",
       "      <td>None</td>\n",
       "    </tr>\n",
       "    <tr>\n",
       "      <th>1</th>\n",
       "      <td>AIHHTL</td>\n",
       "      <td>Geography</td>\n",
       "      <td>None</td>\n",
       "    </tr>\n",
       "    <tr>\n",
       "      <th>2</th>\n",
       "      <td>AIRES</td>\n",
       "      <td>Geography</td>\n",
       "      <td>None</td>\n",
       "    </tr>\n",
       "    <tr>\n",
       "      <th>3</th>\n",
       "      <td>ANRC</td>\n",
       "      <td>Geography</td>\n",
       "      <td>None</td>\n",
       "    </tr>\n",
       "    <tr>\n",
       "      <th>4</th>\n",
       "      <td>B01001A_001E</td>\n",
       "      <td>Estimate!!Total:</td>\n",
       "      <td>SEX BY AGE (WHITE ALONE)</td>\n",
       "    </tr>\n",
       "  </tbody>\n",
       "</table>\n",
       "</div>"
      ],
      "text/plain": [
       "           name             label                   concept\n",
       "0        AIANHH         Geography                      None\n",
       "1        AIHHTL         Geography                      None\n",
       "2         AIRES         Geography                      None\n",
       "3          ANRC         Geography                      None\n",
       "4  B01001A_001E  Estimate!!Total:  SEX BY AGE (WHITE ALONE)"
      ]
     },
     "execution_count": 2,
     "metadata": {},
     "output_type": "execute_result"
    }
   ],
   "source": [
    "cen.censusDataDetailedTable.head()"
   ]
  },
  {
   "cell_type": "markdown",
   "id": "accessory-kitty",
   "metadata": {},
   "source": [
    "## Querie"
   ]
  },
  {
   "cell_type": "code",
   "execution_count": 26,
   "id": "junior-studio",
   "metadata": {},
   "outputs": [
    {
     "data": {
      "text/html": [
       "<div>\n",
       "<style scoped>\n",
       "    .dataframe tbody tr th:only-of-type {\n",
       "        vertical-align: middle;\n",
       "    }\n",
       "\n",
       "    .dataframe tbody tr th {\n",
       "        vertical-align: top;\n",
       "    }\n",
       "\n",
       "    .dataframe thead th {\n",
       "        text-align: right;\n",
       "    }\n",
       "</style>\n",
       "<table border=\"1\" class=\"dataframe\">\n",
       "  <thead>\n",
       "    <tr style=\"text-align: right;\">\n",
       "      <th></th>\n",
       "      <th>name</th>\n",
       "      <th>label</th>\n",
       "      <th>concept</th>\n",
       "    </tr>\n",
       "  </thead>\n",
       "  <tbody>\n",
       "    <tr>\n",
       "      <th>20075</th>\n",
       "      <td>B25001_001E</td>\n",
       "      <td>Estimate!!Total</td>\n",
       "      <td>HOUSING UNITS</td>\n",
       "    </tr>\n",
       "  </tbody>\n",
       "</table>\n",
       "</div>"
      ],
      "text/plain": [
       "              name            label        concept\n",
       "20075  B25001_001E  Estimate!!Total  HOUSING UNITS"
      ]
     },
     "execution_count": 26,
     "metadata": {},
     "output_type": "execute_result"
    }
   ],
   "source": [
    "#https://api.census.gov/data/2019/acs/acs5/variables.html\n",
    "\n",
    "Income=cen.filterByTableName('B25001_001E')\n",
    "pd.set_option('display.max_colwidth', 0)\n",
    "pd.set_option('display.max_rows', None)\n",
    "Income"
   ]
  },
  {
   "cell_type": "code",
   "execution_count": 4,
   "id": "adaptive-runner",
   "metadata": {},
   "outputs": [],
   "source": [
    "# Test with Nassau County School Districts\n",
    "\n",
    "selectedNYCounties = cen.schoolDistrictCSV((r'Data\\USCensusNYSchDist.csv'))"
   ]
  },
  {
   "cell_type": "code",
   "execution_count": 5,
   "id": "numeric-phrase",
   "metadata": {},
   "outputs": [],
   "source": [
    "# Test with Nassau County School Districts\n",
    "\n",
    "NYURL = (\"https://www2.census.gov/geo/docs/reference/codes/files/st36_ny_schdist.txt\")\n",
    "NY = cen.schoolDistrictGEOID(NYURL)"
   ]
  },
  {
   "cell_type": "code",
   "execution_count": 6,
   "id": "endangered-junior",
   "metadata": {},
   "outputs": [],
   "source": [
    "# Test merging user input school district CSV with census GEOID list\n",
    "\n",
    "NYCountiesGEOID = cen.mergedSchoolDist(NY, selectedNYCounties)"
   ]
  },
  {
   "cell_type": "code",
   "execution_count": 7,
   "id": "scientific-bubble",
   "metadata": {},
   "outputs": [],
   "source": [
    "# Test grab GEOIDs only\n",
    "\n",
    "NYGEOID = (cen.GEOIDonly(NYCountiesGEOID))"
   ]
  },
  {
   "cell_type": "code",
   "execution_count": 9,
   "id": "animated-adams",
   "metadata": {},
   "outputs": [
    {
     "data": {
      "text/html": [
       "<div>\n",
       "<style scoped>\n",
       "    .dataframe tbody tr th:only-of-type {\n",
       "        vertical-align: middle;\n",
       "    }\n",
       "\n",
       "    .dataframe tbody tr th {\n",
       "        vertical-align: top;\n",
       "    }\n",
       "\n",
       "    .dataframe thead th {\n",
       "        text-align: right;\n",
       "    }\n",
       "</style>\n",
       "<table border=\"1\" class=\"dataframe\">\n",
       "  <thead>\n",
       "    <tr style=\"text-align: right;\">\n",
       "      <th></th>\n",
       "      <th>name</th>\n",
       "      <th>label</th>\n",
       "      <th>concept</th>\n",
       "    </tr>\n",
       "  </thead>\n",
       "  <tbody>\n",
       "    <tr>\n",
       "      <th>0</th>\n",
       "      <td>B01001_002E</td>\n",
       "      <td>Estimate!!Total:!!Male:</td>\n",
       "      <td>SEX BY AGE</td>\n",
       "    </tr>\n",
       "  </tbody>\n",
       "</table>\n",
       "</div>"
      ],
      "text/plain": [
       "          name                    label     concept\n",
       "0  B01001_002E  Estimate!!Total:!!Male:  SEX BY AGE"
      ]
     },
     "execution_count": 9,
     "metadata": {},
     "output_type": "execute_result"
    }
   ],
   "source": [
    "# Test filter by list of known table names\n",
    "\n",
    "nameList = ['B01001_002E']\n",
    "\n",
    "cen.filterByTableNameNewList(nameList)"
   ]
  },
  {
   "cell_type": "code",
   "execution_count": 10,
   "id": "adolescent-satin",
   "metadata": {},
   "outputs": [
    {
     "data": {
      "text/html": [
       "<div>\n",
       "<style scoped>\n",
       "    .dataframe tbody tr th:only-of-type {\n",
       "        vertical-align: middle;\n",
       "    }\n",
       "\n",
       "    .dataframe tbody tr th {\n",
       "        vertical-align: top;\n",
       "    }\n",
       "\n",
       "    .dataframe thead th {\n",
       "        text-align: right;\n",
       "    }\n",
       "</style>\n",
       "<table border=\"1\" class=\"dataframe\">\n",
       "  <thead>\n",
       "    <tr style=\"text-align: right;\">\n",
       "      <th></th>\n",
       "      <th>NAME</th>\n",
       "      <th>DP05_0002E</th>\n",
       "      <th>DP05_0003E</th>\n",
       "      <th>state</th>\n",
       "      <th>school district (unified)</th>\n",
       "    </tr>\n",
       "  </thead>\n",
       "  <tbody>\n",
       "    <tr>\n",
       "      <th>0</th>\n",
       "      <td>Roslyn Union Free School District, New York</td>\n",
       "      <td>8837</td>\n",
       "      <td>9761</td>\n",
       "      <td>36</td>\n",
       "      <td>25050</td>\n",
       "    </tr>\n",
       "  </tbody>\n",
       "</table>\n",
       "</div>"
      ],
      "text/plain": [
       "                                          NAME DP05_0002E DP05_0003E state  \\\n",
       "0  Roslyn Union Free School District, New York  8837       9761       36     \n",
       "\n",
       "  school district (unified)  \n",
       "0  25050                     "
      ]
     },
     "execution_count": 10,
     "metadata": {},
     "output_type": "execute_result"
    }
   ],
   "source": [
    "# Getting Census Data: Data Profiles\n",
    "\n",
    "selectedDatProVar = 'DP05_0002E,DP05_0003E'\n",
    "\n",
    "cen.dataProfile(selectedDatProVar,NYGEOID).head(1)"
   ]
  },
  {
   "cell_type": "code",
   "execution_count": 11,
   "id": "governmental-welsh",
   "metadata": {},
   "outputs": [
    {
     "data": {
      "text/html": [
       "<div>\n",
       "<style scoped>\n",
       "    .dataframe tbody tr th:only-of-type {\n",
       "        vertical-align: middle;\n",
       "    }\n",
       "\n",
       "    .dataframe tbody tr th {\n",
       "        vertical-align: top;\n",
       "    }\n",
       "\n",
       "    .dataframe thead th {\n",
       "        text-align: right;\n",
       "    }\n",
       "</style>\n",
       "<table border=\"1\" class=\"dataframe\">\n",
       "  <thead>\n",
       "    <tr style=\"text-align: right;\">\n",
       "      <th></th>\n",
       "      <th>NAME</th>\n",
       "      <th>B01001_002E</th>\n",
       "      <th>B01001_026E</th>\n",
       "      <th>B19013_001E</th>\n",
       "      <th>state</th>\n",
       "      <th>school district (unified)</th>\n",
       "    </tr>\n",
       "  </thead>\n",
       "  <tbody>\n",
       "    <tr>\n",
       "      <th>0</th>\n",
       "      <td>Roslyn Union Free School District, New York</td>\n",
       "      <td>8837</td>\n",
       "      <td>9761</td>\n",
       "      <td>160098</td>\n",
       "      <td>36</td>\n",
       "      <td>25050</td>\n",
       "    </tr>\n",
       "  </tbody>\n",
       "</table>\n",
       "</div>"
      ],
      "text/plain": [
       "                                          NAME B01001_002E B01001_026E  \\\n",
       "0  Roslyn Union Free School District, New York  8837        9761         \n",
       "\n",
       "  B19013_001E state school district (unified)  \n",
       "0  160098      36    25050                     "
      ]
     },
     "execution_count": 11,
     "metadata": {},
     "output_type": "execute_result"
    }
   ],
   "source": [
    "# Getting Census Data: Detailed Tables\n",
    "\n",
    "selectedDetTabVar = 'B01001_002E,B01001_026E,B19013_001E'\n",
    "\n",
    "cen.detailedTable(selectedDetTabVar,NYGEOID).head(1)"
   ]
  },
  {
   "cell_type": "markdown",
   "id": "mineral-chemistry",
   "metadata": {},
   "source": [
    "## US Census Data"
   ]
  },
  {
   "cell_type": "code",
   "execution_count": 12,
   "id": "federal-islam",
   "metadata": {},
   "outputs": [],
   "source": [
    "# Population by Age, Gender, and Demographic\n",
    "\n",
    "Pop = 4,5,20,36,51,67,82,98,113,129,144,160,175,191,206,222,237,253,268\n",
    "\n",
    "dfPop = cen.filterByIndex(Pop)"
   ]
  },
  {
   "cell_type": "code",
   "execution_count": 13,
   "id": "assigned-detective",
   "metadata": {},
   "outputs": [],
   "source": [
    "# Median Household Income\n",
    "\n",
    "medInc = 11238"
   ]
  },
  {
   "cell_type": "code",
   "execution_count": 22,
   "id": "copyrighted-slide",
   "metadata": {},
   "outputs": [],
   "source": [
    "# Bachelor or Higher\n",
    "\n",
    "edu = 2959"
   ]
  },
  {
   "cell_type": "code",
   "execution_count": 23,
   "id": "outside-wheel",
   "metadata": {},
   "outputs": [],
   "source": [
    "nameAsList = cen.nameList(dfPop)"
   ]
  },
  {
   "cell_type": "code",
   "execution_count": 24,
   "id": "weird-officer",
   "metadata": {
    "scrolled": false
   },
   "outputs": [
    {
     "data": {
      "text/html": [
       "<div>\n",
       "<style scoped>\n",
       "    .dataframe tbody tr th:only-of-type {\n",
       "        vertical-align: middle;\n",
       "    }\n",
       "\n",
       "    .dataframe tbody tr th {\n",
       "        vertical-align: top;\n",
       "    }\n",
       "\n",
       "    .dataframe thead th {\n",
       "        text-align: right;\n",
       "    }\n",
       "</style>\n",
       "<table border=\"1\" class=\"dataframe\">\n",
       "  <thead>\n",
       "    <tr style=\"text-align: right;\">\n",
       "      <th></th>\n",
       "      <th>NAME</th>\n",
       "      <th>B01001A_001E</th>\n",
       "      <th>B01001A_002E</th>\n",
       "      <th>B01001A_017E</th>\n",
       "      <th>B01001B_002E</th>\n",
       "      <th>B01001B_017E</th>\n",
       "      <th>B01001C_002E</th>\n",
       "      <th>B01001C_017E</th>\n",
       "      <th>B01001D_002E</th>\n",
       "      <th>B01001D_017E</th>\n",
       "      <th>...</th>\n",
       "      <th>B01001F_002E</th>\n",
       "      <th>B01001F_017E</th>\n",
       "      <th>B01001G_002E</th>\n",
       "      <th>B01001G_017E</th>\n",
       "      <th>B01001H_002E</th>\n",
       "      <th>B01001H_017E</th>\n",
       "      <th>B01001I_002E</th>\n",
       "      <th>B01001I_017E</th>\n",
       "      <th>state</th>\n",
       "      <th>school district (unified)</th>\n",
       "    </tr>\n",
       "  </thead>\n",
       "  <tbody>\n",
       "    <tr>\n",
       "      <th>0</th>\n",
       "      <td>Roslyn Union Free School District, New York</td>\n",
       "      <td>14397</td>\n",
       "      <td>6683</td>\n",
       "      <td>7714</td>\n",
       "      <td>266</td>\n",
       "      <td>240</td>\n",
       "      <td>0</td>\n",
       "      <td>13</td>\n",
       "      <td>1473</td>\n",
       "      <td>1451</td>\n",
       "      <td>...</td>\n",
       "      <td>308</td>\n",
       "      <td>274</td>\n",
       "      <td>107</td>\n",
       "      <td>69</td>\n",
       "      <td>6250</td>\n",
       "      <td>7141</td>\n",
       "      <td>739</td>\n",
       "      <td>837</td>\n",
       "      <td>36</td>\n",
       "      <td>25050</td>\n",
       "    </tr>\n",
       "  </tbody>\n",
       "</table>\n",
       "<p>1 rows × 22 columns</p>\n",
       "</div>"
      ],
      "text/plain": [
       "                                          NAME B01001A_001E B01001A_002E  \\\n",
       "0  Roslyn Union Free School District, New York  14397        6683          \n",
       "\n",
       "  B01001A_017E B01001B_002E B01001B_017E B01001C_002E B01001C_017E  \\\n",
       "0  7714         266          240          0            13            \n",
       "\n",
       "  B01001D_002E B01001D_017E  ... B01001F_002E B01001F_017E B01001G_002E  \\\n",
       "0  1473         1451         ...  308          274          107           \n",
       "\n",
       "  B01001G_017E B01001H_002E B01001H_017E B01001I_002E B01001I_017E state  \\\n",
       "0  69           6250         7141         739          837          36     \n",
       "\n",
       "  school district (unified)  \n",
       "0  25050                     \n",
       "\n",
       "[1 rows x 22 columns]"
      ]
     },
     "execution_count": 24,
     "metadata": {},
     "output_type": "execute_result"
    }
   ],
   "source": [
    "popDF = cen.detailedTable(nameAsList,NYGEOID)\n",
    "popDF.head(1)"
   ]
  },
  {
   "cell_type": "code",
   "execution_count": 25,
   "id": "existing-appreciation",
   "metadata": {},
   "outputs": [
    {
     "data": {
      "text/html": [
       "<div>\n",
       "<style scoped>\n",
       "    .dataframe tbody tr th:only-of-type {\n",
       "        vertical-align: middle;\n",
       "    }\n",
       "\n",
       "    .dataframe tbody tr th {\n",
       "        vertical-align: top;\n",
       "    }\n",
       "\n",
       "    .dataframe thead th {\n",
       "        text-align: right;\n",
       "    }\n",
       "</style>\n",
       "<table border=\"1\" class=\"dataframe\">\n",
       "  <thead>\n",
       "    <tr style=\"text-align: right;\">\n",
       "      <th>name</th>\n",
       "      <th>B01001A_001E</th>\n",
       "      <th>B01001A_002E</th>\n",
       "      <th>B01001A_017E</th>\n",
       "      <th>B01001B_002E</th>\n",
       "      <th>B01001B_017E</th>\n",
       "      <th>B01001C_002E</th>\n",
       "      <th>B01001C_017E</th>\n",
       "      <th>B01001D_002E</th>\n",
       "      <th>B01001D_017E</th>\n",
       "      <th>B01001E_002E</th>\n",
       "      <th>B01001E_017E</th>\n",
       "      <th>B01001F_002E</th>\n",
       "      <th>B01001F_017E</th>\n",
       "      <th>B01001G_002E</th>\n",
       "      <th>B01001G_017E</th>\n",
       "      <th>B01001H_002E</th>\n",
       "      <th>B01001H_017E</th>\n",
       "      <th>B01001I_002E</th>\n",
       "      <th>B01001I_017E</th>\n",
       "    </tr>\n",
       "  </thead>\n",
       "  <tbody>\n",
       "    <tr>\n",
       "      <th>0</th>\n",
       "      <td>B01001A_001E</td>\n",
       "      <td>B01001A_002E</td>\n",
       "      <td>B01001A_017E</td>\n",
       "      <td>B01001B_002E</td>\n",
       "      <td>B01001B_017E</td>\n",
       "      <td>B01001C_002E</td>\n",
       "      <td>B01001C_017E</td>\n",
       "      <td>B01001D_002E</td>\n",
       "      <td>B01001D_017E</td>\n",
       "      <td>B01001E_002E</td>\n",
       "      <td>B01001E_017E</td>\n",
       "      <td>B01001F_002E</td>\n",
       "      <td>B01001F_017E</td>\n",
       "      <td>B01001G_002E</td>\n",
       "      <td>B01001G_017E</td>\n",
       "      <td>B01001H_002E</td>\n",
       "      <td>B01001H_017E</td>\n",
       "      <td>B01001I_002E</td>\n",
       "      <td>B01001I_017E</td>\n",
       "    </tr>\n",
       "    <tr>\n",
       "      <th>1</th>\n",
       "      <td>Estimate!!Total:</td>\n",
       "      <td>Estimate!!Total:!!Male:</td>\n",
       "      <td>Estimate!!Total:!!Female:</td>\n",
       "      <td>Estimate!!Total:!!Male:</td>\n",
       "      <td>Estimate!!Total:!!Female:</td>\n",
       "      <td>Estimate!!Total:!!Male:</td>\n",
       "      <td>Estimate!!Total:!!Female:</td>\n",
       "      <td>Estimate!!Total:!!Male:</td>\n",
       "      <td>Estimate!!Total:!!Female:</td>\n",
       "      <td>Estimate!!Total:!!Male:</td>\n",
       "      <td>Estimate!!Total:!!Female:</td>\n",
       "      <td>Estimate!!Total:!!Male:</td>\n",
       "      <td>Estimate!!Total:!!Female:</td>\n",
       "      <td>Estimate!!Total:!!Male:</td>\n",
       "      <td>Estimate!!Total:!!Female:</td>\n",
       "      <td>Estimate!!Total:!!Male:</td>\n",
       "      <td>Estimate!!Total:!!Female:</td>\n",
       "      <td>Estimate!!Total:!!Male:</td>\n",
       "      <td>Estimate!!Total:!!Female:</td>\n",
       "    </tr>\n",
       "    <tr>\n",
       "      <th>2</th>\n",
       "      <td>SEX BY AGE (WHITE ALONE)</td>\n",
       "      <td>SEX BY AGE (WHITE ALONE)</td>\n",
       "      <td>SEX BY AGE (WHITE ALONE)</td>\n",
       "      <td>SEX BY AGE (BLACK OR AFRICAN AMERICAN ALONE)</td>\n",
       "      <td>SEX BY AGE (BLACK OR AFRICAN AMERICAN ALONE)</td>\n",
       "      <td>SEX BY AGE (AMERICAN INDIAN AND ALASKA NATIVE ALONE)</td>\n",
       "      <td>SEX BY AGE (AMERICAN INDIAN AND ALASKA NATIVE ALONE)</td>\n",
       "      <td>SEX BY AGE (ASIAN ALONE)</td>\n",
       "      <td>SEX BY AGE (ASIAN ALONE)</td>\n",
       "      <td>SEX BY AGE (NATIVE HAWAIIAN AND OTHER PACIFIC ISLANDER ALONE)</td>\n",
       "      <td>SEX BY AGE (NATIVE HAWAIIAN AND OTHER PACIFIC ISLANDER ALONE)</td>\n",
       "      <td>SEX BY AGE (SOME OTHER RACE ALONE)</td>\n",
       "      <td>SEX BY AGE (SOME OTHER RACE ALONE)</td>\n",
       "      <td>SEX BY AGE (TWO OR MORE RACES)</td>\n",
       "      <td>SEX BY AGE (TWO OR MORE RACES)</td>\n",
       "      <td>SEX BY AGE (WHITE ALONE, NOT HISPANIC OR LATINO)</td>\n",
       "      <td>SEX BY AGE (WHITE ALONE, NOT HISPANIC OR LATINO)</td>\n",
       "      <td>SEX BY AGE (HISPANIC OR LATINO)</td>\n",
       "      <td>SEX BY AGE (HISPANIC OR LATINO)</td>\n",
       "    </tr>\n",
       "  </tbody>\n",
       "</table>\n",
       "</div>"
      ],
      "text/plain": [
       "name              B01001A_001E              B01001A_002E  \\\n",
       "0     B01001A_001E              B01001A_002E               \n",
       "1     Estimate!!Total:          Estimate!!Total:!!Male:    \n",
       "2     SEX BY AGE (WHITE ALONE)  SEX BY AGE (WHITE ALONE)   \n",
       "\n",
       "name               B01001A_017E                                  B01001B_002E  \\\n",
       "0     B01001A_017E               B01001B_002E                                   \n",
       "1     Estimate!!Total:!!Female:  Estimate!!Total:!!Male:                        \n",
       "2     SEX BY AGE (WHITE ALONE)   SEX BY AGE (BLACK OR AFRICAN AMERICAN ALONE)   \n",
       "\n",
       "name                                  B01001B_017E  \\\n",
       "0     B01001B_017E                                   \n",
       "1     Estimate!!Total:!!Female:                      \n",
       "2     SEX BY AGE (BLACK OR AFRICAN AMERICAN ALONE)   \n",
       "\n",
       "name                                          B01001C_002E  \\\n",
       "0     B01001C_002E                                           \n",
       "1     Estimate!!Total:!!Male:                                \n",
       "2     SEX BY AGE (AMERICAN INDIAN AND ALASKA NATIVE ALONE)   \n",
       "\n",
       "name                                          B01001C_017E  \\\n",
       "0     B01001C_017E                                           \n",
       "1     Estimate!!Total:!!Female:                              \n",
       "2     SEX BY AGE (AMERICAN INDIAN AND ALASKA NATIVE ALONE)   \n",
       "\n",
       "name              B01001D_002E               B01001D_017E  \\\n",
       "0     B01001D_002E              B01001D_017E                \n",
       "1     Estimate!!Total:!!Male:   Estimate!!Total:!!Female:   \n",
       "2     SEX BY AGE (ASIAN ALONE)  SEX BY AGE (ASIAN ALONE)    \n",
       "\n",
       "name                                                   B01001E_002E  \\\n",
       "0     B01001E_002E                                                    \n",
       "1     Estimate!!Total:!!Male:                                         \n",
       "2     SEX BY AGE (NATIVE HAWAIIAN AND OTHER PACIFIC ISLANDER ALONE)   \n",
       "\n",
       "name                                                   B01001E_017E  \\\n",
       "0     B01001E_017E                                                    \n",
       "1     Estimate!!Total:!!Female:                                       \n",
       "2     SEX BY AGE (NATIVE HAWAIIAN AND OTHER PACIFIC ISLANDER ALONE)   \n",
       "\n",
       "name                        B01001F_002E                        B01001F_017E  \\\n",
       "0     B01001F_002E                        B01001F_017E                         \n",
       "1     Estimate!!Total:!!Male:             Estimate!!Total:!!Female:            \n",
       "2     SEX BY AGE (SOME OTHER RACE ALONE)  SEX BY AGE (SOME OTHER RACE ALONE)   \n",
       "\n",
       "name                    B01001G_002E                    B01001G_017E  \\\n",
       "0     B01001G_002E                    B01001G_017E                     \n",
       "1     Estimate!!Total:!!Male:         Estimate!!Total:!!Female:        \n",
       "2     SEX BY AGE (TWO OR MORE RACES)  SEX BY AGE (TWO OR MORE RACES)   \n",
       "\n",
       "name                                      B01001H_002E  \\\n",
       "0     B01001H_002E                                       \n",
       "1     Estimate!!Total:!!Male:                            \n",
       "2     SEX BY AGE (WHITE ALONE, NOT HISPANIC OR LATINO)   \n",
       "\n",
       "name                                      B01001H_017E  \\\n",
       "0     B01001H_017E                                       \n",
       "1     Estimate!!Total:!!Female:                          \n",
       "2     SEX BY AGE (WHITE ALONE, NOT HISPANIC OR LATINO)   \n",
       "\n",
       "name                     B01001I_002E                     B01001I_017E  \n",
       "0     B01001I_002E                     B01001I_017E                     \n",
       "1     Estimate!!Total:!!Male:          Estimate!!Total:!!Female:        \n",
       "2     SEX BY AGE (HISPANIC OR LATINO)  SEX BY AGE (HISPANIC OR LATINO)  "
      ]
     },
     "execution_count": 25,
     "metadata": {},
     "output_type": "execute_result"
    }
   ],
   "source": [
    "dfPoptranspose = dfPop.transpose()\n",
    "dfPoptranspose.columns = dfPoptranspose.iloc[0]\n",
    "dfPoptranspose=dfPoptranspose.reset_index()\n",
    "del dfPoptranspose['index']\n",
    "dfPoptranspose"
   ]
  },
  {
   "cell_type": "code",
   "execution_count": 16,
   "id": "statutory-installation",
   "metadata": {},
   "outputs": [
    {
     "ename": "NameError",
     "evalue": "name 'popDF' is not defined",
     "output_type": "error",
     "traceback": [
      "\u001b[1;31m---------------------------------------------------------------------------\u001b[0m",
      "\u001b[1;31mNameError\u001b[0m                                 Traceback (most recent call last)",
      "\u001b[1;32m<ipython-input-16-f08e0ebb1d89>\u001b[0m in \u001b[0;36m<module>\u001b[1;34m\u001b[0m\n\u001b[1;32m----> 1\u001b[1;33m \u001b[0mNYDemographics\u001b[0m \u001b[1;33m=\u001b[0m \u001b[0mdfPoptranspose\u001b[0m\u001b[1;33m.\u001b[0m\u001b[0mappend\u001b[0m\u001b[1;33m(\u001b[0m\u001b[0mpopDF\u001b[0m\u001b[1;33m,\u001b[0m\u001b[0msort\u001b[0m\u001b[1;33m=\u001b[0m\u001b[1;32mTrue\u001b[0m\u001b[1;33m)\u001b[0m\u001b[1;33m\u001b[0m\u001b[1;33m\u001b[0m\u001b[0m\n\u001b[0m\u001b[0;32m      2\u001b[0m \u001b[0mNYDemographics\u001b[0m\u001b[1;33m.\u001b[0m\u001b[0minsert\u001b[0m\u001b[1;33m(\u001b[0m\u001b[1;36m0\u001b[0m\u001b[1;33m,\u001b[0m \u001b[1;34m\"NAME\"\u001b[0m\u001b[1;33m,\u001b[0m \u001b[0mNYDemographics\u001b[0m\u001b[1;33m.\u001b[0m\u001b[0mpop\u001b[0m\u001b[1;33m(\u001b[0m\u001b[1;34m\"NAME\"\u001b[0m\u001b[1;33m)\u001b[0m\u001b[1;33m)\u001b[0m\u001b[1;33m\u001b[0m\u001b[1;33m\u001b[0m\u001b[0m\n\u001b[0;32m      3\u001b[0m \u001b[0mNYDemographics\u001b[0m\u001b[1;33m.\u001b[0m\u001b[0minsert\u001b[0m\u001b[1;33m(\u001b[0m\u001b[1;36m1\u001b[0m\u001b[1;33m,\u001b[0m \u001b[1;34m\"school district (unified)\"\u001b[0m\u001b[1;33m,\u001b[0m \u001b[0mNYDemographics\u001b[0m\u001b[1;33m.\u001b[0m\u001b[0mpop\u001b[0m\u001b[1;33m(\u001b[0m\u001b[1;34m\"school district (unified)\"\u001b[0m\u001b[1;33m)\u001b[0m\u001b[1;33m)\u001b[0m\u001b[1;33m\u001b[0m\u001b[1;33m\u001b[0m\u001b[0m\n\u001b[0;32m      4\u001b[0m \u001b[0mNYDemographics\u001b[0m\u001b[1;33m.\u001b[0m\u001b[0minsert\u001b[0m\u001b[1;33m(\u001b[0m\u001b[1;36m2\u001b[0m\u001b[1;33m,\u001b[0m \u001b[1;34m\"state\"\u001b[0m\u001b[1;33m,\u001b[0m \u001b[0mNYDemographics\u001b[0m\u001b[1;33m.\u001b[0m\u001b[0mpop\u001b[0m\u001b[1;33m(\u001b[0m\u001b[1;34m\"state\"\u001b[0m\u001b[1;33m)\u001b[0m\u001b[1;33m)\u001b[0m\u001b[1;33m\u001b[0m\u001b[1;33m\u001b[0m\u001b[0m\n\u001b[0;32m      5\u001b[0m \u001b[0mNYDemographics\u001b[0m\u001b[1;33m\u001b[0m\u001b[1;33m\u001b[0m\u001b[0m\n",
      "\u001b[1;31mNameError\u001b[0m: name 'popDF' is not defined"
     ]
    }
   ],
   "source": [
    "NYDemographics = dfPoptranspose.append(popDF,sort=True)\n",
    "NYDemographics.insert(0, \"NAME\", NYDemographics.pop(\"NAME\"))\n",
    "NYDemographics.insert(1, \"school district (unified)\", NYDemographics.pop(\"school district (unified)\"))\n",
    "NYDemographics.insert(2, \"state\", NYDemographics.pop(\"state\"))\n",
    "NYDemographics"
   ]
  },
  {
   "cell_type": "code",
   "execution_count": 17,
   "id": "behavioral-oklahoma",
   "metadata": {},
   "outputs": [],
   "source": [
    "# Filter by integer value\n",
    "# newDf = popDF.loc[(popDF['B01001A_001E']>40000)]\n",
    "# newDf"
   ]
  },
  {
   "cell_type": "code",
   "execution_count": null,
   "id": "fleet-falls",
   "metadata": {},
   "outputs": [],
   "source": []
  }
 ],
 "metadata": {
  "kernelspec": {
   "display_name": "Python 3",
   "language": "python",
   "name": "python3"
  },
  "language_info": {
   "codemirror_mode": {
    "name": "ipython",
    "version": 3
   },
   "file_extension": ".py",
   "mimetype": "text/x-python",
   "name": "python",
   "nbconvert_exporter": "python",
   "pygments_lexer": "ipython3",
   "version": "3.9.1"
  }
 },
 "nbformat": 4,
 "nbformat_minor": 5
}
